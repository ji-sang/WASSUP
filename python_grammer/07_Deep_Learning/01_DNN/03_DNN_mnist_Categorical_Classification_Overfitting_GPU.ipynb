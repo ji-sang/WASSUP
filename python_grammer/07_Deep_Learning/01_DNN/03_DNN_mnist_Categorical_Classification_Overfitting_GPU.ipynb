{
 "cells": [
  {
   "cell_type": "markdown",
   "metadata": {
    "id": "q2Pr7oBdYLdf"
   },
   "source": [
    "# MNIST - Categorical Classification\n",
    "> # Overfitting Issue\n",
    "## Import TensorFlow"
   ]
  },
  {
   "cell_type": "code",
   "execution_count": 1,
   "metadata": {
    "executionInfo": {
     "elapsed": 317,
     "status": "ok",
     "timestamp": 1705306735807,
     "user": {
      "displayName": "맹광국",
      "userId": "00860531964279012518"
     },
     "user_tz": -540
    },
    "id": "RbPgODpVzdHI"
   },
   "outputs": [],
   "source": [
    "import warnings\n",
    "warnings.filterwarnings('ignore')"
   ]
  },
  {
   "cell_type": "markdown",
   "metadata": {
    "id": "1jarjLPiQ8QJ"
   },
   "source": [
    "* import TensorFlow"
   ]
  },
  {
   "cell_type": "code",
   "execution_count": 2,
   "metadata": {
    "colab": {
     "base_uri": "https://localhost:8080/",
     "height": 35
    },
    "executionInfo": {
     "elapsed": 346,
     "status": "ok",
     "timestamp": 1705306737703,
     "user": {
      "displayName": "맹광국",
      "userId": "00860531964279012518"
     },
     "user_tz": -540
    },
    "id": "URmxW0HeGi0t",
    "outputId": "e3714a6d-dff0-4765-93fe-588a169549d8"
   },
   "outputs": [
    {
     "data": {
      "text/plain": [
       "'2.16.1'"
      ]
     },
     "execution_count": 2,
     "metadata": {},
     "output_type": "execute_result"
    }
   ],
   "source": [
    "import tensorflow as tf\n",
    "\n",
    "tf.__version__"
   ]
  },
  {
   "cell_type": "markdown",
   "metadata": {
    "id": "CINIwijHRA89"
   },
   "source": [
    "* GPU 설정 확인"
   ]
  },
  {
   "cell_type": "code",
   "execution_count": 3,
   "metadata": {
    "colab": {
     "base_uri": "https://localhost:8080/",
     "height": 35
    },
    "executionInfo": {
     "elapsed": 12,
     "status": "ok",
     "timestamp": 1705306739028,
     "user": {
      "displayName": "맹광국",
      "userId": "00860531964279012518"
     },
     "user_tz": -540
    },
    "id": "cy4qSc2TYzh8",
    "outputId": "cf11b562-433e-41d1-95db-1b9bbcc72882"
   },
   "outputs": [
    {
     "data": {
      "text/plain": [
       "''"
      ]
     },
     "execution_count": 3,
     "metadata": {},
     "output_type": "execute_result"
    }
   ],
   "source": [
    "tf.test.gpu_device_name()"
   ]
  },
  {
   "cell_type": "code",
   "execution_count": 4,
   "metadata": {
    "colab": {
     "base_uri": "https://localhost:8080/"
    },
    "executionInfo": {
     "elapsed": 367,
     "status": "ok",
     "timestamp": 1705306755900,
     "user": {
      "displayName": "맹광국",
      "userId": "00860531964279012518"
     },
     "user_tz": -540
    },
    "id": "WIjC-JPZYr3_",
    "outputId": "fe29e96e-9153-4355-ac38-49f7759991cf"
   },
   "outputs": [],
   "source": [
    "gpus = tf.config.experimental.list_physical_devices('GPU')\n",
    "for gpu in gpus:\n",
    "    print(\"Name:\", gpu.name, \"  Type:\", gpu.device_type)"
   ]
  },
  {
   "cell_type": "markdown",
   "metadata": {
    "id": "gMzr1MKNWIgO"
   },
   "source": [
    "* GPU 종류 확인"
   ]
  },
  {
   "cell_type": "code",
   "execution_count": 28,
   "metadata": {
    "colab": {
     "base_uri": "https://localhost:8080/"
    },
    "executionInfo": {
     "elapsed": 7,
     "status": "ok",
     "timestamp": 1705306758281,
     "user": {
      "displayName": "맹광국",
      "userId": "00860531964279012518"
     },
     "user_tz": -540
    },
    "id": "m-EVsqumY3qs",
    "outputId": "0f3bc82f-347c-46e3-895f-5eeba0b10d8b"
   },
   "outputs": [
    {
     "data": {
      "text/plain": [
       "[name: \"/device:CPU:0\"\n",
       " device_type: \"CPU\"\n",
       " memory_limit: 268435456\n",
       " locality {\n",
       " }\n",
       " incarnation: 1273209957555868365\n",
       " xla_global_id: -1,\n",
       " name: \"/device:GPU:0\"\n",
       " device_type: \"GPU\"\n",
       " memory_limit: 14626652160\n",
       " locality {\n",
       "   bus_id: 1\n",
       "   links {\n",
       "   }\n",
       " }\n",
       " incarnation: 8000151715602274491\n",
       " physical_device_desc: \"device: 0, name: Tesla T4, pci bus id: 0000:00:04.0, compute capability: 7.5\"\n",
       " xla_global_id: 416903419]"
      ]
     },
     "execution_count": 28,
     "metadata": {},
     "output_type": "execute_result"
    }
   ],
   "source": [
    "from tensorflow.python.client import device_lib\n",
    "\n",
    "device_lib.list_local_devices()"
   ]
  },
  {
   "cell_type": "code",
   "execution_count": 29,
   "metadata": {
    "colab": {
     "base_uri": "https://localhost:8080/"
    },
    "collapsed": true,
    "executionInfo": {
     "elapsed": 336,
     "status": "ok",
     "timestamp": 1705306762654,
     "user": {
      "displayName": "맹광국",
      "userId": "00860531964279012518"
     },
     "user_tz": -540
    },
    "id": "ySdPY_ihWH1G",
    "outputId": "c04e8643-930f-4111-f625-11c937007499"
   },
   "outputs": [
    {
     "name": "stdout",
     "output_type": "stream",
     "text": [
      "Mon Jan 15 08:19:21 2024       \n",
      "+---------------------------------------------------------------------------------------+\n",
      "| NVIDIA-SMI 535.104.05             Driver Version: 535.104.05   CUDA Version: 12.2     |\n",
      "|-----------------------------------------+----------------------+----------------------+\n",
      "| GPU  Name                 Persistence-M | Bus-Id        Disp.A | Volatile Uncorr. ECC |\n",
      "| Fan  Temp   Perf          Pwr:Usage/Cap |         Memory-Usage | GPU-Util  Compute M. |\n",
      "|                                         |                      |               MIG M. |\n",
      "|=========================================+======================+======================|\n",
      "|   0  Tesla T4                       Off | 00000000:00:04.0 Off |                    0 |\n",
      "| N/A   52C    P0              28W /  70W |    387MiB / 15360MiB |      0%      Default |\n",
      "|                                         |                      |                  N/A |\n",
      "+-----------------------------------------+----------------------+----------------------+\n",
      "                                                                                         \n",
      "+---------------------------------------------------------------------------------------+\n",
      "| Processes:                                                                            |\n",
      "|  GPU   GI   CI        PID   Type   Process name                            GPU Memory |\n",
      "|        ID   ID                                                             Usage      |\n",
      "|=======================================================================================|\n",
      "+---------------------------------------------------------------------------------------+\n"
     ]
    }
   ],
   "source": [
    "!nvidia-smi"
   ]
  },
  {
   "cell_type": "code",
   "execution_count": 30,
   "metadata": {
    "colab": {
     "base_uri": "https://localhost:8080/"
    },
    "executionInfo": {
     "elapsed": 355,
     "status": "ok",
     "timestamp": 1705306793190,
     "user": {
      "displayName": "맹광국",
      "userId": "00860531964279012518"
     },
     "user_tz": -540
    },
    "id": "agAS8bFBY514",
    "outputId": "79f414bd-b4d3-4d6d-ef94-8bb8fa309681"
   },
   "outputs": [
    {
     "data": {
      "text/plain": [
       "True"
      ]
     },
     "execution_count": 30,
     "metadata": {},
     "output_type": "execute_result"
    }
   ],
   "source": [
    "tf.test.is_gpu_available()"
   ]
  },
  {
   "cell_type": "markdown",
   "metadata": {
    "id": "H49A769LYp-a"
   },
   "source": [
    "# I. MNIST Data_Set Load & Review"
   ]
  },
  {
   "cell_type": "markdown",
   "metadata": {
    "id": "vb6EIkRcbPb4"
   },
   "source": [
    "> ## 1) Load MNIST Data_Set"
   ]
  },
  {
   "cell_type": "code",
   "execution_count": 31,
   "metadata": {
    "executionInfo": {
     "elapsed": 429,
     "status": "ok",
     "timestamp": 1705306803424,
     "user": {
      "displayName": "맹광국",
      "userId": "00860531964279012518"
     },
     "user_tz": -540
    },
    "id": "DxstjE8b_6Te"
   },
   "outputs": [],
   "source": [
    "from tensorflow.keras.datasets import mnist\n",
    "\n",
    "(X_train, y_train), (X_test, y_test) = mnist.load_data()"
   ]
  },
  {
   "cell_type": "markdown",
   "metadata": {
    "id": "Mt11QE0EHCiJ"
   },
   "source": [
    "* Train_Data Information"
   ]
  },
  {
   "cell_type": "code",
   "execution_count": 32,
   "metadata": {
    "colab": {
     "base_uri": "https://localhost:8080/"
    },
    "executionInfo": {
     "elapsed": 350,
     "status": "ok",
     "timestamp": 1705306808472,
     "user": {
      "displayName": "맹광국",
      "userId": "00860531964279012518"
     },
     "user_tz": -540
    },
    "id": "KT_Mr_Hb__VH",
    "outputId": "6c92a5a6-4998-4703-b7dc-22483f4c7a5f"
   },
   "outputs": [
    {
     "name": "stdout",
     "output_type": "stream",
     "text": [
      "60000\n",
      "(60000, 28, 28)\n",
      "\n",
      "60000\n",
      "[5 0 4 1 9]\n"
     ]
    }
   ],
   "source": [
    "print(len(X_train))\n",
    "print(X_train.shape)\n",
    "print()\n",
    "print(len(y_train))\n",
    "print(y_train[0:5])"
   ]
  },
  {
   "cell_type": "markdown",
   "metadata": {
    "id": "QolAqIwgHGRI"
   },
   "source": [
    "* Test_Data Information"
   ]
  },
  {
   "cell_type": "code",
   "execution_count": 33,
   "metadata": {
    "colab": {
     "base_uri": "https://localhost:8080/"
    },
    "executionInfo": {
     "elapsed": 350,
     "status": "ok",
     "timestamp": 1705306818874,
     "user": {
      "displayName": "맹광국",
      "userId": "00860531964279012518"
     },
     "user_tz": -540
    },
    "id": "NtkD2BKUANZE",
    "outputId": "1db654cf-63b9-4f0c-d65c-eda30476fb18"
   },
   "outputs": [
    {
     "name": "stdout",
     "output_type": "stream",
     "text": [
      "10000\n",
      "(10000, 28, 28)\n",
      "\n",
      "10000\n",
      "[7 2 1 0 4]\n"
     ]
    }
   ],
   "source": [
    "print(len(X_test))\n",
    "print(X_test.shape)\n",
    "print()\n",
    "print(len(y_test))\n",
    "print(y_test[0:5])"
   ]
  },
  {
   "cell_type": "markdown",
   "metadata": {
    "id": "BBSg_oWbZCyr"
   },
   "source": [
    "> ## 2) Visualization"
   ]
  },
  {
   "cell_type": "markdown",
   "metadata": {
    "id": "sqmRZEBOC-Z9"
   },
   "source": [
    "* matplotlib"
   ]
  },
  {
   "cell_type": "code",
   "execution_count": 34,
   "metadata": {
    "colab": {
     "base_uri": "https://localhost:8080/",
     "height": 144
    },
    "executionInfo": {
     "elapsed": 486,
     "status": "ok",
     "timestamp": 1705306823420,
     "user": {
      "displayName": "맹광국",
      "userId": "00860531964279012518"
     },
     "user_tz": -540
    },
    "id": "OV19FumXAWGH",
    "outputId": "f050f5ba-e1e2-4d46-db14-c163db6742b0"
   },
   "outputs": [
    {
     "data": {
      "image/png": "[encoded data removed]",
      "text/plain": [
       "<Figure size 2000x400 with 5 Axes>"
      ]
     },
     "metadata": {},
     "output_type": "display_data"
    }
   ],
   "source": [
    "import matplotlib.pyplot as plt\n",
    "\n",
    "plt.figure(figsize = (20, 4))\n",
    "for idx in range(5):\n",
    "    label = y_train[idx]\n",
    "    plt.subplot(1, 5, idx + 1)\n",
    "    plt.xticks([])\n",
    "    plt.yticks([])\n",
    "    plt.imshow(X_train[idx], cmap = 'gray')\n",
    "    plt.title('Index - %d, Label - %d' % (idx, label), fontsize = 20)\n",
    "plt.show()"
   ]
  },
  {
   "cell_type": "markdown",
   "metadata": {
    "id": "J7xUhlAODBbO"
   },
   "source": [
    "* NumPy Array"
   ]
  },
  {
   "cell_type": "code",
   "execution_count": 35,
   "metadata": {
    "cellView": "code",
    "colab": {
     "base_uri": "https://localhost:8080/"
    },
    "collapsed": true,
    "executionInfo": {
     "elapsed": 311,
     "status": "ok",
     "timestamp": 1705306829829,
     "user": {
      "displayName": "맹광국",
      "userId": "00860531964279012518"
     },
     "user_tz": -540
    },
    "id": "wWXMkCE8NyAg",
    "outputId": "227b4cb7-cef7-4954-e1ad-fd7542635030"
   },
   "outputs": [
    {
     "name": "stdout",
     "output_type": "stream",
     "text": [
      "[[  0   0   0   0   0   0   0   0   0   0   0   0   0   0   0   0   0   0   0   0   0   0   0   0   0   0   0   0]\n",
      " [  0   0   0   0   0   0   0   0   0   0   0   0   0   0   0   0   0   0   0   0   0   0   0   0   0   0   0   0]\n",
      " [  0   0   0   0   0   0   0   0   0   0   0   0   0   0   0   0   0   0   0   0   0   0   0   0   0   0   0   0]\n",
      " [  0   0   0   0   0   0   0   0   0   0   0   0   0   0   0   0   0   0   0   0   0   0   0   0   0   0   0   0]\n",
      " [  0   0   0   0   0   0   0   0   0   0   0   0   0   0   0   0   0   0   0   0   0   0   0   0   0   0   0   0]\n",
      " [  0   0   0   0   0   0   0   0   0   0   0   0   0   0   0   0   0   0   0   0   0   0   0   0   0   0   0   0]\n",
      " [  0   0   0   0   0   0   0   0   0   0   0   0   0   0   0   0   0   0   0   0   0   0   0   0   0   0   0   0]\n",
      " [  0   0   0   0   0   0   0   0   0   0   0   0  55 148 210 253 253 113  87 148  55   0   0   0   0   0   0   0]\n",
      " [  0   0   0   0   0   0   0   0   0   0   0  87 232 252 253 189 210 252 252 253 168   0   0   0   0   0   0   0]\n",
      " [  0   0   0   0   0   0   0   0   0   4  57 242 252 190  65   5  12 182 252 253 116   0   0   0   0   0   0   0]\n",
      " [  0   0   0   0   0   0   0   0   0  96 252 252 183  14   0   0  92 252 252 225  21   0   0   0   0   0   0   0]\n",
      " [  0   0   0   0   0   0   0   0 132 253 252 146  14   0   0   0 215 252 252  79   0   0   0   0   0   0   0   0]\n",
      " [  0   0   0   0   0   0   0 126 253 247 176   9   0   0   8  78 245 253 129   0   0   0   0   0   0   0   0   0]\n",
      " [  0   0   0   0   0   0  16 232 252 176   0   0   0  36 201 252 252 169  11   0   0   0   0   0   0   0   0   0]\n",
      " [  0   0   0   0   0   0  22 252 252  30  22 119 197 241 253 252 251  77   0   0   0   0   0   0   0   0   0   0]\n",
      " [  0   0   0   0   0   0  16 231 252 253 252 252 252 226 227 252 231   0   0   0   0   0   0   0   0   0   0   0]\n",
      " [  0   0   0   0   0   0   0  55 235 253 217 138  42  24 192 252 143   0   0   0   0   0   0   0   0   0   0   0]\n",
      " [  0   0   0   0   0   0   0   0   0   0   0   0   0  62 255 253 109   0   0   0   0   0   0   0   0   0   0   0]\n",
      " [  0   0   0   0   0   0   0   0   0   0   0   0   0  71 253 252  21   0   0   0   0   0   0   0   0   0   0   0]\n",
      " [  0   0   0   0   0   0   0   0   0   0   0   0   0   0 253 252  21   0   0   0   0   0   0   0   0   0   0   0]\n",
      " [  0   0   0   0   0   0   0   0   0   0   0   0   0  71 253 252  21   0   0   0   0   0   0   0   0   0   0   0]\n",
      " [  0   0   0   0   0   0   0   0   0   0   0   0   0 106 253 252  21   0   0   0   0   0   0   0   0   0   0   0]\n",
      " [  0   0   0   0   0   0   0   0   0   0   0   0   0  45 255 253  21   0   0   0   0   0   0   0   0   0   0   0]\n",
      " [  0   0   0   0   0   0   0   0   0   0   0   0   0   0 218 252  56   0   0   0   0   0   0   0   0   0   0   0]\n",
      " [  0   0   0   0   0   0   0   0   0   0   0   0   0   0  96 252 189  42   0   0   0   0   0   0   0   0   0   0]\n",
      " [  0   0   0   0   0   0   0   0   0   0   0   0   0   0  14 184 252 170  11   0   0   0   0   0   0   0   0   0]\n",
      " [  0   0   0   0   0   0   0   0   0   0   0   0   0   0   0  14 147 252  42   0   0   0   0   0   0   0   0   0]\n",
      " [  0   0   0   0   0   0   0   0   0   0   0   0   0   0   0   0   0   0   0   0   0   0   0   0   0   0   0   0]]\n"
     ]
    }
   ],
   "source": [
    "import numpy as np\n",
    "np.set_printoptions(linewidth = 150, precision = 2)\n",
    "\n",
    "print(X_train[4])"
   ]
  },
  {
   "cell_type": "markdown",
   "metadata": {
    "id": "Mk9XL5vGHor6"
   },
   "source": [
    "# II. Data Preprocessing"
   ]
  },
  {
   "cell_type": "markdown",
   "metadata": {
    "id": "ec8zU4XCZRUF"
   },
   "source": [
    "> ## 1) Normalization"
   ]
  },
  {
   "cell_type": "markdown",
   "metadata": {
    "id": "UN-xPWjYIeWL"
   },
   "source": [
    "* 범위: 0 ~ 1"
   ]
  },
  {
   "cell_type": "code",
   "execution_count": 36,
   "metadata": {
    "executionInfo": {
     "elapsed": 461,
     "status": "ok",
     "timestamp": 1705306857734,
     "user": {
      "displayName": "맹광국",
      "userId": "00860531964279012518"
     },
     "user_tz": -540
    },
    "id": "SoGHuYeFIGBj"
   },
   "outputs": [],
   "source": [
    "X_train = X_train.astype(float) / 255\n",
    "X_test = X_test.astype(float) / 255"
   ]
  },
  {
   "cell_type": "code",
   "execution_count": 37,
   "metadata": {
    "colab": {
     "base_uri": "https://localhost:8080/"
    },
    "collapsed": true,
    "executionInfo": {
     "elapsed": 4,
     "status": "ok",
     "timestamp": 1705306858088,
     "user": {
      "displayName": "맹광국",
      "userId": "00860531964279012518"
     },
     "user_tz": -540
    },
    "id": "m1HezAboV-x8",
    "outputId": "9f269e7e-abe5-4bfd-f594-78dd00ed3ef8"
   },
   "outputs": [
    {
     "name": "stdout",
     "output_type": "stream",
     "text": [
      "[[0.   0.   0.   0.   0.   0.   0.   0.   0.   0.   0.   0.   0.   0.   0.   0.   0.   0.   0.   0.   0.   0.   0.   0.   0.   0.   0.   0.  ]\n",
      " [0.   0.   0.   0.   0.   0.   0.   0.   0.   0.   0.   0.   0.   0.   0.   0.   0.   0.   0.   0.   0.   0.   0.   0.   0.   0.   0.   0.  ]\n",
      " [0.   0.   0.   0.   0.   0.   0.   0.   0.   0.   0.   0.   0.   0.   0.   0.   0.   0.   0.   0.   0.   0.   0.   0.   0.   0.   0.   0.  ]\n",
      " [0.   0.   0.   0.   0.   0.   0.   0.   0.   0.   0.   0.   0.   0.   0.   0.   0.   0.   0.   0.   0.   0.   0.   0.   0.   0.   0.   0.  ]\n",
      " [0.   0.   0.   0.   0.   0.   0.   0.   0.   0.   0.   0.   0.   0.   0.   0.   0.   0.   0.   0.   0.   0.   0.   0.   0.   0.   0.   0.  ]\n",
      " [0.   0.   0.   0.   0.   0.   0.   0.   0.   0.   0.   0.   0.   0.   0.   0.   0.   0.   0.   0.   0.   0.   0.   0.   0.   0.   0.   0.  ]\n",
      " [0.   0.   0.   0.   0.   0.   0.   0.   0.   0.   0.   0.   0.   0.   0.   0.   0.   0.   0.   0.   0.   0.   0.   0.   0.   0.   0.   0.  ]\n",
      " [0.   0.   0.   0.   0.   0.   0.   0.   0.   0.   0.   0.   0.22 0.58 0.82 0.99 0.99 0.44 0.34 0.58 0.22 0.   0.   0.   0.   0.   0.   0.  ]\n",
      " [0.   0.   0.   0.   0.   0.   0.   0.   0.   0.   0.   0.34 0.91 0.99 0.99 0.74 0.82 0.99 0.99 0.99 0.66 0.   0.   0.   0.   0.   0.   0.  ]\n",
      " [0.   0.   0.   0.   0.   0.   0.   0.   0.   0.02 0.22 0.95 0.99 0.75 0.25 0.02 0.05 0.71 0.99 0.99 0.45 0.   0.   0.   0.   0.   0.   0.  ]\n",
      " [0.   0.   0.   0.   0.   0.   0.   0.   0.   0.38 0.99 0.99 0.72 0.05 0.   0.   0.36 0.99 0.99 0.88 0.08 0.   0.   0.   0.   0.   0.   0.  ]\n",
      " [0.   0.   0.   0.   0.   0.   0.   0.   0.52 0.99 0.99 0.57 0.05 0.   0.   0.   0.84 0.99 0.99 0.31 0.   0.   0.   0.   0.   0.   0.   0.  ]\n",
      " [0.   0.   0.   0.   0.   0.   0.   0.49 0.99 0.97 0.69 0.04 0.   0.   0.03 0.31 0.96 0.99 0.51 0.   0.   0.   0.   0.   0.   0.   0.   0.  ]\n",
      " [0.   0.   0.   0.   0.   0.   0.06 0.91 0.99 0.69 0.   0.   0.   0.14 0.79 0.99 0.99 0.66 0.04 0.   0.   0.   0.   0.   0.   0.   0.   0.  ]\n",
      " [0.   0.   0.   0.   0.   0.   0.09 0.99 0.99 0.12 0.09 0.47 0.77 0.95 0.99 0.99 0.98 0.3  0.   0.   0.   0.   0.   0.   0.   0.   0.   0.  ]\n",
      " [0.   0.   0.   0.   0.   0.   0.06 0.91 0.99 0.99 0.99 0.99 0.99 0.89 0.89 0.99 0.91 0.   0.   0.   0.   0.   0.   0.   0.   0.   0.   0.  ]\n",
      " [0.   0.   0.   0.   0.   0.   0.   0.22 0.92 0.99 0.85 0.54 0.16 0.09 0.75 0.99 0.56 0.   0.   0.   0.   0.   0.   0.   0.   0.   0.   0.  ]\n",
      " [0.   0.   0.   0.   0.   0.   0.   0.   0.   0.   0.   0.   0.   0.24 1.   0.99 0.43 0.   0.   0.   0.   0.   0.   0.   0.   0.   0.   0.  ]\n",
      " [0.   0.   0.   0.   0.   0.   0.   0.   0.   0.   0.   0.   0.   0.28 0.99 0.99 0.08 0.   0.   0.   0.   0.   0.   0.   0.   0.   0.   0.  ]\n",
      " [0.   0.   0.   0.   0.   0.   0.   0.   0.   0.   0.   0.   0.   0.   0.99 0.99 0.08 0.   0.   0.   0.   0.   0.   0.   0.   0.   0.   0.  ]\n",
      " [0.   0.   0.   0.   0.   0.   0.   0.   0.   0.   0.   0.   0.   0.28 0.99 0.99 0.08 0.   0.   0.   0.   0.   0.   0.   0.   0.   0.   0.  ]\n",
      " [0.   0.   0.   0.   0.   0.   0.   0.   0.   0.   0.   0.   0.   0.42 0.99 0.99 0.08 0.   0.   0.   0.   0.   0.   0.   0.   0.   0.   0.  ]\n",
      " [0.   0.   0.   0.   0.   0.   0.   0.   0.   0.   0.   0.   0.   0.18 1.   0.99 0.08 0.   0.   0.   0.   0.   0.   0.   0.   0.   0.   0.  ]\n",
      " [0.   0.   0.   0.   0.   0.   0.   0.   0.   0.   0.   0.   0.   0.   0.85 0.99 0.22 0.   0.   0.   0.   0.   0.   0.   0.   0.   0.   0.  ]\n",
      " [0.   0.   0.   0.   0.   0.   0.   0.   0.   0.   0.   0.   0.   0.   0.38 0.99 0.74 0.16 0.   0.   0.   0.   0.   0.   0.   0.   0.   0.  ]\n",
      " [0.   0.   0.   0.   0.   0.   0.   0.   0.   0.   0.   0.   0.   0.   0.05 0.72 0.99 0.67 0.04 0.   0.   0.   0.   0.   0.   0.   0.   0.  ]\n",
      " [0.   0.   0.   0.   0.   0.   0.   0.   0.   0.   0.   0.   0.   0.   0.   0.05 0.58 0.99 0.16 0.   0.   0.   0.   0.   0.   0.   0.   0.  ]\n",
      " [0.   0.   0.   0.   0.   0.   0.   0.   0.   0.   0.   0.   0.   0.   0.   0.   0.   0.   0.   0.   0.   0.   0.   0.   0.   0.   0.   0.  ]]\n"
     ]
    }
   ],
   "source": [
    "print(X_train[4])"
   ]
  },
  {
   "cell_type": "markdown",
   "metadata": {
    "id": "olI6ZPtEIb8H"
   },
   "source": [
    "> ## 2) Reshape\n",
    "\n",
    " * (60000, 28, 28) to (60000, 784)"
   ]
  },
  {
   "cell_type": "code",
   "execution_count": 38,
   "metadata": {
    "colab": {
     "base_uri": "https://localhost:8080/"
    },
    "executionInfo": {
     "elapsed": 353,
     "status": "ok",
     "timestamp": 1705306891332,
     "user": {
      "displayName": "맹광국",
      "userId": "00860531964279012518"
     },
     "user_tz": -540
    },
    "id": "8-toPn1ZAmFd",
    "outputId": "aa573656-a250-4508-bc53-ce7bc0b5ddc3"
   },
   "outputs": [
    {
     "data": {
      "text/plain": [
       "((60000, 784), (10000, 784))"
      ]
     },
     "execution_count": 38,
     "metadata": {},
     "output_type": "execute_result"
    }
   ],
   "source": [
    "X_train = X_train.reshape((60000, 28 * 28))\n",
    "X_test = X_test.reshape((10000, 28 * 28))\n",
    "\n",
    "X_train.shape, X_test.shape"
   ]
  },
  {
   "cell_type": "markdown",
   "metadata": {
    "id": "BtSROU80aF12"
   },
   "source": [
    "> ## 3) One Hot Encoding"
   ]
  },
  {
   "cell_type": "code",
   "execution_count": 39,
   "metadata": {
    "executionInfo": {
     "elapsed": 353,
     "status": "ok",
     "timestamp": 1705306905849,
     "user": {
      "displayName": "맹광국",
      "userId": "00860531964279012518"
     },
     "user_tz": -540
    },
    "id": "eC48Oym3Ao8E"
   },
   "outputs": [],
   "source": [
    "from tensorflow.keras.utils import to_categorical\n",
    "\n",
    "y_train = to_categorical(y_train)\n",
    "y_test = to_categorical(y_test)"
   ]
  },
  {
   "cell_type": "code",
   "execution_count": 40,
   "metadata": {
    "colab": {
     "base_uri": "https://localhost:8080/"
    },
    "executionInfo": {
     "elapsed": 325,
     "status": "ok",
     "timestamp": 1705306921961,
     "user": {
      "displayName": "맹광국",
      "userId": "00860531964279012518"
     },
     "user_tz": -540
    },
    "id": "q1O-NsoJMyWU",
    "outputId": "10e1eb7c-8f4f-4eb9-b137-bb290680cc96"
   },
   "outputs": [
    {
     "name": "stdout",
     "output_type": "stream",
     "text": [
      "[[0. 0. 0. 0. 0. 1. 0. 0. 0. 0.]\n",
      " [1. 0. 0. 0. 0. 0. 0. 0. 0. 0.]\n",
      " [0. 0. 0. 0. 1. 0. 0. 0. 0. 0.]\n",
      " [0. 1. 0. 0. 0. 0. 0. 0. 0. 0.]\n",
      " [0. 0. 0. 0. 0. 0. 0. 0. 0. 1.]]\n"
     ]
    }
   ],
   "source": [
    "print(y_train[:5])"
   ]
  },
  {
   "cell_type": "markdown",
   "metadata": {
    "id": "5Y0xaGNzYkI2"
   },
   "source": [
    "> ## 4) train_test_split( )\n",
    "\n",
    "* Train(48,000) vs. Validation(12,000)"
   ]
  },
  {
   "cell_type": "code",
   "execution_count": 46,
   "metadata": {
    "executionInfo": {
     "elapsed": 6,
     "status": "ok",
     "timestamp": 1705307205635,
     "user": {
      "displayName": "맹광국",
      "userId": "00860531964279012518"
     },
     "user_tz": -540
    },
    "id": "5yzVd1K4OuXh"
   },
   "outputs": [],
   "source": [
    "train_test_split?"
   ]
  },
  {
   "cell_type": "code",
   "execution_count": 41,
   "metadata": {
    "colab": {
     "base_uri": "https://localhost:8080/"
    },
    "executionInfo": {
     "elapsed": 369,
     "status": "ok",
     "timestamp": 1705306965831,
     "user": {
      "displayName": "맹광국",
      "userId": "00860531964279012518"
     },
     "user_tz": -540
    },
    "id": "zdpfzw3TXRHG",
    "outputId": "8876b465-21bd-435b-aa18-1896db260226"
   },
   "outputs": [
    {
     "data": {
      "text/plain": [
       "((48000, 784), (48000, 10), (12000, 784), (12000, 10))"
      ]
     },
     "execution_count": 41,
     "metadata": {},
     "output_type": "execute_result"
    }
   ],
   "source": [
    "from sklearn.model_selection import train_test_split\n",
    "\n",
    "X_train, X_valid, y_train, y_valid = train_test_split(X_train, y_train,\n",
    "                                                      test_size = 0.2,\n",
    "                                                      random_state = 2045)\n",
    "\n",
    "X_train.shape, y_train.shape, X_valid.shape, y_valid.shape"
   ]
  },
  {
   "cell_type": "markdown",
   "metadata": {
    "id": "NTwZiSjiop3v"
   },
   "source": [
    "# III. MNIST Keras Modeling"
   ]
  },
  {
   "cell_type": "markdown",
   "metadata": {
    "id": "j5CT0TurJCkc"
   },
   "source": [
    "> ## 1) Model Define"
   ]
  },
  {
   "cell_type": "markdown",
   "metadata": {
    "id": "ydDCl0jTJD58"
   },
   "source": [
    "* 모델 신경망 구조 정의\n",
    " - 2개의 Hidden Layers & 768개의 Nodes\n",
    " - 복잡한 Model Capacity로 인한 Overfitting"
   ]
  },
  {
   "cell_type": "code",
   "execution_count": 42,
   "metadata": {
    "executionInfo": {
     "elapsed": 331,
     "status": "ok",
     "timestamp": 1705307052925,
     "user": {
      "displayName": "맹광국",
      "userId": "00860531964279012518"
     },
     "user_tz": -540
    },
    "id": "II0DskRdAcHS"
   },
   "outputs": [],
   "source": [
    "from tensorflow.keras import models\n",
    "from tensorflow.keras import layers\n",
    "\n",
    "mnist = models.Sequential()\n",
    "mnist.add(layers.Dense(512, activation = 'relu', input_shape = (28*28,)))\n",
    "mnist.add(layers.Dense(256, activation = 'relu'))\n",
    "mnist.add(layers.Dense(10, activation = 'softmax'))"
   ]
  },
  {
   "cell_type": "markdown",
   "metadata": {
    "id": "PqrObAHZJTN8"
   },
   "source": [
    "* 모델 구조 확인"
   ]
  },
  {
   "cell_type": "code",
   "execution_count": 43,
   "metadata": {
    "colab": {
     "base_uri": "https://localhost:8080/"
    },
    "executionInfo": {
     "elapsed": 352,
     "status": "ok",
     "timestamp": 1705307055832,
     "user": {
      "displayName": "맹광국",
      "userId": "00860531964279012518"
     },
     "user_tz": -540
    },
    "id": "wbtjOA4XMTUd",
    "outputId": "02899d97-ae8b-4d6e-f578-35473e3dbb59"
   },
   "outputs": [
    {
     "name": "stdout",
     "output_type": "stream",
     "text": [
      "Model: \"sequential_1\"\n",
      "_________________________________________________________________\n",
      " Layer (type)                Output Shape              Param #   \n",
      "=================================================================\n",
      " dense_3 (Dense)             (None, 512)               401920    \n",
      "                                                                 \n",
      " dense_4 (Dense)             (None, 256)               131328    \n",
      "                                                                 \n",
      " dense_5 (Dense)             (None, 10)                2570      \n",
      "                                                                 \n",
      "=================================================================\n",
      "Total params: 535818 (2.04 MB)\n",
      "Trainable params: 535818 (2.04 MB)\n",
      "Non-trainable params: 0 (0.00 Byte)\n",
      "_________________________________________________________________\n"
     ]
    }
   ],
   "source": [
    "mnist.summary()"
   ]
  },
  {
   "cell_type": "markdown",
   "metadata": {
    "id": "tpjBDBeYoyuj"
   },
   "source": [
    "> ## 2) Model Compile"
   ]
  },
  {
   "cell_type": "markdown",
   "metadata": {
    "id": "f3sxkQa0JoUr"
   },
   "source": [
    "* 모델 학습방법 설정"
   ]
  },
  {
   "cell_type": "code",
   "execution_count": 44,
   "metadata": {
    "executionInfo": {
     "elapsed": 3,
     "status": "ok",
     "timestamp": 1705307063887,
     "user": {
      "displayName": "맹광국",
      "userId": "00860531964279012518"
     },
     "user_tz": -540
    },
    "id": "AyK_t1qwAi6M"
   },
   "outputs": [],
   "source": [
    "mnist.compile(loss = 'categorical_crossentropy',\n",
    "              optimizer = 'adam',\n",
    "              metrics = ['accuracy'])"
   ]
  },
  {
   "cell_type": "markdown",
   "metadata": {
    "id": "umiq4B-Xo3OB"
   },
   "source": [
    "> ## 3) Model Fit"
   ]
  },
  {
   "cell_type": "markdown",
   "metadata": {
    "id": "1KuXREziKMD1"
   },
   "source": [
    "* 약 4분"
   ]
  },
  {
   "cell_type": "code",
   "execution_count": 47,
   "metadata": {
    "executionInfo": {
     "elapsed": 421,
     "status": "ok",
     "timestamp": 1705307327753,
     "user": {
      "displayName": "맹광국",
      "userId": "00860531964279012518"
     },
     "user_tz": -540
    },
    "id": "ztPUsP-GZ7j8"
   },
   "outputs": [],
   "source": [
    "mnist.fit?"
   ]
  },
  {
   "cell_type": "code",
   "execution_count": 45,
   "metadata": {
    "colab": {
     "base_uri": "https://localhost:8080/"
    },
    "collapsed": true,
    "executionInfo": {
     "elapsed": 63432,
     "status": "ok",
     "timestamp": 1705307148950,
     "user": {
      "displayName": "맹광국",
      "userId": "00860531964279012518"
     },
     "user_tz": -540
    },
    "id": "zxwqwAqRAqRP",
    "outputId": "6060b392-1836-49d1-bd90-1a9ab4961d62"
   },
   "outputs": [
    {
     "name": "stdout",
     "output_type": "stream",
     "text": [
      "Epoch 1/50\n",
      "300/300 [==============================] - 3s 5ms/step - loss: 0.2761 - accuracy: 0.9200 - val_loss: 0.1458 - val_accuracy: 0.9546\n",
      "Epoch 2/50\n",
      "300/300 [==============================] - 1s 4ms/step - loss: 0.0989 - accuracy: 0.9697 - val_loss: 0.1006 - val_accuracy: 0.9683\n",
      "Epoch 3/50\n",
      "300/300 [==============================] - 1s 4ms/step - loss: 0.0629 - accuracy: 0.9803 - val_loss: 0.0910 - val_accuracy: 0.9727\n",
      "Epoch 4/50\n",
      "300/300 [==============================] - 1s 4ms/step - loss: 0.0409 - accuracy: 0.9873 - val_loss: 0.0839 - val_accuracy: 0.9751\n",
      "Epoch 5/50\n",
      "300/300 [==============================] - 1s 4ms/step - loss: 0.0273 - accuracy: 0.9912 - val_loss: 0.0893 - val_accuracy: 0.9729\n",
      "Epoch 6/50\n",
      "300/300 [==============================] - 1s 4ms/step - loss: 0.0184 - accuracy: 0.9943 - val_loss: 0.0865 - val_accuracy: 0.9750\n",
      "Epoch 7/50\n",
      "300/300 [==============================] - 2s 5ms/step - loss: 0.0193 - accuracy: 0.9940 - val_loss: 0.0890 - val_accuracy: 0.9762\n",
      "Epoch 8/50\n",
      "300/300 [==============================] - 1s 5ms/step - loss: 0.0142 - accuracy: 0.9957 - val_loss: 0.0836 - val_accuracy: 0.9774\n",
      "Epoch 9/50\n",
      "300/300 [==============================] - 1s 3ms/step - loss: 0.0158 - accuracy: 0.9949 - val_loss: 0.0872 - val_accuracy: 0.9786\n",
      "Epoch 10/50\n",
      "300/300 [==============================] - 1s 4ms/step - loss: 0.0070 - accuracy: 0.9982 - val_loss: 0.1204 - val_accuracy: 0.9736\n",
      "Epoch 11/50\n",
      "300/300 [==============================] - 1s 4ms/step - loss: 0.0090 - accuracy: 0.9968 - val_loss: 0.1056 - val_accuracy: 0.9755\n",
      "Epoch 12/50\n",
      "300/300 [==============================] - 1s 4ms/step - loss: 0.0144 - accuracy: 0.9952 - val_loss: 0.1083 - val_accuracy: 0.9750\n",
      "Epoch 13/50\n",
      "300/300 [==============================] - 1s 4ms/step - loss: 0.0134 - accuracy: 0.9955 - val_loss: 0.1015 - val_accuracy: 0.9768\n",
      "Epoch 14/50\n",
      "300/300 [==============================] - 1s 4ms/step - loss: 0.0101 - accuracy: 0.9967 - val_loss: 0.1176 - val_accuracy: 0.9737\n",
      "Epoch 15/50\n",
      "300/300 [==============================] - 1s 4ms/step - loss: 0.0101 - accuracy: 0.9968 - val_loss: 0.0945 - val_accuracy: 0.9796\n",
      "Epoch 16/50\n",
      "300/300 [==============================] - 1s 4ms/step - loss: 0.0035 - accuracy: 0.9988 - val_loss: 0.1012 - val_accuracy: 0.9774\n",
      "Epoch 17/50\n",
      "300/300 [==============================] - 1s 4ms/step - loss: 0.0058 - accuracy: 0.9983 - val_loss: 0.1049 - val_accuracy: 0.9785\n",
      "Epoch 18/50\n",
      "300/300 [==============================] - 2s 6ms/step - loss: 0.0058 - accuracy: 0.9983 - val_loss: 0.1158 - val_accuracy: 0.9748\n",
      "Epoch 19/50\n",
      "300/300 [==============================] - 1s 5ms/step - loss: 0.0150 - accuracy: 0.9952 - val_loss: 0.1199 - val_accuracy: 0.9742\n",
      "Epoch 20/50\n",
      "300/300 [==============================] - 1s 4ms/step - loss: 0.0084 - accuracy: 0.9971 - val_loss: 0.1178 - val_accuracy: 0.9781\n",
      "Epoch 21/50\n",
      "300/300 [==============================] - 1s 4ms/step - loss: 0.0081 - accuracy: 0.9975 - val_loss: 0.1019 - val_accuracy: 0.9801\n",
      "Epoch 22/50\n",
      "300/300 [==============================] - 1s 4ms/step - loss: 0.0024 - accuracy: 0.9994 - val_loss: 0.1110 - val_accuracy: 0.9789\n",
      "Epoch 23/50\n",
      "300/300 [==============================] - 1s 4ms/step - loss: 0.0058 - accuracy: 0.9983 - val_loss: 0.1041 - val_accuracy: 0.9805\n",
      "Epoch 24/50\n",
      "300/300 [==============================] - 1s 4ms/step - loss: 0.0050 - accuracy: 0.9985 - val_loss: 0.1179 - val_accuracy: 0.9766\n",
      "Epoch 25/50\n",
      "300/300 [==============================] - 1s 4ms/step - loss: 0.0021 - accuracy: 0.9995 - val_loss: 0.1219 - val_accuracy: 0.9783\n",
      "Epoch 26/50\n",
      "300/300 [==============================] - 1s 4ms/step - loss: 0.0104 - accuracy: 0.9965 - val_loss: 0.1358 - val_accuracy: 0.9762\n",
      "Epoch 27/50\n",
      "300/300 [==============================] - 1s 4ms/step - loss: 0.0121 - accuracy: 0.9964 - val_loss: 0.1135 - val_accuracy: 0.9784\n",
      "Epoch 28/50\n",
      "300/300 [==============================] - 2s 5ms/step - loss: 0.0039 - accuracy: 0.9986 - val_loss: 0.1058 - val_accuracy: 0.9799\n",
      "Epoch 29/50\n",
      "300/300 [==============================] - 2s 6ms/step - loss: 0.0020 - accuracy: 0.9993 - val_loss: 0.0943 - val_accuracy: 0.9824\n",
      "Epoch 30/50\n",
      "300/300 [==============================] - 1s 4ms/step - loss: 4.2818e-04 - accuracy: 0.9999 - val_loss: 0.1007 - val_accuracy: 0.9822\n",
      "Epoch 31/50\n",
      "300/300 [==============================] - 1s 4ms/step - loss: 1.0628e-04 - accuracy: 1.0000 - val_loss: 0.0983 - val_accuracy: 0.9827\n",
      "Epoch 32/50\n",
      "300/300 [==============================] - 1s 4ms/step - loss: 3.1723e-05 - accuracy: 1.0000 - val_loss: 0.0993 - val_accuracy: 0.9825\n",
      "Epoch 33/50\n",
      "300/300 [==============================] - 1s 4ms/step - loss: 2.4395e-05 - accuracy: 1.0000 - val_loss: 0.1002 - val_accuracy: 0.9826\n",
      "Epoch 34/50\n",
      "300/300 [==============================] - 1s 4ms/step - loss: 1.9695e-05 - accuracy: 1.0000 - val_loss: 0.1009 - val_accuracy: 0.9826\n",
      "Epoch 35/50\n",
      "300/300 [==============================] - 1s 4ms/step - loss: 1.6284e-05 - accuracy: 1.0000 - val_loss: 0.1019 - val_accuracy: 0.9828\n",
      "Epoch 36/50\n",
      "300/300 [==============================] - 1s 4ms/step - loss: 1.3635e-05 - accuracy: 1.0000 - val_loss: 0.1028 - val_accuracy: 0.9830\n",
      "Epoch 37/50\n",
      "300/300 [==============================] - 1s 4ms/step - loss: 1.1467e-05 - accuracy: 1.0000 - val_loss: 0.1036 - val_accuracy: 0.9828\n",
      "Epoch 38/50\n",
      "300/300 [==============================] - 1s 4ms/step - loss: 9.7275e-06 - accuracy: 1.0000 - val_loss: 0.1047 - val_accuracy: 0.9827\n",
      "Epoch 39/50\n",
      "300/300 [==============================] - 2s 6ms/step - loss: 8.2821e-06 - accuracy: 1.0000 - val_loss: 0.1057 - val_accuracy: 0.9827\n",
      "Epoch 40/50\n",
      "300/300 [==============================] - 2s 6ms/step - loss: 7.0803e-06 - accuracy: 1.0000 - val_loss: 0.1066 - val_accuracy: 0.9827\n",
      "Epoch 41/50\n",
      "300/300 [==============================] - 1s 4ms/step - loss: 6.0667e-06 - accuracy: 1.0000 - val_loss: 0.1075 - val_accuracy: 0.9826\n",
      "Epoch 42/50\n",
      "300/300 [==============================] - 1s 4ms/step - loss: 5.1744e-06 - accuracy: 1.0000 - val_loss: 0.1085 - val_accuracy: 0.9824\n",
      "Epoch 43/50\n",
      "300/300 [==============================] - 1s 4ms/step - loss: 4.4583e-06 - accuracy: 1.0000 - val_loss: 0.1096 - val_accuracy: 0.9826\n",
      "Epoch 44/50\n",
      "300/300 [==============================] - 1s 4ms/step - loss: 3.8045e-06 - accuracy: 1.0000 - val_loss: 0.1106 - val_accuracy: 0.9825\n",
      "Epoch 45/50\n",
      "300/300 [==============================] - 1s 4ms/step - loss: 3.2611e-06 - accuracy: 1.0000 - val_loss: 0.1117 - val_accuracy: 0.9824\n",
      "Epoch 46/50\n",
      "300/300 [==============================] - 1s 4ms/step - loss: 2.7942e-06 - accuracy: 1.0000 - val_loss: 0.1127 - val_accuracy: 0.9825\n",
      "Epoch 47/50\n",
      "300/300 [==============================] - 1s 4ms/step - loss: 2.3918e-06 - accuracy: 1.0000 - val_loss: 0.1141 - val_accuracy: 0.9824\n",
      "Epoch 48/50\n",
      "300/300 [==============================] - 1s 4ms/step - loss: 2.0564e-06 - accuracy: 1.0000 - val_loss: 0.1151 - val_accuracy: 0.9825\n",
      "Epoch 49/50\n",
      "300/300 [==============================] - 1s 5ms/step - loss: 1.7604e-06 - accuracy: 1.0000 - val_loss: 0.1162 - val_accuracy: 0.9828\n",
      "Epoch 50/50\n",
      "300/300 [==============================] - 2s 5ms/step - loss: 1.5175e-06 - accuracy: 1.0000 - val_loss: 0.1174 - val_accuracy: 0.9826\n"
     ]
    }
   ],
   "source": [
    "# %%time\n",
    "\n",
    "Hist_mnist = mnist.fit(X_train, y_train,\n",
    "                       epochs = 50,\n",
    "                       batch_size = 128,\n",
    "                       validation_split = 0.2)\n",
    "                    #    validation_data = (X_valid, y_valid))"
   ]
  },
  {
   "cell_type": "markdown",
   "metadata": {
    "id": "FnnIyFtNKhbD"
   },
   "source": [
    "> ## 4) 학습 결과 시각화 - Overfitting"
   ]
  },
  {
   "cell_type": "markdown",
   "metadata": {
    "id": "YgXRhVauKqOm"
   },
   "source": [
    "* Loss Visualization"
   ]
  },
  {
   "cell_type": "code",
   "execution_count": 48,
   "metadata": {
    "colab": {
     "base_uri": "https://localhost:8080/",
     "height": 255
    },
    "executionInfo": {
     "elapsed": 1062,
     "status": "ok",
     "timestamp": 1705307354042,
     "user": {
      "displayName": "맹광국",
      "userId": "00860531964279012518"
     },
     "user_tz": -540
    },
    "id": "OQ4ke8BbKi50",
    "outputId": "0ca4e9b8-e0ab-4890-a691-33aec25c089e",
    "scrolled": true
   },
   "outputs": [
    {
     "data": {
      "image/png": "[encoded data removed]",
      "text/plain": [
       "<Figure size 1500x500 with 2 Axes>"
      ]
     },
     "metadata": {},
     "output_type": "display_data"
    }
   ],
   "source": [
    "import matplotlib.pyplot as plt\n",
    "\n",
    "epochs = range(1, len(Hist_mnist.history['loss']) + 1)\n",
    "\n",
    "plt.figure(figsize = (15, 5))\n",
    "\n",
    "plt.subplot(1, 2, 1)\n",
    "plt.plot(epochs, Hist_mnist.history['loss'], 'b-')\n",
    "plt.plot(epochs, Hist_mnist.history['val_loss'], 'r--')\n",
    "plt.title('Training & Validation Loss')\n",
    "plt.xlabel('Epochs')\n",
    "plt.ylabel('Loss')\n",
    "plt.legend(['Training Loss', 'Validation Loss'])\n",
    "plt.grid()\n",
    "\n",
    "plt.subplot(1, 2, 2)\n",
    "plt.plot(epochs, Hist_mnist.history['accuracy'], 'b-')\n",
    "plt.plot(epochs, Hist_mnist.history['val_accuracy'], 'r--')\n",
    "plt.title('Training & Validation Accuracy')\n",
    "plt.xlabel('Epochs')\n",
    "plt.ylabel('Accuracy')\n",
    "plt.legend(['Training Accuracy', 'Validation Accuracy'])\n",
    "plt.grid()\n",
    "\n",
    "plt.show()"
   ]
  },
  {
   "cell_type": "markdown",
   "metadata": {
    "id": "_uJSOLBko7lh"
   },
   "source": [
    "> ## 5) Model Evaluate"
   ]
  },
  {
   "cell_type": "markdown",
   "metadata": {
    "id": "i-TqAB2ALGzZ"
   },
   "source": [
    "* Loss & Accuracy"
   ]
  },
  {
   "cell_type": "code",
   "execution_count": 49,
   "metadata": {
    "colab": {
     "base_uri": "https://localhost:8080/"
    },
    "executionInfo": {
     "elapsed": 743,
     "status": "ok",
     "timestamp": 1705307378037,
     "user": {
      "displayName": "맹광국",
      "userId": "00860531964279012518"
     },
     "user_tz": -540
    },
    "id": "OF30PuZsAxQJ",
    "outputId": "e6458191-29a9-4ece-ac43-a5d4e463942b"
   },
   "outputs": [
    {
     "name": "stdout",
     "output_type": "stream",
     "text": [
      "Loss = 0.11924\n",
      "Accuracy = 0.98270\n"
     ]
    }
   ],
   "source": [
    "loss, accuracy = mnist.evaluate(X_test, y_test, verbose = 0)\n",
    "\n",
    "print('Loss = {:.5f}'.format(loss))\n",
    "print('Accuracy = {:.5f}'.format(accuracy))"
   ]
  },
  {
   "cell_type": "markdown",
   "metadata": {
    "id": "1PRY6gAXo_PX"
   },
   "source": [
    "> ## 6) Model Predict"
   ]
  },
  {
   "cell_type": "markdown",
   "metadata": {
    "id": "M_pFxK4PLjxX"
   },
   "source": [
    "* Probability"
   ]
  },
  {
   "cell_type": "code",
   "execution_count": 50,
   "metadata": {
    "colab": {
     "base_uri": "https://localhost:8080/"
    },
    "executionInfo": {
     "elapsed": 468,
     "status": "ok",
     "timestamp": 1705307380066,
     "user": {
      "displayName": "맹광국",
      "userId": "00860531964279012518"
     },
     "user_tz": -540
    },
    "id": "vCdPbgU1ajoV",
    "outputId": "7676493d-db24-4842-a53a-1ca9e18e8446"
   },
   "outputs": [
    {
     "name": "stdout",
     "output_type": "stream",
     "text": [
      "[[0. 0. 0. 0. 0. 0. 0. 1. 0. 0.]]\n"
     ]
    }
   ],
   "source": [
    "np.set_printoptions(suppress = True, precision = 9)\n",
    "\n",
    "print(mnist.predict(X_test[:1,:], verbose = 0))"
   ]
  },
  {
   "cell_type": "markdown",
   "metadata": {
    "id": "V10JgtGdLmKb"
   },
   "source": [
    "* Class"
   ]
  },
  {
   "cell_type": "code",
   "execution_count": 51,
   "metadata": {
    "colab": {
     "base_uri": "https://localhost:8080/"
    },
    "executionInfo": {
     "elapsed": 329,
     "status": "ok",
     "timestamp": 1705307382380,
     "user": {
      "displayName": "맹광국",
      "userId": "00860531964279012518"
     },
     "user_tz": -540
    },
    "id": "xW6AhMK9a7RK",
    "outputId": "e01ae511-16d6-41c4-f2d7-434de2403743"
   },
   "outputs": [
    {
     "name": "stdout",
     "output_type": "stream",
     "text": [
      "7\n"
     ]
    }
   ],
   "source": [
    "print(np.argmax(mnist.predict(X_test[:1,:], verbose = 0)))"
   ]
  },
  {
   "cell_type": "markdown",
   "metadata": {
    "id": "YaPs8WL2EpzY"
   },
   "source": [
    "> ## 7) Image Visualization"
   ]
  },
  {
   "cell_type": "code",
   "execution_count": 52,
   "metadata": {
    "colab": {
     "base_uri": "https://localhost:8080/",
     "height": 460
    },
    "executionInfo": {
     "elapsed": 365,
     "status": "ok",
     "timestamp": 1705307394115,
     "user": {
      "displayName": "맹광국",
      "userId": "00860531964279012518"
     },
     "user_tz": -540
    },
    "id": "wLY63xz_Eqio",
    "outputId": "3ad18bc4-df55-477c-82a2-d8d34961353c"
   },
   "outputs": [
    {
     "data": {
      "image/png": "[encoded data removed]",
      "text/plain": [
       "<Figure size 640x480 with 1 Axes>"
      ]
     },
     "metadata": {},
     "output_type": "display_data"
    }
   ],
   "source": [
    "plt.imshow(X_test[0].reshape(28, 28), cmap = 'gray')\n",
    "plt.title('Predicted Image', fontsize = 20)\n",
    "plt.show()"
   ]
  },
  {
   "cell_type": "markdown",
   "metadata": {
    "id": "a4uQDpVHH2h0"
   },
   "source": [
    "> ## 8) Confusion Matrix"
   ]
  },
  {
   "cell_type": "code",
   "execution_count": 53,
   "metadata": {
    "colab": {
     "base_uri": "https://localhost:8080/"
    },
    "executionInfo": {
     "elapsed": 9,
     "status": "ok",
     "timestamp": 1705307397440,
     "user": {
      "displayName": "맹광국",
      "userId": "00860531964279012518"
     },
     "user_tz": -540
    },
    "id": "iFLzX-NsXHA1",
    "outputId": "051f81f8-d477-42ad-8ea6-59e32d31bc5e"
   },
   "outputs": [
    {
     "data": {
      "text/plain": [
       "array([[0., 0., 0., 0., 0., 0., 0., 1., 0., 0.],\n",
       "       [0., 0., 1., 0., 0., 0., 0., 0., 0., 0.],\n",
       "       [0., 1., 0., 0., 0., 0., 0., 0., 0., 0.],\n",
       "       [1., 0., 0., 0., 0., 0., 0., 0., 0., 0.],\n",
       "       [0., 0., 0., 0., 1., 0., 0., 0., 0., 0.]], dtype=float32)"
      ]
     },
     "execution_count": 53,
     "metadata": {},
     "output_type": "execute_result"
    }
   ],
   "source": [
    "y_test[:5]"
   ]
  },
  {
   "cell_type": "code",
   "execution_count": 54,
   "metadata": {
    "colab": {
     "base_uri": "https://localhost:8080/"
    },
    "executionInfo": {
     "elapsed": 16,
     "status": "ok",
     "timestamp": 1705307397862,
     "user": {
      "displayName": "맹광국",
      "userId": "00860531964279012518"
     },
     "user_tz": -540
    },
    "id": "HYkFh8ldXHA1",
    "outputId": "67d0d4cb-7540-4ab4-e35c-b1ace755bcbf"
   },
   "outputs": [
    {
     "data": {
      "text/plain": [
       "array([7, 2, 1, ..., 4, 5, 6])"
      ]
     },
     "execution_count": 54,
     "metadata": {},
     "output_type": "execute_result"
    }
   ],
   "source": [
    "np.argmax(y_test, axis = 1)"
   ]
  },
  {
   "cell_type": "code",
   "execution_count": 55,
   "metadata": {
    "colab": {
     "base_uri": "https://localhost:8080/"
    },
    "executionInfo": {
     "elapsed": 414,
     "status": "ok",
     "timestamp": 1705307398266,
     "user": {
      "displayName": "맹광국",
      "userId": "00860531964279012518"
     },
     "user_tz": -540
    },
    "id": "sCZBNHlQXHA1",
    "outputId": "4e4a0d25-6796-4822-b138-1383cfcae430"
   },
   "outputs": [
    {
     "data": {
      "text/plain": [
       "array([[0., 0., 0., ..., 1., 0., 0.],\n",
       "       [0., 0., 1., ..., 0., 0., 0.],\n",
       "       [0., 1., 0., ..., 0., 0., 0.],\n",
       "       ...,\n",
       "       [0., 0., 0., ..., 0., 0., 0.],\n",
       "       [0., 0., 0., ..., 0., 0., 0.],\n",
       "       [0., 0., 0., ..., 0., 0., 0.]], dtype=float32)"
      ]
     },
     "execution_count": 55,
     "metadata": {},
     "output_type": "execute_result"
    }
   ],
   "source": [
    "mnist.predict(X_test, verbose = 0)"
   ]
  },
  {
   "cell_type": "code",
   "execution_count": 56,
   "metadata": {
    "colab": {
     "base_uri": "https://localhost:8080/"
    },
    "executionInfo": {
     "elapsed": 669,
     "status": "ok",
     "timestamp": 1705307399288,
     "user": {
      "displayName": "맹광국",
      "userId": "00860531964279012518"
     },
     "user_tz": -540
    },
    "id": "eymt4Rh5XHA1",
    "outputId": "5711b03e-bef5-4e89-d3d9-4b2175782ff0"
   },
   "outputs": [
    {
     "data": {
      "text/plain": [
       "array([7, 2, 1, ..., 4, 5, 6])"
      ]
     },
     "execution_count": 56,
     "metadata": {},
     "output_type": "execute_result"
    }
   ],
   "source": [
    "np.argmax(mnist.predict(X_test, verbose = 0), axis = 1)"
   ]
  },
  {
   "cell_type": "code",
   "execution_count": 57,
   "metadata": {
    "colab": {
     "base_uri": "https://localhost:8080/",
     "height": 642
    },
    "executionInfo": {
     "elapsed": 1052,
     "status": "ok",
     "timestamp": 1705307401281,
     "user": {
      "displayName": "맹광국",
      "userId": "00860531964279012518"
     },
     "user_tz": -540
    },
    "id": "GjmSXdIJGYtk",
    "outputId": "4448f565-3819-45d0-c767-f553fc171613"
   },
   "outputs": [
    {
     "data": {
      "image/png": "[encoded data removed]",
      "text/plain": [
       "<Figure size 1000x1000 with 1 Axes>"
      ]
     },
     "metadata": {},
     "output_type": "display_data"
    }
   ],
   "source": [
    "from sklearn.metrics import confusion_matrix\n",
    "import matplotlib.pyplot as plt\n",
    "import seaborn as sns\n",
    "\n",
    "CM = confusion_matrix(np.argmax(y_test, axis = 1), # y true\n",
    "                      np.argmax(mnist.predict(X_test, verbose = 0), axis = 1)) # y pred\n",
    "\n",
    "plt.figure(figsize = (10, 10))\n",
    "sns.heatmap(CM,\n",
    "            annot = True,\n",
    "            fmt = 'd',\n",
    "            cmap = 'Blues',\n",
    "            cbar = False)\n",
    "plt.xlabel('y_hat', fontsize = 25)\n",
    "plt.ylabel('y', fontsize = 25)\n",
    "plt.show()"
   ]
  },
  {
   "cell_type": "markdown",
   "metadata": {
    "id": "pZAIF9PNIRxx"
   },
   "source": [
    "> ## 9) Classification Report"
   ]
  },
  {
   "cell_type": "code",
   "execution_count": 58,
   "metadata": {
    "colab": {
     "base_uri": "https://localhost:8080/"
    },
    "executionInfo": {
     "elapsed": 990,
     "status": "ok",
     "timestamp": 1705307410027,
     "user": {
      "displayName": "맹광국",
      "userId": "00860531964279012518"
     },
     "user_tz": -540
    },
    "id": "W86PUzp7ISPB",
    "outputId": "e943080e-95aa-462a-bceb-1dc041ecb931"
   },
   "outputs": [
    {
     "name": "stdout",
     "output_type": "stream",
     "text": [
      "\n",
      "               precision    recall  f1-score   support\n",
      "\n",
      "           0       0.99      0.99      0.99       980\n",
      "           1       0.99      0.99      0.99      1135\n",
      "           2       0.98      0.98      0.98      1032\n",
      "           3       0.98      0.98      0.98      1010\n",
      "           4       0.98      0.98      0.98       982\n",
      "           5       0.98      0.98      0.98       892\n",
      "           6       0.98      0.99      0.98       958\n",
      "           7       0.98      0.98      0.98      1028\n",
      "           8       0.98      0.98      0.98       974\n",
      "           9       0.98      0.98      0.98      1009\n",
      "\n",
      "    accuracy                           0.98     10000\n",
      "   macro avg       0.98      0.98      0.98     10000\n",
      "weighted avg       0.98      0.98      0.98     10000\n",
      "\n"
     ]
    }
   ],
   "source": [
    "from sklearn.metrics import classification_report\n",
    "\n",
    "print('\\n',\n",
    "      classification_report(np.argmax(y_test, axis = 1),\n",
    "                            np.argmax(mnist.predict(X_test, verbose = 0), axis = 1)))"
   ]
  },
  {
   "cell_type": "markdown",
   "metadata": {
    "id": "Q2ObZNFvXHA2"
   },
   "source": [
    "# 1)  model capacity 줄이기"
   ]
  },
  {
   "cell_type": "code",
   "execution_count": 59,
   "metadata": {
    "executionInfo": {
     "elapsed": 6,
     "status": "ok",
     "timestamp": 1705307647075,
     "user": {
      "displayName": "맹광국",
      "userId": "00860531964279012518"
     },
     "user_tz": -540
    },
    "id": "ejuZyBP3XHA2"
   },
   "outputs": [],
   "source": [
    "mnist1 = models.Sequential()\n",
    "mnist1.add(layers.Dense(256, activation = 'relu', input_shape = (28 * 28,)))\n",
    "mnist1.add(layers.Dense(10, activation = 'softmax'))"
   ]
  },
  {
   "cell_type": "code",
   "execution_count": 60,
   "metadata": {
    "colab": {
     "base_uri": "https://localhost:8080/"
    },
    "executionInfo": {
     "elapsed": 5,
     "status": "ok",
     "timestamp": 1705307647477,
     "user": {
      "displayName": "맹광국",
      "userId": "00860531964279012518"
     },
     "user_tz": -540
    },
    "id": "VeVwS-tZXHA2",
    "outputId": "705d152e-e91c-4436-d5dc-c7933948c83e"
   },
   "outputs": [
    {
     "name": "stdout",
     "output_type": "stream",
     "text": [
      "Model: \"sequential_2\"\n",
      "_________________________________________________________________\n",
      " Layer (type)                Output Shape              Param #   \n",
      "=================================================================\n",
      " dense_6 (Dense)             (None, 256)               200960    \n",
      "                                                                 \n",
      " dense_7 (Dense)             (None, 10)                2570      \n",
      "                                                                 \n",
      "=================================================================\n",
      "Total params: 203530 (795.04 KB)\n",
      "Trainable params: 203530 (795.04 KB)\n",
      "Non-trainable params: 0 (0.00 Byte)\n",
      "_________________________________________________________________\n"
     ]
    }
   ],
   "source": [
    "mnist1.summary()"
   ]
  },
  {
   "cell_type": "code",
   "execution_count": 62,
   "metadata": {
    "executionInfo": {
     "elapsed": 377,
     "status": "ok",
     "timestamp": 1705307655345,
     "user": {
      "displayName": "맹광국",
      "userId": "00860531964279012518"
     },
     "user_tz": -540
    },
    "id": "lUsEMFoAXHA2"
   },
   "outputs": [],
   "source": [
    "mnist1.compile(loss = 'categorical_crossentropy',\n",
    "              optimizer = 'adam',\n",
    "              metrics = ['accuracy'])"
   ]
  },
  {
   "cell_type": "code",
   "execution_count": 64,
   "metadata": {
    "colab": {
     "base_uri": "https://localhost:8080/"
    },
    "collapsed": true,
    "executionInfo": {
     "elapsed": 82555,
     "status": "ok",
     "timestamp": 1705307752968,
     "user": {
      "displayName": "맹광국",
      "userId": "00860531964279012518"
     },
     "user_tz": -540
    },
    "id": "1xg1HuxCXHA2",
    "outputId": "c1e16d0f-7879-49d1-e6c8-1b7613f66ccd"
   },
   "outputs": [
    {
     "name": "stdout",
     "output_type": "stream",
     "text": [
      "Epoch 1/50\n",
      "375/375 [==============================] - 2s 5ms/step - loss: 0.0440 - accuracy: 0.9874 - val_loss: 0.0908 - val_accuracy: 0.9722\n",
      "Epoch 2/50\n",
      "375/375 [==============================] - 1s 4ms/step - loss: 0.0343 - accuracy: 0.9909 - val_loss: 0.0870 - val_accuracy: 0.9739\n",
      "Epoch 3/50\n",
      "375/375 [==============================] - 1s 4ms/step - loss: 0.0271 - accuracy: 0.9929 - val_loss: 0.0876 - val_accuracy: 0.9743\n",
      "Epoch 4/50\n",
      "375/375 [==============================] - 1s 3ms/step - loss: 0.0215 - accuracy: 0.9951 - val_loss: 0.0859 - val_accuracy: 0.9752\n",
      "Epoch 5/50\n",
      "375/375 [==============================] - 1s 3ms/step - loss: 0.0170 - accuracy: 0.9960 - val_loss: 0.0816 - val_accuracy: 0.9766\n",
      "Epoch 6/50\n",
      "375/375 [==============================] - 2s 5ms/step - loss: 0.0131 - accuracy: 0.9973 - val_loss: 0.0943 - val_accuracy: 0.9730\n",
      "Epoch 7/50\n",
      "375/375 [==============================] - 2s 5ms/step - loss: 0.0115 - accuracy: 0.9976 - val_loss: 0.0869 - val_accuracy: 0.9771\n",
      "Epoch 8/50\n",
      "375/375 [==============================] - 1s 4ms/step - loss: 0.0088 - accuracy: 0.9985 - val_loss: 0.0851 - val_accuracy: 0.9765\n",
      "Epoch 9/50\n",
      "375/375 [==============================] - 1s 4ms/step - loss: 0.0068 - accuracy: 0.9990 - val_loss: 0.0915 - val_accuracy: 0.9763\n",
      "Epoch 10/50\n",
      "375/375 [==============================] - 1s 4ms/step - loss: 0.0066 - accuracy: 0.9986 - val_loss: 0.0942 - val_accuracy: 0.9771\n",
      "Epoch 11/50\n",
      "375/375 [==============================] - 1s 4ms/step - loss: 0.0057 - accuracy: 0.9991 - val_loss: 0.0905 - val_accuracy: 0.9768\n",
      "Epoch 12/50\n",
      "375/375 [==============================] - 1s 4ms/step - loss: 0.0033 - accuracy: 0.9998 - val_loss: 0.0956 - val_accuracy: 0.9761\n",
      "Epoch 13/50\n",
      "375/375 [==============================] - 1s 4ms/step - loss: 0.0025 - accuracy: 0.9998 - val_loss: 0.0932 - val_accuracy: 0.9763\n",
      "Epoch 14/50\n",
      "375/375 [==============================] - 2s 5ms/step - loss: 0.0017 - accuracy: 1.0000 - val_loss: 0.1024 - val_accuracy: 0.9760\n",
      "Epoch 15/50\n",
      "375/375 [==============================] - 5s 13ms/step - loss: 0.0123 - accuracy: 0.9962 - val_loss: 0.1117 - val_accuracy: 0.9728\n",
      "Epoch 16/50\n",
      "375/375 [==============================] - 2s 7ms/step - loss: 0.0073 - accuracy: 0.9980 - val_loss: 0.1041 - val_accuracy: 0.9774\n",
      "Epoch 17/50\n",
      "375/375 [==============================] - 1s 3ms/step - loss: 0.0025 - accuracy: 0.9996 - val_loss: 0.0999 - val_accuracy: 0.9779\n",
      "Epoch 18/50\n",
      "375/375 [==============================] - 1s 3ms/step - loss: 8.9583e-04 - accuracy: 1.0000 - val_loss: 0.0985 - val_accuracy: 0.9783\n",
      "Epoch 19/50\n",
      "375/375 [==============================] - 1s 4ms/step - loss: 6.0712e-04 - accuracy: 1.0000 - val_loss: 0.1002 - val_accuracy: 0.9780\n",
      "Epoch 20/50\n",
      "375/375 [==============================] - 2s 4ms/step - loss: 5.2086e-04 - accuracy: 1.0000 - val_loss: 0.1009 - val_accuracy: 0.9782\n",
      "Epoch 21/50\n",
      "375/375 [==============================] - 1s 4ms/step - loss: 4.4891e-04 - accuracy: 1.0000 - val_loss: 0.1015 - val_accuracy: 0.9787\n",
      "Epoch 22/50\n",
      "375/375 [==============================] - 2s 5ms/step - loss: 3.9151e-04 - accuracy: 1.0000 - val_loss: 0.1029 - val_accuracy: 0.9784\n",
      "Epoch 23/50\n",
      "375/375 [==============================] - 2s 4ms/step - loss: 3.4473e-04 - accuracy: 1.0000 - val_loss: 0.1040 - val_accuracy: 0.9786\n",
      "Epoch 24/50\n",
      "375/375 [==============================] - 1s 4ms/step - loss: 3.0848e-04 - accuracy: 1.0000 - val_loss: 0.1031 - val_accuracy: 0.9787\n",
      "Epoch 25/50\n",
      "375/375 [==============================] - 1s 4ms/step - loss: 2.7583e-04 - accuracy: 1.0000 - val_loss: 0.1052 - val_accuracy: 0.9783\n",
      "Epoch 26/50\n",
      "375/375 [==============================] - 1s 3ms/step - loss: 2.3211e-04 - accuracy: 1.0000 - val_loss: 0.1062 - val_accuracy: 0.9787\n",
      "Epoch 27/50\n",
      "375/375 [==============================] - 1s 4ms/step - loss: 1.9406e-04 - accuracy: 1.0000 - val_loss: 0.1088 - val_accuracy: 0.9789\n",
      "Epoch 28/50\n",
      "375/375 [==============================] - 1s 4ms/step - loss: 1.8835e-04 - accuracy: 1.0000 - val_loss: 0.1086 - val_accuracy: 0.9782\n",
      "Epoch 29/50\n",
      "375/375 [==============================] - 1s 4ms/step - loss: 1.5295e-04 - accuracy: 1.0000 - val_loss: 0.1116 - val_accuracy: 0.9782\n",
      "Epoch 30/50\n",
      "375/375 [==============================] - 1s 4ms/step - loss: 0.0056 - accuracy: 0.9984 - val_loss: 0.1761 - val_accuracy: 0.9668\n",
      "Epoch 31/50\n",
      "375/375 [==============================] - 2s 5ms/step - loss: 0.0186 - accuracy: 0.9943 - val_loss: 0.1124 - val_accuracy: 0.9776\n",
      "Epoch 32/50\n",
      "375/375 [==============================] - 2s 5ms/step - loss: 0.0019 - accuracy: 0.9996 - val_loss: 0.1161 - val_accuracy: 0.9778\n",
      "Epoch 33/50\n",
      "375/375 [==============================] - 1s 4ms/step - loss: 5.2021e-04 - accuracy: 1.0000 - val_loss: 0.1107 - val_accuracy: 0.9793\n",
      "Epoch 34/50\n",
      "375/375 [==============================] - 1s 4ms/step - loss: 2.4991e-04 - accuracy: 1.0000 - val_loss: 0.1112 - val_accuracy: 0.9793\n",
      "Epoch 35/50\n",
      "375/375 [==============================] - 1s 3ms/step - loss: 1.9774e-04 - accuracy: 1.0000 - val_loss: 0.1126 - val_accuracy: 0.9788\n",
      "Epoch 36/50\n",
      "375/375 [==============================] - 1s 3ms/step - loss: 1.6752e-04 - accuracy: 1.0000 - val_loss: 0.1134 - val_accuracy: 0.9787\n",
      "Epoch 37/50\n",
      "375/375 [==============================] - 1s 4ms/step - loss: 1.4706e-04 - accuracy: 1.0000 - val_loss: 0.1141 - val_accuracy: 0.9788\n",
      "Epoch 38/50\n",
      "375/375 [==============================] - 1s 4ms/step - loss: 1.2874e-04 - accuracy: 1.0000 - val_loss: 0.1147 - val_accuracy: 0.9789\n",
      "Epoch 39/50\n",
      "375/375 [==============================] - 2s 4ms/step - loss: 1.1358e-04 - accuracy: 1.0000 - val_loss: 0.1162 - val_accuracy: 0.9789\n",
      "Epoch 40/50\n",
      "375/375 [==============================] - 2s 5ms/step - loss: 1.0104e-04 - accuracy: 1.0000 - val_loss: 0.1166 - val_accuracy: 0.9793\n",
      "Epoch 41/50\n",
      "375/375 [==============================] - 2s 4ms/step - loss: 9.0107e-05 - accuracy: 1.0000 - val_loss: 0.1175 - val_accuracy: 0.9790\n",
      "Epoch 42/50\n",
      "375/375 [==============================] - 1s 3ms/step - loss: 7.9560e-05 - accuracy: 1.0000 - val_loss: 0.1186 - val_accuracy: 0.9787\n",
      "Epoch 43/50\n",
      "375/375 [==============================] - 1s 4ms/step - loss: 7.0134e-05 - accuracy: 1.0000 - val_loss: 0.1200 - val_accuracy: 0.9789\n",
      "Epoch 44/50\n",
      "375/375 [==============================] - 1s 4ms/step - loss: 6.2483e-05 - accuracy: 1.0000 - val_loss: 0.1215 - val_accuracy: 0.9786\n",
      "Epoch 45/50\n",
      "375/375 [==============================] - 1s 4ms/step - loss: 5.5201e-05 - accuracy: 1.0000 - val_loss: 0.1228 - val_accuracy: 0.9787\n",
      "Epoch 46/50\n",
      "375/375 [==============================] - 1s 3ms/step - loss: 4.8893e-05 - accuracy: 1.0000 - val_loss: 0.1232 - val_accuracy: 0.9787\n",
      "Epoch 47/50\n",
      "375/375 [==============================] - 1s 3ms/step - loss: 4.2787e-05 - accuracy: 1.0000 - val_loss: 0.1253 - val_accuracy: 0.9781\n",
      "Epoch 48/50\n",
      "375/375 [==============================] - 1s 4ms/step - loss: 3.7457e-05 - accuracy: 1.0000 - val_loss: 0.1269 - val_accuracy: 0.9783\n",
      "Epoch 49/50\n",
      "375/375 [==============================] - 2s 5ms/step - loss: 3.3257e-05 - accuracy: 1.0000 - val_loss: 0.1267 - val_accuracy: 0.9788\n",
      "Epoch 50/50\n",
      "375/375 [==============================] - 2s 4ms/step - loss: 3.0861e-05 - accuracy: 1.0000 - val_loss: 0.1285 - val_accuracy: 0.9785\n"
     ]
    }
   ],
   "source": [
    "# %%time\n",
    "\n",
    "Hist_mnist1 = mnist1.fit(X_train, y_train,\n",
    "                       epochs = 50,\n",
    "                       batch_size = 128,\n",
    "                       validation_data = (X_valid, y_valid))"
   ]
  },
  {
   "cell_type": "code",
   "execution_count": 65,
   "metadata": {
    "colab": {
     "base_uri": "https://localhost:8080/"
    },
    "executionInfo": {
     "elapsed": 808,
     "status": "ok",
     "timestamp": 1705307753760,
     "user": {
      "displayName": "맹광국",
      "userId": "00860531964279012518"
     },
     "user_tz": -540
    },
    "id": "LpJocOq5XHA3",
    "outputId": "51e0d5ce-45cd-4726-f161-f439934e3b3a"
   },
   "outputs": [
    {
     "data": {
      "image/png": "[encoded data removed]",
      "text/plain": [
       "<Figure size 1500x500 with 2 Axes>"
      ]
     },
     "metadata": {},
     "output_type": "display_data"
    }
   ],
   "source": [
    "import matplotlib.pyplot as plt\n",
    "\n",
    "epochs = range(1, len(Hist_mnist1.history['loss']) + 1)\n",
    "\n",
    "plt.figure(figsize = (15, 5))\n",
    "\n",
    "plt.subplot(1, 2, 1)\n",
    "plt.plot(epochs, Hist_mnist1.history['loss'], 'b-')\n",
    "plt.plot(epochs, Hist_mnist1.history['val_loss'], 'r--')\n",
    "plt.title('Training & Validation Loss')\n",
    "plt.xlabel('Epochs')\n",
    "plt.ylabel('Loss')\n",
    "plt.legend(['Training Loss', 'Validation Loss'])\n",
    "plt.grid()\n",
    "\n",
    "plt.subplot(1, 2, 2)\n",
    "plt.plot(epochs, Hist_mnist1.history['accuracy'], 'b-')\n",
    "plt.plot(epochs, Hist_mnist1.history['val_accuracy'], 'r--')\n",
    "plt.title('Training & Validation Accuracy')\n",
    "plt.xlabel('Epochs')\n",
    "plt.ylabel('Accuracy')\n",
    "plt.legend(['Training Accuracy', 'Validation Accuracy'])\n",
    "plt.grid()\n",
    "\n",
    "plt.show()"
   ]
  },
  {
   "cell_type": "markdown",
   "metadata": {
    "id": "WNkn81hJXHA3"
   },
   "source": [
    "# L2 Regularization\n",
    "- https://wooono.tistory.com/221\n",
    "- L1 Regularization 의 개념에서 가장 중요한 것은 cost function 에 가중치의 절대값을 더해준다는 것\n",
    "- 기존의 cost function 에 가중치의 제곱을 더함으로써 가중치가 너무 크지 않은 방향으로 학습되게 됩니다.\n",
    "L1 Loss, L2 Loss 의 차이\n",
    "L2 Loss 는 직관적으로 오차의 제곱을 더하기 때문에 Outlier 에 더 큰 영향을 받습니다.\n",
    "\"L1 Loss 가 L2 Loss 에 비해 Outlier 에 대하여 더 Robust(덜 민감 혹은 둔감) 하다.\" 라고 표현 할 수 있습니다.\n",
    "Outlier 가 적당히 무시되길 원한다면 L1 Loss 를 사용하고\n",
    "Outlier 의 등장에 신경써야 하는 경우라면 L2 Loss 를 사용하는 것이 좋겠습니다.\n",
    "L1 Loss 는 0인 지점에서 미분이 불가능하다는 단점 또한 가지고 있습니다.\n",
    "\n",
    "L1 Regularization, L2 Regularization 의 차이와 선택 기준\n",
    "L1 Regularization은 가중치 업데이트 시, 가중치의 크기에 상관 없이 상수값을 빼면서 진행됩니다.\n",
    "\n",
    "때문에 작은 가중치들은 거의 0으로 수렴 되어, 몇개의 중요한 가중치들만 남게 됩니다.\n",
    "\n",
    "그러므로 몇 개의 의미 있는 값을 끄집어내고 싶은 sparse model 같은 경우에는 L1 Regularization이 효과적입니다.\n",
    "\n",
    "다만, L1 Regularization은 아래 그림처럼 미분 불가능한 점이 있기 때문에 Gradient-base learning 에는 주의가 필요합니다.\n",
    "\n",
    "\n",
    "L2 Regularization은 가중치 업데이트 시, 가중치의 크기가 직접적인 영향을 미칩니다.\n",
    "\n",
    "따라서, L2는 L1 보다 가중치 규제에 좀 더 효과적입니다."
   ]
  },
  {
   "cell_type": "code",
   "execution_count": 66,
   "metadata": {
    "executionInfo": {
     "elapsed": 8,
     "status": "ok",
     "timestamp": 1705307753761,
     "user": {
      "displayName": "맹광국",
      "userId": "00860531964279012518"
     },
     "user_tz": -540
    },
    "id": "asycW7RLQlFs"
   },
   "outputs": [],
   "source": [
    "layers.Dense?"
   ]
  },
  {
   "cell_type": "code",
   "execution_count": null,
   "metadata": {
    "id": "wtLyurEYXHA3"
   },
   "outputs": [],
   "source": [
    "from tensorflow.keras import models, layers, regularizers\n",
    "\n",
    "mnist_L2R = models.Sequential()\n",
    "mnist_L2R.add(layers.Dense(512, activation = 'relu',\n",
    "                       kernel_regularizer = regularizers.l2(0.00001), # l2 기본값 0.01\n",
    "                       input_shape = (28 * 28,)))\n",
    "mnist_L2R.add(layers.Dense(256, activation = 'relu',\n",
    "                      kernel_regularizer = regularizers.l2(0.00001)))\n",
    "mnist_L2R.add(layers.Dense(10, activation = 'softmax'))"
   ]
  },
  {
   "cell_type": "code",
   "execution_count": null,
   "metadata": {
    "colab": {
     "base_uri": "https://localhost:8080/"
    },
    "executionInfo": {
     "elapsed": 37,
     "status": "ok",
     "timestamp": 1673680849429,
     "user": {
      "displayName": "이정구",
      "userId": "10412141110999311561"
     },
     "user_tz": -540
    },
    "id": "mYD0iyjGXHA3",
    "outputId": "3b4067ce-3da9-493e-b872-b2fc17d96593"
   },
   "outputs": [
    {
     "name": "stdout",
     "output_type": "stream",
     "text": [
      "Model: \"sequential_1\"\n",
      "_________________________________________________________________\n",
      " Layer (type)                Output Shape              Param #   \n",
      "=================================================================\n",
      " dense (Dense)               (None, 512)               401920    \n",
      "                                                                 \n",
      " dense_1 (Dense)             (None, 256)               131328    \n",
      "                                                                 \n",
      " dense_2 (Dense)             (None, 10)                2570      \n",
      "                                                                 \n",
      "=================================================================\n",
      "Total params: 535,818\n",
      "Trainable params: 535,818\n",
      "Non-trainable params: 0\n",
      "_________________________________________________________________\n"
     ]
    }
   ],
   "source": [
    "mnist_L2R.summary()"
   ]
  },
  {
   "cell_type": "code",
   "execution_count": null,
   "metadata": {
    "id": "G_y_X5UGXHA3"
   },
   "outputs": [],
   "source": [
    "mnist_L2R.compile(loss = 'categorical_crossentropy',\n",
    "              optimizer = 'rmsprop',\n",
    "              metrics = ['accuracy'])"
   ]
  },
  {
   "cell_type": "code",
   "execution_count": null,
   "metadata": {
    "colab": {
     "base_uri": "https://localhost:8080/"
    },
    "collapsed": true,
    "executionInfo": {
     "elapsed": 174908,
     "status": "ok",
     "timestamp": 1673681024322,
     "user": {
      "displayName": "이정구",
      "userId": "10412141110999311561"
     },
     "user_tz": -540
    },
    "id": "9aUjytP4XHA4",
    "outputId": "70eeee76-52c5-4ee5-ebc4-7a583391d17c"
   },
   "outputs": [
    {
     "name": "stdout",
     "output_type": "stream",
     "text": [
      "Epoch 1/100\n",
      "375/375 [==============================] - 2s 2ms/step - loss: 0.2578 - accuracy: 0.9240 - val_loss: 0.1423 - val_accuracy: 0.9613\n",
      "Epoch 2/100\n",
      "375/375 [==============================] - 1s 2ms/step - loss: 0.1020 - accuracy: 0.9714 - val_loss: 0.1229 - val_accuracy: 0.9673\n",
      "Epoch 3/100\n",
      "375/375 [==============================] - 1s 2ms/step - loss: 0.0728 - accuracy: 0.9801 - val_loss: 0.1007 - val_accuracy: 0.9747\n",
      "Epoch 4/100\n",
      "375/375 [==============================] - 1s 2ms/step - loss: 0.0543 - accuracy: 0.9865 - val_loss: 0.0910 - val_accuracy: 0.9770\n",
      "Epoch 5/100\n",
      "375/375 [==============================] - 1s 2ms/step - loss: 0.0446 - accuracy: 0.9893 - val_loss: 0.1085 - val_accuracy: 0.9746\n",
      "Epoch 6/100\n",
      "375/375 [==============================] - 1s 2ms/step - loss: 0.0380 - accuracy: 0.9913 - val_loss: 0.1016 - val_accuracy: 0.9778\n",
      "Epoch 7/100\n",
      "375/375 [==============================] - 1s 2ms/step - loss: 0.0332 - accuracy: 0.9931 - val_loss: 0.1077 - val_accuracy: 0.9789\n",
      "Epoch 8/100\n",
      "375/375 [==============================] - 1s 2ms/step - loss: 0.0303 - accuracy: 0.9942 - val_loss: 0.1042 - val_accuracy: 0.9776\n",
      "Epoch 9/100\n",
      "375/375 [==============================] - 1s 2ms/step - loss: 0.0278 - accuracy: 0.9944 - val_loss: 0.1120 - val_accuracy: 0.9776\n",
      "Epoch 10/100\n",
      "375/375 [==============================] - 1s 2ms/step - loss: 0.0265 - accuracy: 0.9951 - val_loss: 0.1392 - val_accuracy: 0.9735\n",
      "Epoch 11/100\n",
      "375/375 [==============================] - 1s 2ms/step - loss: 0.0261 - accuracy: 0.9954 - val_loss: 0.1174 - val_accuracy: 0.9779\n",
      "Epoch 12/100\n",
      "375/375 [==============================] - 1s 2ms/step - loss: 0.0234 - accuracy: 0.9956 - val_loss: 0.1349 - val_accuracy: 0.9753\n",
      "Epoch 13/100\n",
      "375/375 [==============================] - 1s 2ms/step - loss: 0.0227 - accuracy: 0.9958 - val_loss: 0.1195 - val_accuracy: 0.9793\n",
      "Epoch 14/100\n",
      "375/375 [==============================] - 1s 2ms/step - loss: 0.0217 - accuracy: 0.9965 - val_loss: 0.1382 - val_accuracy: 0.9772\n",
      "Epoch 15/100\n",
      "375/375 [==============================] - 1s 2ms/step - loss: 0.0210 - accuracy: 0.9964 - val_loss: 0.1232 - val_accuracy: 0.9778\n",
      "Epoch 16/100\n",
      "375/375 [==============================] - 1s 2ms/step - loss: 0.0187 - accuracy: 0.9970 - val_loss: 0.1287 - val_accuracy: 0.9767\n",
      "Epoch 17/100\n",
      "375/375 [==============================] - 1s 2ms/step - loss: 0.0194 - accuracy: 0.9965 - val_loss: 0.1305 - val_accuracy: 0.9781\n",
      "Epoch 18/100\n",
      "375/375 [==============================] - 1s 2ms/step - loss: 0.0198 - accuracy: 0.9967 - val_loss: 0.1452 - val_accuracy: 0.9753\n",
      "Epoch 19/100\n",
      "375/375 [==============================] - 1s 2ms/step - loss: 0.0196 - accuracy: 0.9964 - val_loss: 0.1427 - val_accuracy: 0.9771\n",
      "Epoch 20/100\n",
      "375/375 [==============================] - 1s 2ms/step - loss: 0.0175 - accuracy: 0.9973 - val_loss: 0.1253 - val_accuracy: 0.9777\n",
      "Epoch 21/100\n",
      "375/375 [==============================] - 1s 2ms/step - loss: 0.0184 - accuracy: 0.9969 - val_loss: 0.1417 - val_accuracy: 0.9759\n",
      "Epoch 22/100\n",
      "375/375 [==============================] - 1s 2ms/step - loss: 0.0182 - accuracy: 0.9970 - val_loss: 0.1350 - val_accuracy: 0.9777\n",
      "Epoch 23/100\n",
      "375/375 [==============================] - 1s 2ms/step - loss: 0.0159 - accuracy: 0.9971 - val_loss: 0.1371 - val_accuracy: 0.9778\n",
      "Epoch 24/100\n",
      "375/375 [==============================] - 1s 2ms/step - loss: 0.0173 - accuracy: 0.9967 - val_loss: 0.1428 - val_accuracy: 0.9762\n",
      "Epoch 25/100\n",
      "375/375 [==============================] - 1s 2ms/step - loss: 0.0166 - accuracy: 0.9973 - val_loss: 0.1404 - val_accuracy: 0.9787\n",
      "Epoch 26/100\n",
      "375/375 [==============================] - 1s 2ms/step - loss: 0.0164 - accuracy: 0.9974 - val_loss: 0.1385 - val_accuracy: 0.9761\n",
      "Epoch 27/100\n",
      "375/375 [==============================] - 1s 2ms/step - loss: 0.0165 - accuracy: 0.9973 - val_loss: 0.1378 - val_accuracy: 0.9758\n",
      "Epoch 28/100\n",
      "375/375 [==============================] - 1s 2ms/step - loss: 0.0160 - accuracy: 0.9975 - val_loss: 0.1389 - val_accuracy: 0.9776\n",
      "Epoch 29/100\n",
      "375/375 [==============================] - 1s 2ms/step - loss: 0.0158 - accuracy: 0.9975 - val_loss: 0.1547 - val_accuracy: 0.9753\n",
      "Epoch 30/100\n",
      "375/375 [==============================] - 1s 2ms/step - loss: 0.0142 - accuracy: 0.9978 - val_loss: 0.1414 - val_accuracy: 0.9772\n",
      "Epoch 31/100\n",
      "375/375 [==============================] - 1s 2ms/step - loss: 0.0152 - accuracy: 0.9975 - val_loss: 0.1412 - val_accuracy: 0.9772\n",
      "Epoch 32/100\n",
      "375/375 [==============================] - 1s 2ms/step - loss: 0.0147 - accuracy: 0.9977 - val_loss: 0.1352 - val_accuracy: 0.9770\n",
      "Epoch 33/100\n",
      "375/375 [==============================] - 1s 2ms/step - loss: 0.0138 - accuracy: 0.9976 - val_loss: 0.1461 - val_accuracy: 0.9768\n",
      "Epoch 34/100\n",
      "375/375 [==============================] - 1s 2ms/step - loss: 0.0156 - accuracy: 0.9972 - val_loss: 0.1325 - val_accuracy: 0.9785\n",
      "Epoch 35/100\n",
      "375/375 [==============================] - 1s 2ms/step - loss: 0.0132 - accuracy: 0.9977 - val_loss: 0.1866 - val_accuracy: 0.9723\n",
      "Epoch 36/100\n",
      "375/375 [==============================] - 1s 2ms/step - loss: 0.0143 - accuracy: 0.9976 - val_loss: 0.1537 - val_accuracy: 0.9762\n",
      "Epoch 37/100\n",
      "375/375 [==============================] - 1s 2ms/step - loss: 0.0141 - accuracy: 0.9978 - val_loss: 0.1514 - val_accuracy: 0.9763\n",
      "Epoch 38/100\n",
      "375/375 [==============================] - 1s 2ms/step - loss: 0.0135 - accuracy: 0.9976 - val_loss: 0.1237 - val_accuracy: 0.9807\n",
      "Epoch 39/100\n",
      "375/375 [==============================] - 1s 2ms/step - loss: 0.0138 - accuracy: 0.9975 - val_loss: 0.1342 - val_accuracy: 0.9778\n",
      "Epoch 40/100\n",
      "375/375 [==============================] - 1s 2ms/step - loss: 0.0138 - accuracy: 0.9978 - val_loss: 0.1495 - val_accuracy: 0.9772\n",
      "Epoch 41/100\n",
      "375/375 [==============================] - 1s 2ms/step - loss: 0.0133 - accuracy: 0.9979 - val_loss: 0.1590 - val_accuracy: 0.9762\n",
      "Epoch 42/100\n",
      "375/375 [==============================] - 1s 2ms/step - loss: 0.0137 - accuracy: 0.9978 - val_loss: 0.1465 - val_accuracy: 0.9774\n",
      "Epoch 43/100\n",
      "375/375 [==============================] - 1s 2ms/step - loss: 0.0133 - accuracy: 0.9980 - val_loss: 0.1287 - val_accuracy: 0.9808\n",
      "Epoch 44/100\n",
      "375/375 [==============================] - 1s 2ms/step - loss: 0.0127 - accuracy: 0.9979 - val_loss: 0.1542 - val_accuracy: 0.9777\n",
      "Epoch 45/100\n",
      "375/375 [==============================] - 1s 2ms/step - loss: 0.0127 - accuracy: 0.9980 - val_loss: 0.1472 - val_accuracy: 0.9779\n",
      "Epoch 46/100\n",
      "375/375 [==============================] - 1s 2ms/step - loss: 0.0130 - accuracy: 0.9979 - val_loss: 0.1551 - val_accuracy: 0.9766\n",
      "Epoch 47/100\n",
      "375/375 [==============================] - 1s 2ms/step - loss: 0.0129 - accuracy: 0.9977 - val_loss: 0.1481 - val_accuracy: 0.9787\n",
      "Epoch 48/100\n",
      "375/375 [==============================] - 1s 2ms/step - loss: 0.0131 - accuracy: 0.9979 - val_loss: 0.1531 - val_accuracy: 0.9760\n",
      "Epoch 49/100\n",
      "375/375 [==============================] - 1s 2ms/step - loss: 0.0120 - accuracy: 0.9982 - val_loss: 0.1618 - val_accuracy: 0.9759\n",
      "Epoch 50/100\n",
      "375/375 [==============================] - 1s 2ms/step - loss: 0.0122 - accuracy: 0.9979 - val_loss: 0.1608 - val_accuracy: 0.9753\n",
      "Epoch 51/100\n",
      "375/375 [==============================] - 1s 2ms/step - loss: 0.0128 - accuracy: 0.9975 - val_loss: 0.1581 - val_accuracy: 0.9777\n",
      "Epoch 52/100\n",
      "375/375 [==============================] - 1s 2ms/step - loss: 0.0119 - accuracy: 0.9981 - val_loss: 0.1732 - val_accuracy: 0.9768\n",
      "Epoch 53/100\n",
      "375/375 [==============================] - 1s 2ms/step - loss: 0.0133 - accuracy: 0.9976 - val_loss: 0.1567 - val_accuracy: 0.9764\n",
      "Epoch 54/100\n",
      "375/375 [==============================] - 1s 2ms/step - loss: 0.0127 - accuracy: 0.9977 - val_loss: 0.1534 - val_accuracy: 0.9768\n",
      "Epoch 55/100\n",
      "375/375 [==============================] - 1s 2ms/step - loss: 0.0109 - accuracy: 0.9984 - val_loss: 0.1541 - val_accuracy: 0.9778\n",
      "Epoch 56/100\n",
      "375/375 [==============================] - 1s 2ms/step - loss: 0.0117 - accuracy: 0.9981 - val_loss: 0.2042 - val_accuracy: 0.9663\n",
      "Epoch 57/100\n",
      "375/375 [==============================] - 1s 2ms/step - loss: 0.0117 - accuracy: 0.9978 - val_loss: 0.1540 - val_accuracy: 0.9774\n",
      "Epoch 58/100\n",
      "375/375 [==============================] - 1s 2ms/step - loss: 0.0122 - accuracy: 0.9979 - val_loss: 0.1482 - val_accuracy: 0.9789\n",
      "Epoch 59/100\n",
      "375/375 [==============================] - 1s 2ms/step - loss: 0.0118 - accuracy: 0.9982 - val_loss: 0.1611 - val_accuracy: 0.9753\n",
      "Epoch 60/100\n",
      "375/375 [==============================] - 1s 2ms/step - loss: 0.0121 - accuracy: 0.9982 - val_loss: 0.1544 - val_accuracy: 0.9777\n",
      "Epoch 61/100\n",
      "375/375 [==============================] - 1s 2ms/step - loss: 0.0115 - accuracy: 0.9980 - val_loss: 0.1528 - val_accuracy: 0.9783\n",
      "Epoch 62/100\n",
      "375/375 [==============================] - 1s 2ms/step - loss: 0.0121 - accuracy: 0.9981 - val_loss: 0.1520 - val_accuracy: 0.9802\n",
      "Epoch 63/100\n",
      "375/375 [==============================] - 1s 2ms/step - loss: 0.0120 - accuracy: 0.9980 - val_loss: 0.1565 - val_accuracy: 0.9786\n",
      "Epoch 64/100\n",
      "375/375 [==============================] - 1s 2ms/step - loss: 0.0126 - accuracy: 0.9977 - val_loss: 0.1626 - val_accuracy: 0.9747\n",
      "Epoch 65/100\n",
      "375/375 [==============================] - 1s 2ms/step - loss: 0.0119 - accuracy: 0.9979 - val_loss: 0.1644 - val_accuracy: 0.9767\n",
      "Epoch 66/100\n",
      "375/375 [==============================] - 1s 2ms/step - loss: 0.0127 - accuracy: 0.9979 - val_loss: 0.1527 - val_accuracy: 0.9779\n",
      "Epoch 67/100\n",
      "375/375 [==============================] - 1s 2ms/step - loss: 0.0107 - accuracy: 0.9984 - val_loss: 0.1776 - val_accuracy: 0.9740\n",
      "Epoch 68/100\n",
      "375/375 [==============================] - 1s 2ms/step - loss: 0.0104 - accuracy: 0.9984 - val_loss: 0.1862 - val_accuracy: 0.9708\n",
      "Epoch 69/100\n",
      "375/375 [==============================] - 1s 2ms/step - loss: 0.0116 - accuracy: 0.9981 - val_loss: 0.1565 - val_accuracy: 0.9778\n",
      "Epoch 70/100\n",
      "375/375 [==============================] - 1s 2ms/step - loss: 0.0107 - accuracy: 0.9984 - val_loss: 0.1572 - val_accuracy: 0.9783\n",
      "Epoch 71/100\n",
      "375/375 [==============================] - 1s 2ms/step - loss: 0.0103 - accuracy: 0.9983 - val_loss: 0.1604 - val_accuracy: 0.9771\n",
      "Epoch 72/100\n",
      "375/375 [==============================] - 1s 2ms/step - loss: 0.0106 - accuracy: 0.9984 - val_loss: 0.1939 - val_accuracy: 0.9748\n",
      "Epoch 73/100\n",
      "375/375 [==============================] - 1s 2ms/step - loss: 0.0108 - accuracy: 0.9983 - val_loss: 0.1635 - val_accuracy: 0.9781\n",
      "Epoch 74/100\n",
      "375/375 [==============================] - 1s 2ms/step - loss: 0.0107 - accuracy: 0.9984 - val_loss: 0.1606 - val_accuracy: 0.9778\n",
      "Epoch 75/100\n",
      "375/375 [==============================] - 1s 2ms/step - loss: 0.0108 - accuracy: 0.9982 - val_loss: 0.1892 - val_accuracy: 0.9735\n",
      "Epoch 76/100\n",
      "375/375 [==============================] - 1s 2ms/step - loss: 0.0111 - accuracy: 0.9983 - val_loss: 0.1604 - val_accuracy: 0.9772\n",
      "Epoch 77/100\n",
      "375/375 [==============================] - 1s 2ms/step - loss: 0.0113 - accuracy: 0.9982 - val_loss: 0.1757 - val_accuracy: 0.9755\n",
      "Epoch 78/100\n",
      "375/375 [==============================] - 1s 2ms/step - loss: 0.0114 - accuracy: 0.9978 - val_loss: 0.1838 - val_accuracy: 0.9742\n",
      "Epoch 79/100\n",
      "375/375 [==============================] - 1s 2ms/step - loss: 0.0105 - accuracy: 0.9983 - val_loss: 0.2138 - val_accuracy: 0.9722\n",
      "Epoch 80/100\n",
      "375/375 [==============================] - 1s 2ms/step - loss: 0.0099 - accuracy: 0.9985 - val_loss: 0.1749 - val_accuracy: 0.9779\n",
      "Epoch 81/100\n",
      "375/375 [==============================] - 1s 2ms/step - loss: 0.0108 - accuracy: 0.9983 - val_loss: 0.1564 - val_accuracy: 0.9785\n",
      "Epoch 82/100\n",
      "375/375 [==============================] - 1s 2ms/step - loss: 0.0107 - accuracy: 0.9980 - val_loss: 0.1514 - val_accuracy: 0.9787\n",
      "Epoch 83/100\n",
      "375/375 [==============================] - 1s 2ms/step - loss: 0.0105 - accuracy: 0.9981 - val_loss: 0.1598 - val_accuracy: 0.9778\n",
      "Epoch 84/100\n",
      "375/375 [==============================] - 1s 2ms/step - loss: 0.0095 - accuracy: 0.9985 - val_loss: 0.1811 - val_accuracy: 0.9769\n",
      "Epoch 85/100\n",
      "375/375 [==============================] - 1s 2ms/step - loss: 0.0103 - accuracy: 0.9982 - val_loss: 0.1648 - val_accuracy: 0.9785\n",
      "Epoch 86/100\n",
      "375/375 [==============================] - 1s 2ms/step - loss: 0.0099 - accuracy: 0.9983 - val_loss: 0.1732 - val_accuracy: 0.9773\n",
      "Epoch 87/100\n",
      "375/375 [==============================] - 1s 2ms/step - loss: 0.0102 - accuracy: 0.9983 - val_loss: 0.1626 - val_accuracy: 0.9789\n",
      "Epoch 88/100\n",
      "375/375 [==============================] - 1s 2ms/step - loss: 0.0106 - accuracy: 0.9981 - val_loss: 0.1692 - val_accuracy: 0.9765\n",
      "Epoch 89/100\n",
      "375/375 [==============================] - 1s 2ms/step - loss: 0.0103 - accuracy: 0.9980 - val_loss: 0.2064 - val_accuracy: 0.9737\n",
      "Epoch 90/100\n",
      "375/375 [==============================] - 1s 2ms/step - loss: 0.0097 - accuracy: 0.9984 - val_loss: 0.1685 - val_accuracy: 0.9765\n",
      "Epoch 91/100\n",
      "375/375 [==============================] - 1s 2ms/step - loss: 0.0109 - accuracy: 0.9983 - val_loss: 0.1897 - val_accuracy: 0.9721\n",
      "Epoch 92/100\n",
      "375/375 [==============================] - 1s 2ms/step - loss: 0.0110 - accuracy: 0.9981 - val_loss: 0.1856 - val_accuracy: 0.9760\n",
      "Epoch 93/100\n",
      "375/375 [==============================] - 1s 2ms/step - loss: 0.0100 - accuracy: 0.9984 - val_loss: 0.1865 - val_accuracy: 0.9758\n",
      "Epoch 94/100\n",
      "375/375 [==============================] - 1s 2ms/step - loss: 0.0103 - accuracy: 0.9981 - val_loss: 0.1684 - val_accuracy: 0.9769\n",
      "Epoch 95/100\n",
      "375/375 [==============================] - 1s 2ms/step - loss: 0.0103 - accuracy: 0.9981 - val_loss: 0.1763 - val_accuracy: 0.9778\n",
      "Epoch 96/100\n",
      "375/375 [==============================] - 1s 2ms/step - loss: 0.0105 - accuracy: 0.9979 - val_loss: 0.2043 - val_accuracy: 0.9751\n",
      "Epoch 97/100\n",
      "375/375 [==============================] - 1s 2ms/step - loss: 0.0111 - accuracy: 0.9982 - val_loss: 0.1651 - val_accuracy: 0.9777\n",
      "Epoch 98/100\n",
      "375/375 [==============================] - 1s 2ms/step - loss: 0.0104 - accuracy: 0.9982 - val_loss: 0.1725 - val_accuracy: 0.9782\n",
      "Epoch 99/100\n",
      "375/375 [==============================] - 1s 2ms/step - loss: 0.0107 - accuracy: 0.9981 - val_loss: 0.1781 - val_accuracy: 0.9778\n",
      "Epoch 100/100\n",
      "375/375 [==============================] - 1s 2ms/step - loss: 0.0092 - accuracy: 0.9986 - val_loss: 0.1851 - val_accuracy: 0.9772\n"
     ]
    }
   ],
   "source": [
    "# %%time\n",
    "\n",
    "mnist_L2R_H = mnist_L2R.fit(X_train, y_train,\n",
    "                       epochs = 100,\n",
    "                       batch_size = 128,\n",
    "                       validation_data = (X_valid, y_valid))"
   ]
  },
  {
   "cell_type": "code",
   "execution_count": null,
   "metadata": {
    "colab": {
     "base_uri": "https://localhost:8080/",
     "height": 350
    },
    "executionInfo": {
     "elapsed": 694,
     "status": "ok",
     "timestamp": 1673681025005,
     "user": {
      "displayName": "이정구",
      "userId": "10412141110999311561"
     },
     "user_tz": -540
    },
    "id": "Mxs_va3BXHA4",
    "outputId": "25f6f363-f9e5-41a7-baf1-af6fe208c5dd",
    "scrolled": true
   },
   "outputs": [
    {
     "name": "stdout",
     "output_type": "stream",
     "text": [
      "==== L2 Regularization ====\n"
     ]
    },
    {
     "data": {
      "image/png": "[encoded data removed]",
      "text/plain": [
       "<Figure size 1500x500 with 2 Axes>"
      ]
     },
     "metadata": {},
     "output_type": "display_data"
    }
   ],
   "source": [
    "import matplotlib.pyplot as plt\n",
    "print('==== L2 Regularization ====')\n",
    "\n",
    "epochs = range(1, len(mnist_L2R_H.history['loss']) + 1)\n",
    "\n",
    "plt.figure(figsize = (15, 5))\n",
    "\n",
    "plt.subplot(1, 2, 1)\n",
    "plt.plot(epochs, mnist_L2R_H.history['loss'], 'b-')\n",
    "plt.plot(epochs, mnist_L2R_H.history['val_loss'], 'r--')\n",
    "plt.title('Training & Validation Loss')\n",
    "plt.xlabel('Epochs')\n",
    "plt.ylabel('Loss')\n",
    "plt.legend(['Training Loss', 'Validation Loss'])\n",
    "plt.grid()\n",
    "\n",
    "plt.subplot(1, 2, 2)\n",
    "plt.plot(epochs, mnist_L2R_H.history['accuracy'], 'b-')\n",
    "plt.plot(epochs, mnist_L2R_H.history['val_accuracy'], 'r--')\n",
    "plt.title('Training & Validation Accuracy')\n",
    "plt.xlabel('Epochs')\n",
    "plt.ylabel('Accuracy')\n",
    "plt.legend(['Training Accuracy', 'Validation Accuracy'])\n",
    "plt.grid()\n",
    "\n",
    "plt.show()"
   ]
  },
  {
   "cell_type": "markdown",
   "metadata": {
    "id": "sv8rHtlMXHA4"
   },
   "source": [
    "# Drop out"
   ]
  },
  {
   "cell_type": "code",
   "execution_count": null,
   "metadata": {
    "id": "EXpX36SVXHA4"
   },
   "outputs": [],
   "source": [
    "\n",
    "mnist_D = models.Sequential()\n",
    "mnist_D.add(layers.Dense(512, activation = 'relu', input_shape = (28 * 28,)))\n",
    "mnist_D.add(layers.Dropout(0.4))\n",
    "mnist_D.add(layers.Dense(256, activation = 'relu'))\n",
    "mnist_D.add(layers.Dropout(0.2))\n",
    "mnist_D.add(layers.Dense(10, activation = 'softmax'))"
   ]
  },
  {
   "cell_type": "code",
   "execution_count": null,
   "metadata": {
    "colab": {
     "base_uri": "https://localhost:8080/"
    },
    "executionInfo": {
     "elapsed": 37,
     "status": "ok",
     "timestamp": 1673680849429,
     "user": {
      "displayName": "이정구",
      "userId": "10412141110999311561"
     },
     "user_tz": -540
    },
    "id": "Qyz_8xJHXHA4",
    "outputId": "3b4067ce-3da9-493e-b872-b2fc17d96593"
   },
   "outputs": [
    {
     "name": "stdout",
     "output_type": "stream",
     "text": [
      "Model: \"sequential_3\"\n",
      "_________________________________________________________________\n",
      " Layer (type)                Output Shape              Param #   \n",
      "=================================================================\n",
      " dense_6 (Dense)             (None, 512)               401920    \n",
      "                                                                 \n",
      " dropout_2 (Dropout)         (None, 512)               0         \n",
      "                                                                 \n",
      " dense_7 (Dense)             (None, 256)               131328    \n",
      "                                                                 \n",
      " dropout_3 (Dropout)         (None, 256)               0         \n",
      "                                                                 \n",
      " dense_8 (Dense)             (None, 10)                2570      \n",
      "                                                                 \n",
      "=================================================================\n",
      "Total params: 535,818\n",
      "Trainable params: 535,818\n",
      "Non-trainable params: 0\n",
      "_________________________________________________________________\n"
     ]
    }
   ],
   "source": [
    "mnist_D.summary()"
   ]
  },
  {
   "cell_type": "code",
   "execution_count": null,
   "metadata": {
    "id": "QDSB4gbYXHA5"
   },
   "outputs": [],
   "source": [
    "mnist_D.compile(loss = 'categorical_crossentropy',\n",
    "              optimizer = 'rmsprop',\n",
    "              metrics = ['accuracy'])"
   ]
  },
  {
   "cell_type": "code",
   "execution_count": null,
   "metadata": {
    "colab": {
     "base_uri": "https://localhost:8080/"
    },
    "collapsed": true,
    "executionInfo": {
     "elapsed": 174908,
     "status": "ok",
     "timestamp": 1673681024322,
     "user": {
      "displayName": "이정구",
      "userId": "10412141110999311561"
     },
     "user_tz": -540
    },
    "id": "QuPMrNLxXHA5",
    "outputId": "70eeee76-52c5-4ee5-ebc4-7a583391d17c"
   },
   "outputs": [
    {
     "name": "stdout",
     "output_type": "stream",
     "text": [
      "Epoch 1/100\n",
      "375/375 [==============================] - 1s 2ms/step - loss: 0.3245 - accuracy: 0.9009 - val_loss: 0.1463 - val_accuracy: 0.9566\n",
      "Epoch 2/100\n",
      "375/375 [==============================] - 1s 2ms/step - loss: 0.1455 - accuracy: 0.9568 - val_loss: 0.1070 - val_accuracy: 0.9693\n",
      "Epoch 3/100\n",
      "375/375 [==============================] - 1s 2ms/step - loss: 0.1100 - accuracy: 0.9658 - val_loss: 0.1041 - val_accuracy: 0.9715\n",
      "Epoch 4/100\n",
      "375/375 [==============================] - 1s 2ms/step - loss: 0.0909 - accuracy: 0.9722 - val_loss: 0.1023 - val_accuracy: 0.9728\n",
      "Epoch 5/100\n",
      "375/375 [==============================] - 1s 2ms/step - loss: 0.0766 - accuracy: 0.9762 - val_loss: 0.0913 - val_accuracy: 0.9767\n",
      "Epoch 6/100\n",
      "375/375 [==============================] - 1s 2ms/step - loss: 0.0707 - accuracy: 0.9786 - val_loss: 0.0925 - val_accuracy: 0.9760\n",
      "Epoch 7/100\n",
      "375/375 [==============================] - 1s 2ms/step - loss: 0.0612 - accuracy: 0.9811 - val_loss: 0.0899 - val_accuracy: 0.9770\n",
      "Epoch 8/100\n",
      "375/375 [==============================] - 1s 2ms/step - loss: 0.0581 - accuracy: 0.9835 - val_loss: 0.0886 - val_accuracy: 0.9790\n",
      "Epoch 9/100\n",
      "375/375 [==============================] - 1s 2ms/step - loss: 0.0523 - accuracy: 0.9841 - val_loss: 0.0944 - val_accuracy: 0.9782\n",
      "Epoch 10/100\n",
      "375/375 [==============================] - 1s 2ms/step - loss: 0.0516 - accuracy: 0.9845 - val_loss: 0.0911 - val_accuracy: 0.9794\n",
      "Epoch 11/100\n",
      "375/375 [==============================] - 1s 2ms/step - loss: 0.0464 - accuracy: 0.9868 - val_loss: 0.0972 - val_accuracy: 0.9791\n",
      "Epoch 12/100\n",
      "375/375 [==============================] - 1s 2ms/step - loss: 0.0446 - accuracy: 0.9866 - val_loss: 0.0968 - val_accuracy: 0.9791\n",
      "Epoch 13/100\n",
      "375/375 [==============================] - 1s 2ms/step - loss: 0.0422 - accuracy: 0.9874 - val_loss: 0.0985 - val_accuracy: 0.9797\n",
      "Epoch 14/100\n",
      "375/375 [==============================] - 1s 2ms/step - loss: 0.0396 - accuracy: 0.9881 - val_loss: 0.1010 - val_accuracy: 0.9795\n",
      "Epoch 15/100\n",
      "375/375 [==============================] - 1s 2ms/step - loss: 0.0390 - accuracy: 0.9884 - val_loss: 0.1076 - val_accuracy: 0.9803\n",
      "Epoch 16/100\n",
      "375/375 [==============================] - 1s 2ms/step - loss: 0.0347 - accuracy: 0.9892 - val_loss: 0.1139 - val_accuracy: 0.9807\n",
      "Epoch 17/100\n",
      "375/375 [==============================] - 1s 2ms/step - loss: 0.0347 - accuracy: 0.9899 - val_loss: 0.1100 - val_accuracy: 0.9809\n",
      "Epoch 18/100\n",
      "375/375 [==============================] - 1s 2ms/step - loss: 0.0339 - accuracy: 0.9900 - val_loss: 0.1116 - val_accuracy: 0.9803\n",
      "Epoch 19/100\n",
      "375/375 [==============================] - 1s 2ms/step - loss: 0.0330 - accuracy: 0.9903 - val_loss: 0.1202 - val_accuracy: 0.9811\n",
      "Epoch 20/100\n",
      "375/375 [==============================] - 1s 2ms/step - loss: 0.0340 - accuracy: 0.9901 - val_loss: 0.1190 - val_accuracy: 0.9800\n",
      "Epoch 21/100\n",
      "375/375 [==============================] - 1s 2ms/step - loss: 0.0305 - accuracy: 0.9914 - val_loss: 0.1127 - val_accuracy: 0.9822\n",
      "Epoch 22/100\n",
      "375/375 [==============================] - 1s 2ms/step - loss: 0.0286 - accuracy: 0.9920 - val_loss: 0.1284 - val_accuracy: 0.9800\n",
      "Epoch 23/100\n",
      "375/375 [==============================] - 1s 2ms/step - loss: 0.0297 - accuracy: 0.9920 - val_loss: 0.1221 - val_accuracy: 0.9818\n",
      "Epoch 24/100\n",
      "375/375 [==============================] - 1s 2ms/step - loss: 0.0287 - accuracy: 0.9918 - val_loss: 0.1295 - val_accuracy: 0.9812\n",
      "Epoch 25/100\n",
      "375/375 [==============================] - 1s 2ms/step - loss: 0.0278 - accuracy: 0.9924 - val_loss: 0.1330 - val_accuracy: 0.9786\n",
      "Epoch 26/100\n",
      "375/375 [==============================] - 1s 2ms/step - loss: 0.0291 - accuracy: 0.9921 - val_loss: 0.1318 - val_accuracy: 0.9810\n",
      "Epoch 27/100\n",
      "375/375 [==============================] - 1s 2ms/step - loss: 0.0271 - accuracy: 0.9925 - val_loss: 0.1407 - val_accuracy: 0.9794\n",
      "Epoch 28/100\n",
      "375/375 [==============================] - 1s 2ms/step - loss: 0.0283 - accuracy: 0.9928 - val_loss: 0.1310 - val_accuracy: 0.9814\n",
      "Epoch 29/100\n",
      "375/375 [==============================] - 1s 2ms/step - loss: 0.0261 - accuracy: 0.9929 - val_loss: 0.1468 - val_accuracy: 0.9803\n",
      "Epoch 30/100\n",
      "375/375 [==============================] - 1s 2ms/step - loss: 0.0260 - accuracy: 0.9933 - val_loss: 0.1376 - val_accuracy: 0.9811\n",
      "Epoch 31/100\n",
      "375/375 [==============================] - 1s 2ms/step - loss: 0.0277 - accuracy: 0.9933 - val_loss: 0.1392 - val_accuracy: 0.9810\n",
      "Epoch 32/100\n",
      "375/375 [==============================] - 1s 2ms/step - loss: 0.0239 - accuracy: 0.9938 - val_loss: 0.1438 - val_accuracy: 0.9811\n",
      "Epoch 33/100\n",
      "375/375 [==============================] - 1s 2ms/step - loss: 0.0299 - accuracy: 0.9929 - val_loss: 0.1457 - val_accuracy: 0.9815\n",
      "Epoch 34/100\n",
      "375/375 [==============================] - 1s 2ms/step - loss: 0.0231 - accuracy: 0.9940 - val_loss: 0.1547 - val_accuracy: 0.9805\n",
      "Epoch 35/100\n",
      "375/375 [==============================] - 1s 2ms/step - loss: 0.0256 - accuracy: 0.9937 - val_loss: 0.1448 - val_accuracy: 0.9812\n",
      "Epoch 36/100\n",
      "375/375 [==============================] - 1s 2ms/step - loss: 0.0215 - accuracy: 0.9944 - val_loss: 0.1486 - val_accuracy: 0.9821\n",
      "Epoch 37/100\n",
      "375/375 [==============================] - 1s 2ms/step - loss: 0.0205 - accuracy: 0.9944 - val_loss: 0.1597 - val_accuracy: 0.9815\n",
      "Epoch 38/100\n",
      "375/375 [==============================] - 1s 2ms/step - loss: 0.0213 - accuracy: 0.9943 - val_loss: 0.1642 - val_accuracy: 0.9817\n",
      "Epoch 39/100\n",
      "375/375 [==============================] - 1s 2ms/step - loss: 0.0241 - accuracy: 0.9948 - val_loss: 0.1629 - val_accuracy: 0.9820\n",
      "Epoch 40/100\n",
      "375/375 [==============================] - 1s 2ms/step - loss: 0.0202 - accuracy: 0.9948 - val_loss: 0.1637 - val_accuracy: 0.9817\n",
      "Epoch 41/100\n",
      "375/375 [==============================] - 1s 2ms/step - loss: 0.0247 - accuracy: 0.9939 - val_loss: 0.1556 - val_accuracy: 0.9818\n",
      "Epoch 42/100\n",
      "375/375 [==============================] - 1s 2ms/step - loss: 0.0209 - accuracy: 0.9946 - val_loss: 0.1501 - val_accuracy: 0.9820\n",
      "Epoch 43/100\n",
      "375/375 [==============================] - 1s 2ms/step - loss: 0.0214 - accuracy: 0.9940 - val_loss: 0.1596 - val_accuracy: 0.9814\n",
      "Epoch 44/100\n",
      "375/375 [==============================] - 1s 2ms/step - loss: 0.0220 - accuracy: 0.9943 - val_loss: 0.1627 - val_accuracy: 0.9830\n",
      "Epoch 45/100\n",
      "375/375 [==============================] - 1s 2ms/step - loss: 0.0194 - accuracy: 0.9946 - val_loss: 0.1761 - val_accuracy: 0.9811\n",
      "Epoch 46/100\n",
      "375/375 [==============================] - 1s 2ms/step - loss: 0.0193 - accuracy: 0.9951 - val_loss: 0.1769 - val_accuracy: 0.9833\n",
      "Epoch 47/100\n",
      "375/375 [==============================] - 1s 2ms/step - loss: 0.0191 - accuracy: 0.9954 - val_loss: 0.1748 - val_accuracy: 0.9821\n",
      "Epoch 48/100\n",
      "375/375 [==============================] - 1s 2ms/step - loss: 0.0195 - accuracy: 0.9950 - val_loss: 0.1756 - val_accuracy: 0.9821\n",
      "Epoch 49/100\n",
      "375/375 [==============================] - 1s 2ms/step - loss: 0.0194 - accuracy: 0.9955 - val_loss: 0.1744 - val_accuracy: 0.9825\n",
      "Epoch 50/100\n",
      "375/375 [==============================] - 1s 2ms/step - loss: 0.0217 - accuracy: 0.9947 - val_loss: 0.1750 - val_accuracy: 0.9819\n",
      "Epoch 51/100\n",
      "375/375 [==============================] - 1s 2ms/step - loss: 0.0204 - accuracy: 0.9949 - val_loss: 0.1789 - val_accuracy: 0.9822\n",
      "Epoch 52/100\n",
      "375/375 [==============================] - 1s 2ms/step - loss: 0.0207 - accuracy: 0.9948 - val_loss: 0.1754 - val_accuracy: 0.9822\n",
      "Epoch 53/100\n",
      "375/375 [==============================] - 1s 2ms/step - loss: 0.0170 - accuracy: 0.9960 - val_loss: 0.1841 - val_accuracy: 0.9827\n",
      "Epoch 54/100\n",
      "375/375 [==============================] - 1s 2ms/step - loss: 0.0226 - accuracy: 0.9953 - val_loss: 0.1875 - val_accuracy: 0.9813\n",
      "Epoch 55/100\n",
      "375/375 [==============================] - 1s 2ms/step - loss: 0.0180 - accuracy: 0.9960 - val_loss: 0.2075 - val_accuracy: 0.9810\n",
      "Epoch 56/100\n",
      "375/375 [==============================] - 1s 2ms/step - loss: 0.0200 - accuracy: 0.9954 - val_loss: 0.1857 - val_accuracy: 0.9818\n",
      "Epoch 57/100\n",
      "375/375 [==============================] - 1s 2ms/step - loss: 0.0182 - accuracy: 0.9956 - val_loss: 0.2037 - val_accuracy: 0.9818\n",
      "Epoch 58/100\n",
      "375/375 [==============================] - 1s 2ms/step - loss: 0.0211 - accuracy: 0.9949 - val_loss: 0.1966 - val_accuracy: 0.9817\n",
      "Epoch 59/100\n",
      "375/375 [==============================] - 1s 2ms/step - loss: 0.0198 - accuracy: 0.9957 - val_loss: 0.1989 - val_accuracy: 0.9818\n",
      "Epoch 60/100\n",
      "375/375 [==============================] - 1s 2ms/step - loss: 0.0176 - accuracy: 0.9958 - val_loss: 0.2090 - val_accuracy: 0.9824\n",
      "Epoch 61/100\n",
      "375/375 [==============================] - 1s 2ms/step - loss: 0.0180 - accuracy: 0.9959 - val_loss: 0.2137 - val_accuracy: 0.9824\n",
      "Epoch 62/100\n",
      "375/375 [==============================] - 1s 2ms/step - loss: 0.0208 - accuracy: 0.9955 - val_loss: 0.1967 - val_accuracy: 0.9822\n",
      "Epoch 63/100\n",
      "375/375 [==============================] - 1s 2ms/step - loss: 0.0191 - accuracy: 0.9960 - val_loss: 0.2117 - val_accuracy: 0.9813\n",
      "Epoch 64/100\n",
      "375/375 [==============================] - 1s 2ms/step - loss: 0.0169 - accuracy: 0.9960 - val_loss: 0.2087 - val_accuracy: 0.9819\n",
      "Epoch 65/100\n",
      "375/375 [==============================] - 1s 2ms/step - loss: 0.0193 - accuracy: 0.9955 - val_loss: 0.2138 - val_accuracy: 0.9810\n",
      "Epoch 66/100\n",
      "375/375 [==============================] - 1s 2ms/step - loss: 0.0190 - accuracy: 0.9958 - val_loss: 0.2059 - val_accuracy: 0.9816\n",
      "Epoch 67/100\n",
      "375/375 [==============================] - 1s 2ms/step - loss: 0.0169 - accuracy: 0.9962 - val_loss: 0.2049 - val_accuracy: 0.9825\n",
      "Epoch 68/100\n",
      "375/375 [==============================] - 1s 2ms/step - loss: 0.0184 - accuracy: 0.9960 - val_loss: 0.2099 - val_accuracy: 0.9819\n",
      "Epoch 69/100\n",
      "375/375 [==============================] - 1s 2ms/step - loss: 0.0214 - accuracy: 0.9951 - val_loss: 0.2205 - val_accuracy: 0.9821\n",
      "Epoch 70/100\n",
      "375/375 [==============================] - 1s 2ms/step - loss: 0.0182 - accuracy: 0.9958 - val_loss: 0.2101 - val_accuracy: 0.9815\n",
      "Epoch 71/100\n",
      "375/375 [==============================] - 1s 2ms/step - loss: 0.0143 - accuracy: 0.9967 - val_loss: 0.2270 - val_accuracy: 0.9820\n",
      "Epoch 72/100\n",
      "375/375 [==============================] - 1s 2ms/step - loss: 0.0176 - accuracy: 0.9963 - val_loss: 0.2186 - val_accuracy: 0.9818\n",
      "Epoch 73/100\n",
      "375/375 [==============================] - 1s 2ms/step - loss: 0.0181 - accuracy: 0.9962 - val_loss: 0.2132 - val_accuracy: 0.9819\n",
      "Epoch 74/100\n",
      "375/375 [==============================] - 1s 2ms/step - loss: 0.0190 - accuracy: 0.9962 - val_loss: 0.2239 - val_accuracy: 0.9822\n",
      "Epoch 75/100\n",
      "375/375 [==============================] - 1s 2ms/step - loss: 0.0180 - accuracy: 0.9962 - val_loss: 0.2137 - val_accuracy: 0.9824\n",
      "Epoch 76/100\n",
      "375/375 [==============================] - 1s 2ms/step - loss: 0.0209 - accuracy: 0.9958 - val_loss: 0.2139 - val_accuracy: 0.9825\n",
      "Epoch 77/100\n",
      "375/375 [==============================] - 1s 2ms/step - loss: 0.0140 - accuracy: 0.9967 - val_loss: 0.2253 - val_accuracy: 0.9818\n",
      "Epoch 78/100\n",
      "375/375 [==============================] - 1s 2ms/step - loss: 0.0185 - accuracy: 0.9962 - val_loss: 0.2097 - val_accuracy: 0.9818\n",
      "Epoch 79/100\n",
      "375/375 [==============================] - 1s 2ms/step - loss: 0.0146 - accuracy: 0.9966 - val_loss: 0.2362 - val_accuracy: 0.9821\n",
      "Epoch 80/100\n",
      "375/375 [==============================] - 1s 2ms/step - loss: 0.0204 - accuracy: 0.9960 - val_loss: 0.2310 - val_accuracy: 0.9817\n",
      "Epoch 81/100\n",
      "375/375 [==============================] - 1s 2ms/step - loss: 0.0200 - accuracy: 0.9963 - val_loss: 0.2258 - val_accuracy: 0.9816\n",
      "Epoch 82/100\n",
      "375/375 [==============================] - 1s 2ms/step - loss: 0.0171 - accuracy: 0.9964 - val_loss: 0.2247 - val_accuracy: 0.9818\n",
      "Epoch 83/100\n",
      "375/375 [==============================] - 1s 2ms/step - loss: 0.0149 - accuracy: 0.9965 - val_loss: 0.2347 - val_accuracy: 0.9817\n",
      "Epoch 84/100\n",
      "375/375 [==============================] - 1s 2ms/step - loss: 0.0175 - accuracy: 0.9963 - val_loss: 0.2275 - val_accuracy: 0.9813\n",
      "Epoch 85/100\n",
      "375/375 [==============================] - 1s 2ms/step - loss: 0.0208 - accuracy: 0.9958 - val_loss: 0.2121 - val_accuracy: 0.9827\n",
      "Epoch 86/100\n",
      "375/375 [==============================] - 1s 2ms/step - loss: 0.0169 - accuracy: 0.9964 - val_loss: 0.2204 - val_accuracy: 0.9828\n",
      "Epoch 87/100\n",
      "375/375 [==============================] - 1s 2ms/step - loss: 0.0166 - accuracy: 0.9961 - val_loss: 0.2452 - val_accuracy: 0.9806\n",
      "Epoch 88/100\n",
      "375/375 [==============================] - 1s 2ms/step - loss: 0.0179 - accuracy: 0.9962 - val_loss: 0.2393 - val_accuracy: 0.9818\n",
      "Epoch 89/100\n",
      "375/375 [==============================] - 1s 2ms/step - loss: 0.0160 - accuracy: 0.9968 - val_loss: 0.2472 - val_accuracy: 0.9819\n",
      "Epoch 90/100\n",
      "375/375 [==============================] - 1s 2ms/step - loss: 0.0172 - accuracy: 0.9962 - val_loss: 0.2329 - val_accuracy: 0.9821\n",
      "Epoch 91/100\n",
      "375/375 [==============================] - 1s 2ms/step - loss: 0.0176 - accuracy: 0.9967 - val_loss: 0.2447 - val_accuracy: 0.9809\n",
      "Epoch 92/100\n",
      "375/375 [==============================] - 1s 2ms/step - loss: 0.0183 - accuracy: 0.9962 - val_loss: 0.2551 - val_accuracy: 0.9812\n",
      "Epoch 93/100\n",
      "375/375 [==============================] - 1s 2ms/step - loss: 0.0155 - accuracy: 0.9969 - val_loss: 0.2404 - val_accuracy: 0.9822\n",
      "Epoch 94/100\n",
      "375/375 [==============================] - 1s 2ms/step - loss: 0.0179 - accuracy: 0.9964 - val_loss: 0.2492 - val_accuracy: 0.9823\n",
      "Epoch 95/100\n",
      "375/375 [==============================] - 1s 2ms/step - loss: 0.0172 - accuracy: 0.9965 - val_loss: 0.2478 - val_accuracy: 0.9824\n",
      "Epoch 96/100\n",
      "375/375 [==============================] - 1s 2ms/step - loss: 0.0152 - accuracy: 0.9964 - val_loss: 0.2552 - val_accuracy: 0.9825\n",
      "Epoch 97/100\n",
      "375/375 [==============================] - 1s 2ms/step - loss: 0.0157 - accuracy: 0.9966 - val_loss: 0.2507 - val_accuracy: 0.9822\n",
      "Epoch 98/100\n",
      "375/375 [==============================] - 1s 2ms/step - loss: 0.0158 - accuracy: 0.9965 - val_loss: 0.2667 - val_accuracy: 0.9825\n",
      "Epoch 99/100\n",
      "375/375 [==============================] - 1s 2ms/step - loss: 0.0199 - accuracy: 0.9965 - val_loss: 0.2609 - val_accuracy: 0.9805\n",
      "Epoch 100/100\n",
      "375/375 [==============================] - 1s 2ms/step - loss: 0.0182 - accuracy: 0.9966 - val_loss: 0.2710 - val_accuracy: 0.9805\n"
     ]
    }
   ],
   "source": [
    "# %%time\n",
    "mnist_D_H = mnist_D.fit(X_train, y_train,\n",
    "                       epochs = 100,\n",
    "                       batch_size = 128,\n",
    "                       validation_data = (X_valid, y_valid))"
   ]
  },
  {
   "cell_type": "code",
   "execution_count": null,
   "metadata": {
    "colab": {
     "base_uri": "https://localhost:8080/",
     "height": 350
    },
    "executionInfo": {
     "elapsed": 694,
     "status": "ok",
     "timestamp": 1673681025005,
     "user": {
      "displayName": "이정구",
      "userId": "10412141110999311561"
     },
     "user_tz": -540
    },
    "id": "XUlygJ71XHA5",
    "outputId": "25f6f363-f9e5-41a7-baf1-af6fe208c5dd",
    "scrolled": true
   },
   "outputs": [
    {
     "name": "stdout",
     "output_type": "stream",
     "text": [
      "==== Drop Out ====\n"
     ]
    },
    {
     "data": {
      "image/png": "[encoded data removed]",
      "text/plain": [
       "<Figure size 1500x500 with 2 Axes>"
      ]
     },
     "metadata": {},
     "output_type": "display_data"
    }
   ],
   "source": [
    "import matplotlib.pyplot as plt\n",
    "print('==== Drop Out ====')\n",
    "\n",
    "epochs = range(1, len(mnist_D_H.history['loss']) + 1)\n",
    "\n",
    "plt.figure(figsize = (15, 5))\n",
    "\n",
    "plt.subplot(1, 2, 1)\n",
    "plt.plot(epochs, mnist_D_H.history['loss'], 'b-')\n",
    "plt.plot(epochs, mnist_D_H.history['val_loss'], 'r--')\n",
    "plt.title('Training & Validation Loss')\n",
    "plt.xlabel('Epochs')\n",
    "plt.ylabel('Loss')\n",
    "plt.legend(['Training Loss', 'Validation Loss'])\n",
    "plt.grid()\n",
    "\n",
    "plt.subplot(1, 2, 2)\n",
    "plt.plot(epochs, mnist_D_H.history['accuracy'], 'b-')\n",
    "plt.plot(epochs, mnist_D_H.history['val_accuracy'], 'r--')\n",
    "plt.title('Training & Validation Accuracy')\n",
    "plt.xlabel('Epochs')\n",
    "plt.ylabel('Accuracy')\n",
    "plt.legend(['Training Accuracy', 'Validation Accuracy'])\n",
    "plt.grid()\n",
    "\n",
    "plt.show()"
   ]
  },
  {
   "cell_type": "markdown",
   "metadata": {
    "id": "FWxyO2hwXHA6"
   },
   "source": [
    "# Batch Normalization"
   ]
  },
  {
   "cell_type": "code",
   "execution_count": null,
   "metadata": {
    "id": "GmXo03EoXHA6"
   },
   "outputs": [],
   "source": [
    "mnist_BN = models.Sequential()\n",
    "mnist_BN.add(layers.Dense(512, input_shape = (28 * 28,)))\n",
    "mnist_BN.add(layers.BatchNormalization())\n",
    "mnist_BN.add(layers.Activation('relu'))\n",
    "mnist_BN.add(layers.Dense(256 ))\n",
    "mnist_BN.add(layers.BatchNormalization())\n",
    "mnist_BN.add(layers.Activation('relu'))\n",
    "mnist_BN.add(layers.Dense(10, activation = 'softmax'))"
   ]
  },
  {
   "cell_type": "code",
   "execution_count": null,
   "metadata": {
    "colab": {
     "base_uri": "https://localhost:8080/"
    },
    "executionInfo": {
     "elapsed": 37,
     "status": "ok",
     "timestamp": 1673680849429,
     "user": {
      "displayName": "이정구",
      "userId": "10412141110999311561"
     },
     "user_tz": -540
    },
    "id": "b5l1-e3uXHA6",
    "outputId": "3b4067ce-3da9-493e-b872-b2fc17d96593"
   },
   "outputs": [
    {
     "name": "stdout",
     "output_type": "stream",
     "text": [
      "Model: \"sequential_6\"\n",
      "_________________________________________________________________\n",
      " Layer (type)                Output Shape              Param #   \n",
      "=================================================================\n",
      " dense_11 (Dense)            (None, 512)               401920    \n",
      "                                                                 \n",
      " batch_normalization (BatchN  (None, 512)              2048      \n",
      " ormalization)                                                   \n",
      "                                                                 \n",
      " activation (Activation)     (None, 512)               0         \n",
      "                                                                 \n",
      " dense_12 (Dense)            (None, 256)               131328    \n",
      "                                                                 \n",
      " batch_normalization_1 (Batc  (None, 256)              1024      \n",
      " hNormalization)                                                 \n",
      "                                                                 \n",
      " activation_1 (Activation)   (None, 256)               0         \n",
      "                                                                 \n",
      " dense_13 (Dense)            (None, 10)                2570      \n",
      "                                                                 \n",
      "=================================================================\n",
      "Total params: 538,890\n",
      "Trainable params: 537,354\n",
      "Non-trainable params: 1,536\n",
      "_________________________________________________________________\n"
     ]
    }
   ],
   "source": [
    "mnist_BN.summary()"
   ]
  },
  {
   "cell_type": "code",
   "execution_count": null,
   "metadata": {
    "id": "QCdoVpUwXHA7"
   },
   "outputs": [],
   "source": [
    "mnist_BN.compile(loss = 'categorical_crossentropy',\n",
    "              optimizer = 'rmsprop',\n",
    "              metrics = ['accuracy'])"
   ]
  },
  {
   "cell_type": "code",
   "execution_count": null,
   "metadata": {
    "colab": {
     "base_uri": "https://localhost:8080/"
    },
    "executionInfo": {
     "elapsed": 174908,
     "status": "ok",
     "timestamp": 1673681024322,
     "user": {
      "displayName": "이정구",
      "userId": "10412141110999311561"
     },
     "user_tz": -540
    },
    "id": "V9QgbiO0XHA7",
    "outputId": "70eeee76-52c5-4ee5-ebc4-7a583391d17c"
   },
   "outputs": [
    {
     "name": "stdout",
     "output_type": "stream",
     "text": [
      "Epoch 1/100\n",
      "375/375 [==============================] - 1s 3ms/step - loss: 0.1777 - accuracy: 0.9467 - val_loss: 0.1257 - val_accuracy: 0.9615\n",
      "Epoch 2/100\n",
      "375/375 [==============================] - 1s 2ms/step - loss: 0.0727 - accuracy: 0.9778 - val_loss: 0.1000 - val_accuracy: 0.9703\n",
      "Epoch 3/100\n",
      "375/375 [==============================] - 1s 2ms/step - loss: 0.0456 - accuracy: 0.9855 - val_loss: 0.1047 - val_accuracy: 0.9722\n",
      "Epoch 4/100\n",
      "375/375 [==============================] - 1s 2ms/step - loss: 0.0324 - accuracy: 0.9898 - val_loss: 0.0875 - val_accuracy: 0.9765\n",
      "Epoch 5/100\n",
      "375/375 [==============================] - 1s 2ms/step - loss: 0.0245 - accuracy: 0.9924 - val_loss: 0.0988 - val_accuracy: 0.9749\n",
      "Epoch 6/100\n",
      "375/375 [==============================] - 1s 2ms/step - loss: 0.0189 - accuracy: 0.9941 - val_loss: 0.0877 - val_accuracy: 0.9781\n",
      "Epoch 7/100\n",
      "375/375 [==============================] - 1s 2ms/step - loss: 0.0139 - accuracy: 0.9958 - val_loss: 0.1027 - val_accuracy: 0.9770\n",
      "Epoch 8/100\n",
      "375/375 [==============================] - 1s 2ms/step - loss: 0.0124 - accuracy: 0.9962 - val_loss: 0.1048 - val_accuracy: 0.9773\n",
      "Epoch 9/100\n",
      "375/375 [==============================] - 1s 2ms/step - loss: 0.0105 - accuracy: 0.9965 - val_loss: 0.0938 - val_accuracy: 0.9804\n",
      "Epoch 10/100\n",
      "375/375 [==============================] - 1s 2ms/step - loss: 0.0092 - accuracy: 0.9970 - val_loss: 0.1055 - val_accuracy: 0.9772\n",
      "Epoch 11/100\n",
      "375/375 [==============================] - 1s 2ms/step - loss: 0.0082 - accuracy: 0.9972 - val_loss: 0.0970 - val_accuracy: 0.9806\n",
      "Epoch 12/100\n",
      "375/375 [==============================] - 1s 2ms/step - loss: 0.0066 - accuracy: 0.9976 - val_loss: 0.1129 - val_accuracy: 0.9763\n",
      "Epoch 13/100\n",
      "375/375 [==============================] - 1s 2ms/step - loss: 0.0059 - accuracy: 0.9982 - val_loss: 0.0974 - val_accuracy: 0.9805\n",
      "Epoch 14/100\n",
      "375/375 [==============================] - 1s 2ms/step - loss: 0.0055 - accuracy: 0.9982 - val_loss: 0.1072 - val_accuracy: 0.9795\n",
      "Epoch 15/100\n",
      "375/375 [==============================] - 1s 2ms/step - loss: 0.0052 - accuracy: 0.9983 - val_loss: 0.1068 - val_accuracy: 0.9781\n",
      "Epoch 16/100\n",
      "375/375 [==============================] - 1s 2ms/step - loss: 0.0052 - accuracy: 0.9982 - val_loss: 0.1093 - val_accuracy: 0.9808\n",
      "Epoch 17/100\n",
      "375/375 [==============================] - 1s 2ms/step - loss: 0.0047 - accuracy: 0.9983 - val_loss: 0.1247 - val_accuracy: 0.9779\n",
      "Epoch 18/100\n",
      "375/375 [==============================] - 1s 2ms/step - loss: 0.0042 - accuracy: 0.9985 - val_loss: 0.1109 - val_accuracy: 0.9803\n",
      "Epoch 19/100\n",
      "375/375 [==============================] - 1s 2ms/step - loss: 0.0030 - accuracy: 0.9990 - val_loss: 0.1270 - val_accuracy: 0.9778\n",
      "Epoch 20/100\n",
      "375/375 [==============================] - 1s 2ms/step - loss: 0.0036 - accuracy: 0.9988 - val_loss: 0.1105 - val_accuracy: 0.9821\n",
      "Epoch 21/100\n",
      "375/375 [==============================] - 1s 2ms/step - loss: 0.0036 - accuracy: 0.9989 - val_loss: 0.1235 - val_accuracy: 0.9797\n",
      "Epoch 22/100\n",
      "375/375 [==============================] - 1s 2ms/step - loss: 0.0041 - accuracy: 0.9987 - val_loss: 0.1285 - val_accuracy: 0.9793\n",
      "Epoch 23/100\n",
      "375/375 [==============================] - 1s 2ms/step - loss: 0.0031 - accuracy: 0.9991 - val_loss: 0.1194 - val_accuracy: 0.9808\n",
      "Epoch 24/100\n",
      "375/375 [==============================] - 1s 2ms/step - loss: 0.0034 - accuracy: 0.9990 - val_loss: 0.1269 - val_accuracy: 0.9800\n",
      "Epoch 25/100\n",
      "375/375 [==============================] - 1s 2ms/step - loss: 0.0024 - accuracy: 0.9991 - val_loss: 0.1264 - val_accuracy: 0.9807\n",
      "Epoch 26/100\n",
      "375/375 [==============================] - 1s 2ms/step - loss: 0.0027 - accuracy: 0.9990 - val_loss: 0.1409 - val_accuracy: 0.9802\n",
      "Epoch 27/100\n",
      "375/375 [==============================] - 1s 2ms/step - loss: 0.0028 - accuracy: 0.9990 - val_loss: 0.1357 - val_accuracy: 0.9796\n",
      "Epoch 28/100\n",
      "375/375 [==============================] - 1s 2ms/step - loss: 0.0029 - accuracy: 0.9991 - val_loss: 0.1448 - val_accuracy: 0.9797\n",
      "Epoch 29/100\n",
      "375/375 [==============================] - 1s 2ms/step - loss: 0.0028 - accuracy: 0.9992 - val_loss: 0.1435 - val_accuracy: 0.9803\n",
      "Epoch 30/100\n",
      "375/375 [==============================] - 1s 2ms/step - loss: 0.0026 - accuracy: 0.9992 - val_loss: 0.1410 - val_accuracy: 0.9800\n",
      "Epoch 31/100\n",
      "375/375 [==============================] - 1s 2ms/step - loss: 0.0015 - accuracy: 0.9995 - val_loss: 0.1544 - val_accuracy: 0.9786\n",
      "Epoch 32/100\n",
      "375/375 [==============================] - 1s 2ms/step - loss: 0.0022 - accuracy: 0.9994 - val_loss: 0.1416 - val_accuracy: 0.9814\n",
      "Epoch 33/100\n",
      "375/375 [==============================] - 1s 2ms/step - loss: 0.0022 - accuracy: 0.9993 - val_loss: 0.1440 - val_accuracy: 0.9813\n",
      "Epoch 34/100\n",
      "375/375 [==============================] - 1s 2ms/step - loss: 0.0026 - accuracy: 0.9991 - val_loss: 0.1327 - val_accuracy: 0.9818\n",
      "Epoch 35/100\n",
      "375/375 [==============================] - 1s 2ms/step - loss: 0.0020 - accuracy: 0.9994 - val_loss: 0.1329 - val_accuracy: 0.9812\n",
      "Epoch 36/100\n",
      "375/375 [==============================] - 1s 2ms/step - loss: 0.0012 - accuracy: 0.9996 - val_loss: 0.1411 - val_accuracy: 0.9821\n",
      "Epoch 37/100\n",
      "375/375 [==============================] - 1s 2ms/step - loss: 0.0011 - accuracy: 0.9996 - val_loss: 0.1392 - val_accuracy: 0.9807\n",
      "Epoch 38/100\n",
      "375/375 [==============================] - 1s 2ms/step - loss: 0.0017 - accuracy: 0.9994 - val_loss: 0.1361 - val_accuracy: 0.9817\n",
      "Epoch 39/100\n",
      "375/375 [==============================] - 1s 2ms/step - loss: 0.0013 - accuracy: 0.9995 - val_loss: 0.1617 - val_accuracy: 0.9800\n",
      "Epoch 40/100\n",
      "375/375 [==============================] - 1s 2ms/step - loss: 0.0011 - accuracy: 0.9996 - val_loss: 0.1392 - val_accuracy: 0.9809\n",
      "Epoch 41/100\n",
      "375/375 [==============================] - 1s 2ms/step - loss: 0.0016 - accuracy: 0.9995 - val_loss: 0.1547 - val_accuracy: 0.9810\n",
      "Epoch 42/100\n",
      "375/375 [==============================] - 1s 2ms/step - loss: 0.0020 - accuracy: 0.9995 - val_loss: 0.1669 - val_accuracy: 0.9793\n",
      "Epoch 43/100\n",
      "375/375 [==============================] - 1s 2ms/step - loss: 0.0017 - accuracy: 0.9995 - val_loss: 0.1458 - val_accuracy: 0.9803\n",
      "Epoch 44/100\n",
      "375/375 [==============================] - 1s 2ms/step - loss: 0.0014 - accuracy: 0.9994 - val_loss: 0.1515 - val_accuracy: 0.9797\n",
      "Epoch 45/100\n",
      "375/375 [==============================] - 1s 2ms/step - loss: 0.0013 - accuracy: 0.9995 - val_loss: 0.1538 - val_accuracy: 0.9808\n",
      "Epoch 46/100\n",
      "375/375 [==============================] - 1s 2ms/step - loss: 0.0017 - accuracy: 0.9996 - val_loss: 0.1573 - val_accuracy: 0.9814\n",
      "Epoch 47/100\n",
      "375/375 [==============================] - 1s 2ms/step - loss: 0.0012 - accuracy: 0.9996 - val_loss: 0.1531 - val_accuracy: 0.9812\n",
      "Epoch 48/100\n",
      "375/375 [==============================] - 1s 2ms/step - loss: 0.0013 - accuracy: 0.9996 - val_loss: 0.1522 - val_accuracy: 0.9809\n",
      "Epoch 49/100\n",
      "375/375 [==============================] - 1s 2ms/step - loss: 0.0013 - accuracy: 0.9996 - val_loss: 0.1750 - val_accuracy: 0.9803\n",
      "Epoch 50/100\n",
      "375/375 [==============================] - 1s 2ms/step - loss: 0.0011 - accuracy: 0.9997 - val_loss: 0.1669 - val_accuracy: 0.9813\n",
      "Epoch 51/100\n",
      "375/375 [==============================] - 1s 2ms/step - loss: 0.0011 - accuracy: 0.9996 - val_loss: 0.1733 - val_accuracy: 0.9808\n",
      "Epoch 52/100\n",
      "375/375 [==============================] - 1s 2ms/step - loss: 0.0011 - accuracy: 0.9997 - val_loss: 0.1695 - val_accuracy: 0.9817\n",
      "Epoch 53/100\n",
      "375/375 [==============================] - 1s 2ms/step - loss: 0.0013 - accuracy: 0.9996 - val_loss: 0.1735 - val_accuracy: 0.9801\n",
      "Epoch 54/100\n",
      "375/375 [==============================] - 1s 2ms/step - loss: 0.0011 - accuracy: 0.9997 - val_loss: 0.1653 - val_accuracy: 0.9815\n",
      "Epoch 55/100\n",
      "375/375 [==============================] - 1s 2ms/step - loss: 0.0014 - accuracy: 0.9996 - val_loss: 0.1650 - val_accuracy: 0.9815\n",
      "Epoch 56/100\n",
      "375/375 [==============================] - 1s 2ms/step - loss: 6.4668e-04 - accuracy: 0.9998 - val_loss: 0.1610 - val_accuracy: 0.9813\n",
      "Epoch 57/100\n",
      "375/375 [==============================] - 1s 2ms/step - loss: 0.0012 - accuracy: 0.9996 - val_loss: 0.1639 - val_accuracy: 0.9825\n",
      "Epoch 58/100\n",
      "375/375 [==============================] - 1s 2ms/step - loss: 0.0012 - accuracy: 0.9996 - val_loss: 0.1736 - val_accuracy: 0.9811\n",
      "Epoch 59/100\n",
      "375/375 [==============================] - 1s 2ms/step - loss: 8.5671e-04 - accuracy: 0.9997 - val_loss: 0.1849 - val_accuracy: 0.9806\n",
      "Epoch 60/100\n",
      "375/375 [==============================] - 1s 2ms/step - loss: 0.0011 - accuracy: 0.9997 - val_loss: 0.1653 - val_accuracy: 0.9815\n",
      "Epoch 61/100\n",
      "375/375 [==============================] - 1s 2ms/step - loss: 7.3113e-04 - accuracy: 0.9998 - val_loss: 0.1708 - val_accuracy: 0.9818\n",
      "Epoch 62/100\n",
      "375/375 [==============================] - 1s 2ms/step - loss: 0.0014 - accuracy: 0.9996 - val_loss: 0.1754 - val_accuracy: 0.9810\n",
      "Epoch 63/100\n",
      "375/375 [==============================] - 1s 2ms/step - loss: 9.0048e-04 - accuracy: 0.9998 - val_loss: 0.1796 - val_accuracy: 0.9808\n",
      "Epoch 64/100\n",
      "375/375 [==============================] - 1s 2ms/step - loss: 6.4660e-04 - accuracy: 0.9998 - val_loss: 0.1765 - val_accuracy: 0.9821\n",
      "Epoch 65/100\n",
      "375/375 [==============================] - 1s 2ms/step - loss: 0.0014 - accuracy: 0.9997 - val_loss: 0.1756 - val_accuracy: 0.9813\n",
      "Epoch 66/100\n",
      "375/375 [==============================] - 1s 2ms/step - loss: 0.0011 - accuracy: 0.9997 - val_loss: 0.1783 - val_accuracy: 0.9810\n",
      "Epoch 67/100\n",
      "375/375 [==============================] - 1s 2ms/step - loss: 0.0011 - accuracy: 0.9996 - val_loss: 0.1786 - val_accuracy: 0.9817\n",
      "Epoch 68/100\n",
      "375/375 [==============================] - 1s 2ms/step - loss: 0.0016 - accuracy: 0.9996 - val_loss: 0.1981 - val_accuracy: 0.9801\n",
      "Epoch 69/100\n",
      "375/375 [==============================] - 1s 2ms/step - loss: 9.3242e-04 - accuracy: 0.9998 - val_loss: 0.1732 - val_accuracy: 0.9829\n",
      "Epoch 70/100\n",
      "375/375 [==============================] - 1s 2ms/step - loss: 4.6508e-04 - accuracy: 0.9999 - val_loss: 0.1714 - val_accuracy: 0.9817\n",
      "Epoch 71/100\n",
      "375/375 [==============================] - 1s 2ms/step - loss: 5.3284e-04 - accuracy: 0.9998 - val_loss: 0.1863 - val_accuracy: 0.9824\n",
      "Epoch 72/100\n",
      "375/375 [==============================] - 1s 2ms/step - loss: 8.1284e-04 - accuracy: 0.9998 - val_loss: 0.1795 - val_accuracy: 0.9817\n",
      "Epoch 73/100\n",
      "375/375 [==============================] - 1s 2ms/step - loss: 0.0013 - accuracy: 0.9996 - val_loss: 0.2018 - val_accuracy: 0.9801\n",
      "Epoch 74/100\n",
      "375/375 [==============================] - 1s 2ms/step - loss: 6.1622e-04 - accuracy: 0.9998 - val_loss: 0.1862 - val_accuracy: 0.9807\n",
      "Epoch 75/100\n",
      "375/375 [==============================] - 1s 2ms/step - loss: 0.0011 - accuracy: 0.9997 - val_loss: 0.1900 - val_accuracy: 0.9808\n",
      "Epoch 76/100\n",
      "375/375 [==============================] - 1s 2ms/step - loss: 6.4575e-04 - accuracy: 0.9998 - val_loss: 0.1861 - val_accuracy: 0.9803\n",
      "Epoch 77/100\n",
      "375/375 [==============================] - 1s 2ms/step - loss: 0.0010 - accuracy: 0.9995 - val_loss: 0.2058 - val_accuracy: 0.9811\n",
      "Epoch 78/100\n",
      "375/375 [==============================] - 1s 2ms/step - loss: 7.9084e-04 - accuracy: 0.9998 - val_loss: 0.1969 - val_accuracy: 0.9819\n",
      "Epoch 79/100\n",
      "375/375 [==============================] - 1s 2ms/step - loss: 8.9314e-04 - accuracy: 0.9997 - val_loss: 0.1945 - val_accuracy: 0.9813\n",
      "Epoch 80/100\n",
      "375/375 [==============================] - 1s 2ms/step - loss: 6.1013e-04 - accuracy: 0.9998 - val_loss: 0.2048 - val_accuracy: 0.9819\n",
      "Epoch 81/100\n",
      "375/375 [==============================] - 1s 2ms/step - loss: 6.6728e-04 - accuracy: 0.9998 - val_loss: 0.1972 - val_accuracy: 0.9816\n",
      "Epoch 82/100\n",
      "375/375 [==============================] - 1s 2ms/step - loss: 5.0353e-04 - accuracy: 0.9999 - val_loss: 0.2032 - val_accuracy: 0.9827\n",
      "Epoch 83/100\n",
      "375/375 [==============================] - 1s 2ms/step - loss: 4.0312e-04 - accuracy: 0.9999 - val_loss: 0.2056 - val_accuracy: 0.9824\n",
      "Epoch 84/100\n",
      "375/375 [==============================] - 1s 2ms/step - loss: 7.0843e-04 - accuracy: 0.9998 - val_loss: 0.2097 - val_accuracy: 0.9814\n",
      "Epoch 85/100\n",
      "375/375 [==============================] - 1s 2ms/step - loss: 5.2849e-04 - accuracy: 0.9998 - val_loss: 0.2081 - val_accuracy: 0.9822\n",
      "Epoch 86/100\n",
      "375/375 [==============================] - 1s 2ms/step - loss: 6.9194e-04 - accuracy: 0.9999 - val_loss: 0.1950 - val_accuracy: 0.9828\n",
      "Epoch 87/100\n",
      "375/375 [==============================] - 1s 2ms/step - loss: 7.0611e-04 - accuracy: 0.9998 - val_loss: 0.2085 - val_accuracy: 0.9814\n",
      "Epoch 88/100\n",
      "375/375 [==============================] - 1s 2ms/step - loss: 7.0831e-04 - accuracy: 0.9998 - val_loss: 0.1927 - val_accuracy: 0.9827\n",
      "Epoch 89/100\n",
      "375/375 [==============================] - 1s 2ms/step - loss: 4.8020e-04 - accuracy: 0.9999 - val_loss: 0.2098 - val_accuracy: 0.9817\n",
      "Epoch 90/100\n",
      "375/375 [==============================] - 1s 2ms/step - loss: 6.8799e-04 - accuracy: 0.9998 - val_loss: 0.1981 - val_accuracy: 0.9820\n",
      "Epoch 91/100\n",
      "375/375 [==============================] - 1s 2ms/step - loss: 0.0010 - accuracy: 0.9998 - val_loss: 0.2132 - val_accuracy: 0.9816\n",
      "Epoch 92/100\n",
      "375/375 [==============================] - 1s 2ms/step - loss: 4.9381e-04 - accuracy: 0.9998 - val_loss: 0.2160 - val_accuracy: 0.9809\n",
      "Epoch 93/100\n",
      "375/375 [==============================] - 1s 2ms/step - loss: 5.9560e-04 - accuracy: 0.9998 - val_loss: 0.1883 - val_accuracy: 0.9824\n",
      "Epoch 94/100\n",
      "375/375 [==============================] - 1s 2ms/step - loss: 4.2287e-04 - accuracy: 0.9999 - val_loss: 0.2005 - val_accuracy: 0.9827\n",
      "Epoch 95/100\n",
      "375/375 [==============================] - 1s 2ms/step - loss: 4.7762e-04 - accuracy: 0.9999 - val_loss: 0.1999 - val_accuracy: 0.9822\n",
      "Epoch 96/100\n",
      "375/375 [==============================] - 1s 2ms/step - loss: 0.0011 - accuracy: 0.9997 - val_loss: 0.2009 - val_accuracy: 0.9833\n",
      "Epoch 97/100\n",
      "375/375 [==============================] - 1s 2ms/step - loss: 4.8282e-04 - accuracy: 0.9998 - val_loss: 0.1958 - val_accuracy: 0.9822\n",
      "Epoch 98/100\n",
      "375/375 [==============================] - 1s 2ms/step - loss: 5.8134e-04 - accuracy: 0.9998 - val_loss: 0.2037 - val_accuracy: 0.9824\n",
      "Epoch 99/100\n",
      "375/375 [==============================] - 1s 2ms/step - loss: 7.7869e-04 - accuracy: 0.9998 - val_loss: 0.1958 - val_accuracy: 0.9827\n",
      "Epoch 100/100\n",
      "375/375 [==============================] - 1s 2ms/step - loss: 6.6106e-04 - accuracy: 0.9999 - val_loss: 0.1952 - val_accuracy: 0.9826\n"
     ]
    }
   ],
   "source": [
    "# %%time\n",
    "\n",
    "mnist_BN_H = mnist_BN.fit(X_train, y_train,\n",
    "                       epochs = 100,\n",
    "                       batch_size = 128,\n",
    "                       validation_data = (X_valid, y_valid))"
   ]
  },
  {
   "cell_type": "code",
   "execution_count": null,
   "metadata": {
    "colab": {
     "base_uri": "https://localhost:8080/",
     "height": 276
    },
    "executionInfo": {
     "elapsed": 563,
     "status": "error",
     "timestamp": 1705294217066,
     "user": {
      "displayName": "맹광국",
      "userId": "00860531964279012518"
     },
     "user_tz": -540
    },
    "id": "Eu5P_2G9XHA7",
    "outputId": "0925eb84-e4ff-463b-806d-1db52372a4b3"
   },
   "outputs": [
    {
     "name": "stdout",
     "output_type": "stream",
     "text": [
      "==== Batch Normalization ====\n"
     ]
    },
    {
     "ename": "NameError",
     "evalue": "name 'mnist_BN_H' is not defined",
     "output_type": "error",
     "traceback": [
      "\u001b[0;31m---------------------------------------------------------------------------\u001b[0m",
      "\u001b[0;31mNameError\u001b[0m                                 Traceback (most recent call last)",
      "\u001b[0;32m<ipython-input-139-5384d5237491>\u001b[0m in \u001b[0;36m<cell line: 4>\u001b[0;34m()\u001b[0m\n\u001b[1;32m      2\u001b[0m \u001b[0mprint\u001b[0m\u001b[0;34m(\u001b[0m\u001b[0;34m'==== Batch Normalization ===='\u001b[0m\u001b[0;34m)\u001b[0m\u001b[0;34m\u001b[0m\u001b[0;34m\u001b[0m\u001b[0m\n\u001b[1;32m      3\u001b[0m \u001b[0;34m\u001b[0m\u001b[0m\n\u001b[0;32m----> 4\u001b[0;31m \u001b[0mepochs\u001b[0m \u001b[0;34m=\u001b[0m \u001b[0mrange\u001b[0m\u001b[0;34m(\u001b[0m\u001b[0;36m1\u001b[0m\u001b[0;34m,\u001b[0m \u001b[0mlen\u001b[0m\u001b[0;34m(\u001b[0m\u001b[0mmnist_BN_H\u001b[0m\u001b[0;34m.\u001b[0m\u001b[0mhistory\u001b[0m\u001b[0;34m[\u001b[0m\u001b[0;34m'loss'\u001b[0m\u001b[0;34m]\u001b[0m\u001b[0;34m)\u001b[0m \u001b[0;34m+\u001b[0m \u001b[0;36m1\u001b[0m\u001b[0;34m)\u001b[0m\u001b[0;34m\u001b[0m\u001b[0;34m\u001b[0m\u001b[0m\n\u001b[0m\u001b[1;32m      5\u001b[0m \u001b[0;34m\u001b[0m\u001b[0m\n\u001b[1;32m      6\u001b[0m \u001b[0mplt\u001b[0m\u001b[0;34m.\u001b[0m\u001b[0mfigure\u001b[0m\u001b[0;34m(\u001b[0m\u001b[0mfigsize\u001b[0m \u001b[0;34m=\u001b[0m \u001b[0;34m(\u001b[0m\u001b[0;36m15\u001b[0m\u001b[0;34m,\u001b[0m \u001b[0;36m5\u001b[0m\u001b[0;34m)\u001b[0m\u001b[0;34m)\u001b[0m\u001b[0;34m\u001b[0m\u001b[0;34m\u001b[0m\u001b[0m\n",
      "\u001b[0;31mNameError\u001b[0m: name 'mnist_BN_H' is not defined"
     ]
    }
   ],
   "source": [
    "import matplotlib.pyplot as plt\n",
    "print('==== Batch Normalization ====')\n",
    "\n",
    "epochs = range(1, len(mnist_BN_H.history['loss']) + 1)\n",
    "\n",
    "plt.figure(figsize = (15, 5))\n",
    "\n",
    "plt.subplot(1, 2, 1)\n",
    "plt.plot(epochs, mnist_BN_H.history['loss'], 'b-')\n",
    "plt.plot(epochs, mnist_BN_H.history['val_loss'], 'r--')\n",
    "plt.title('Training & Validation Loss')\n",
    "plt.xlabel('Epochs')\n",
    "plt.ylabel('Loss')\n",
    "plt.legend(['Training Loss', 'Validation Loss'])\n",
    "plt.grid()\n",
    "\n",
    "plt.subplot(1, 2, 2)\n",
    "plt.plot(epochs, mnist_BN_H.history['accuracy'], 'b-')\n",
    "plt.plot(epochs, mnist_BN_H.history['val_accuracy'], 'r--')\n",
    "plt.title('Training & Validation Accuracy')\n",
    "plt.xlabel('Epochs')\n",
    "plt.ylabel('Accuracy')\n",
    "plt.legend(['Training Accuracy', 'Validation Accuracy'])\n",
    "plt.grid()\n",
    "\n",
    "plt.show()"
   ]
  },
  {
   "cell_type": "markdown",
   "metadata": {
    "id": "oDuFDTQWXHA8"
   },
   "source": [
    "# loss 결과 비교"
   ]
  },
  {
   "cell_type": "code",
   "execution_count": null,
   "metadata": {
    "colab": {
     "base_uri": "https://localhost:8080/",
     "height": 258
    },
    "executionInfo": {
     "elapsed": 4,
     "status": "error",
     "timestamp": 1705294217590,
     "user": {
      "displayName": "맹광국",
      "userId": "00860531964279012518"
     },
     "user_tz": -540
    },
    "id": "N5tsi-7UXHA8",
    "outputId": "9de67252-80bd-4f9c-d04a-63b044e22f89"
   },
   "outputs": [
    {
     "ename": "NameError",
     "evalue": "name 'mnist_BN_H' is not defined",
     "output_type": "error",
     "traceback": [
      "\u001b[0;31m---------------------------------------------------------------------------\u001b[0m",
      "\u001b[0;31mNameError\u001b[0m                                 Traceback (most recent call last)",
      "\u001b[0;32m<ipython-input-140-2bd83e610046>\u001b[0m in \u001b[0;36m<cell line: 3>\u001b[0;34m()\u001b[0m\n\u001b[1;32m      1\u001b[0m \u001b[0;32mimport\u001b[0m \u001b[0mmatplotlib\u001b[0m\u001b[0;34m.\u001b[0m\u001b[0mpyplot\u001b[0m \u001b[0;32mas\u001b[0m \u001b[0mplt\u001b[0m\u001b[0;34m\u001b[0m\u001b[0;34m\u001b[0m\u001b[0m\n\u001b[1;32m      2\u001b[0m \u001b[0;34m\u001b[0m\u001b[0m\n\u001b[0;32m----> 3\u001b[0;31m \u001b[0mepochs\u001b[0m \u001b[0;34m=\u001b[0m \u001b[0mrange\u001b[0m\u001b[0;34m(\u001b[0m\u001b[0;36m1\u001b[0m\u001b[0;34m,\u001b[0m \u001b[0mlen\u001b[0m\u001b[0;34m(\u001b[0m\u001b[0mmnist_BN_H\u001b[0m\u001b[0;34m.\u001b[0m\u001b[0mhistory\u001b[0m\u001b[0;34m[\u001b[0m\u001b[0;34m'loss'\u001b[0m\u001b[0;34m]\u001b[0m\u001b[0;34m)\u001b[0m \u001b[0;34m+\u001b[0m \u001b[0;36m1\u001b[0m\u001b[0;34m)\u001b[0m\u001b[0;34m\u001b[0m\u001b[0;34m\u001b[0m\u001b[0m\n\u001b[0m\u001b[1;32m      4\u001b[0m \u001b[0mplt\u001b[0m\u001b[0;34m.\u001b[0m\u001b[0mfigure\u001b[0m\u001b[0;34m(\u001b[0m\u001b[0mfigsize\u001b[0m \u001b[0;34m=\u001b[0m \u001b[0;34m(\u001b[0m\u001b[0;36m20\u001b[0m\u001b[0;34m,\u001b[0m \u001b[0;36m20\u001b[0m\u001b[0;34m)\u001b[0m\u001b[0;34m)\u001b[0m\u001b[0;34m\u001b[0m\u001b[0;34m\u001b[0m\u001b[0m\n\u001b[1;32m      5\u001b[0m \u001b[0mplt\u001b[0m\u001b[0;34m.\u001b[0m\u001b[0msuptitle\u001b[0m\u001b[0;34m(\u001b[0m\u001b[0;34m'==== Overfiting Solution Comparison ===='\u001b[0m\u001b[0;34m)\u001b[0m\u001b[0;34m\u001b[0m\u001b[0;34m\u001b[0m\u001b[0m\n",
      "\u001b[0;31mNameError\u001b[0m: name 'mnist_BN_H' is not defined"
     ]
    }
   ],
   "source": [
    "import matplotlib.pyplot as plt\n",
    "\n",
    "epochs = range(1, len(mnist_BN_H.history['loss']) + 1)\n",
    "plt.figure(figsize = (20, 20))\n",
    "plt.suptitle('==== Overfiting Solution Comparison ====')\n",
    "\n",
    "\n",
    "plt.subplot(4, 2, 1)\n",
    "plt.plot(epochs, Hist_mnist.history['loss'], 'b-')\n",
    "plt.plot(epochs, Hist_mnist.history['val_loss'], 'r--')\n",
    "plt.title('Model Capacity - Loss')\n",
    "plt.xlabel('Epochs')\n",
    "plt.ylabel('Loss')\n",
    "plt.legend(['Training Loss', 'Validation Loss'])\n",
    "plt.grid()\n",
    "\n",
    "plt.subplot(4, 2, 2)\n",
    "plt.plot(epochs, Hist_mnist.history['accuracy'], 'b-')\n",
    "plt.plot(epochs, Hist_mnist.history['val_accuracy'], 'r--')\n",
    "plt.title('Model Capacity - ACC')\n",
    "plt.xlabel('Epochs')\n",
    "plt.ylabel('Accuracy')\n",
    "plt.legend(['Training Accuracy', 'Validation Accuracy'])\n",
    "plt.grid()\n",
    "\n",
    "\n",
    "plt.subplot(4, 2, 3)\n",
    "plt.plot(epochs, mnist_L2R_H.history['loss'], 'b-')\n",
    "plt.plot(epochs, mnist_L2R_H.history['val_loss'], 'r--')\n",
    "plt.title('L2 Regularization - Loss')\n",
    "plt.xlabel('Epochs')\n",
    "plt.ylabel('Loss')\n",
    "plt.legend(['Training Loss', 'Validation Loss'])\n",
    "plt.grid()\n",
    "\n",
    "plt.subplot(4, 2, 4)\n",
    "plt.plot(epochs, mnist_L2R_H.history['accuracy'], 'b-')\n",
    "plt.plot(epochs, mnist_L2R_H.history['val_accuracy'], 'r--')\n",
    "plt.title('L2 Regularization - ACC')\n",
    "plt.xlabel('Epochs')\n",
    "plt.ylabel('Accuracy')\n",
    "plt.legend(['Training Accuracy', 'Validation Accuracy'])\n",
    "plt.grid()\n",
    "\n",
    "\n",
    "plt.subplot(4, 2, 5)\n",
    "plt.plot(epochs, mnist_D_H.history['loss'], 'b-')\n",
    "plt.plot(epochs, mnist_D_H.history['val_loss'], 'r--')\n",
    "plt.title('Drop Out - Loss')\n",
    "plt.xlabel('Epochs')\n",
    "plt.ylabel('Loss')\n",
    "plt.legend(['Training Loss', 'Validation Loss'])\n",
    "plt.grid()\n",
    "\n",
    "plt.subplot(4, 2, 6)\n",
    "plt.plot(epochs, mnist_D_H.history['accuracy'], 'b-')\n",
    "plt.plot(epochs, mnist_D_H.history['val_accuracy'], 'r--')\n",
    "plt.title('Drop Out - ACC')\n",
    "plt.xlabel('Epochs')\n",
    "plt.ylabel('Accuracy')\n",
    "plt.legend(['Training Accuracy', 'Validation Accuracy'])\n",
    "plt.grid()\n",
    "\n",
    "\n",
    "\n",
    "plt.subplot(4, 2, 7)\n",
    "plt.plot(epochs, mnist_BN_H.history['loss'], 'b-')\n",
    "plt.plot(epochs, mnist_BN_H.history['val_loss'], 'r--')\n",
    "plt.title('Batch Normalization - Loss')\n",
    "plt.xlabel('Epochs')\n",
    "plt.ylabel('Loss')\n",
    "plt.legend(['Training Loss', 'Validation Loss'])\n",
    "plt.grid()\n",
    "\n",
    "plt.subplot(4, 2, 8)\n",
    "plt.plot(epochs, mnist_BN_H.history['accuracy'], 'b-')\n",
    "plt.plot(epochs, mnist_BN_H.history['val_accuracy'], 'r--')\n",
    "plt.title('Batch Normalization - ACC')\n",
    "plt.xlabel('Epochs')\n",
    "plt.ylabel('Accuracy')\n",
    "plt.legend(['Training Accuracy', 'Validation Accuracy'])\n",
    "plt.grid()\n",
    "\n",
    "plt.show()"
   ]
  },
  {
   "cell_type": "markdown",
   "metadata": {
    "id": "FYFRygPSXHA8"
   },
   "source": [
    "# Batch Normalization & Drop out"
   ]
  },
  {
   "cell_type": "code",
   "execution_count": null,
   "metadata": {
    "id": "qqVEvqTWXHA8"
   },
   "outputs": [],
   "source": [
    "mnist_BN_D = models.Sequential()\n",
    "\n",
    "mnist_BN_D.add(layers.Dense(512, input_shape = (28 * 28,)))\n",
    "mnist_BN_D.add(layers.BatchNormalization())\n",
    "mnist_BN_D.add(layers.Activation('relu'))\n",
    "mnist_BN_D.add(layers.Dropout(0.4))\n",
    "\n",
    "mnist_BN_D.add(layers.Dense(256 ))\n",
    "mnist_BN_D.add(layers.BatchNormalization())\n",
    "mnist_BN_D.add(layers.Activation('relu'))\n",
    "mnist_BN_D.add(layers.Dropout(0.4))\n",
    "mnist_BN_D.add(layers.Dense(10, activation = 'softmax'))"
   ]
  },
  {
   "cell_type": "code",
   "execution_count": null,
   "metadata": {
    "colab": {
     "base_uri": "https://localhost:8080/"
    },
    "executionInfo": {
     "elapsed": 7,
     "status": "ok",
     "timestamp": 1705294218320,
     "user": {
      "displayName": "맹광국",
      "userId": "00860531964279012518"
     },
     "user_tz": -540
    },
    "id": "Vq6PEFzcXHA8",
    "outputId": "a0979f3f-8685-41ff-f1ce-00b825c1fd74"
   },
   "outputs": [
    {
     "name": "stdout",
     "output_type": "stream",
     "text": [
      "Model: \"sequential_8\"\n",
      "_________________________________________________________________\n",
      " Layer (type)                Output Shape              Param #   \n",
      "=================================================================\n",
      " dense_21 (Dense)            (None, 512)               401920    \n",
      "                                                                 \n",
      " batch_normalization (Batch  (None, 512)               2048      \n",
      " Normalization)                                                  \n",
      "                                                                 \n",
      " activation (Activation)     (None, 512)               0         \n",
      "                                                                 \n",
      " dropout (Dropout)           (None, 512)               0         \n",
      "                                                                 \n",
      " dense_22 (Dense)            (None, 256)               131328    \n",
      "                                                                 \n",
      " batch_normalization_1 (Bat  (None, 256)               1024      \n",
      " chNormalization)                                                \n",
      "                                                                 \n",
      " activation_1 (Activation)   (None, 256)               0         \n",
      "                                                                 \n",
      " dropout_1 (Dropout)         (None, 256)               0         \n",
      "                                                                 \n",
      " dense_23 (Dense)            (None, 10)                2570      \n",
      "                                                                 \n",
      "=================================================================\n",
      "Total params: 538890 (2.06 MB)\n",
      "Trainable params: 537354 (2.05 MB)\n",
      "Non-trainable params: 1536 (6.00 KB)\n",
      "_________________________________________________________________\n"
     ]
    }
   ],
   "source": [
    "mnist_BN_D.summary()"
   ]
  },
  {
   "cell_type": "code",
   "execution_count": null,
   "metadata": {
    "id": "O4XNNOCoXHA9"
   },
   "outputs": [],
   "source": [
    "mnist_BN_D.compile(loss = 'categorical_crossentropy',\n",
    "              optimizer = 'rmsprop',\n",
    "              metrics = ['accuracy'])"
   ]
  },
  {
   "cell_type": "code",
   "execution_count": null,
   "metadata": {
    "colab": {
     "background_save": true,
     "base_uri": "https://localhost:8080/"
    },
    "collapsed": true,
    "id": "Z_cH8y-_XHA9",
    "outputId": "81c65efa-5e00-43c1-d4da-8140947de47c"
   },
   "outputs": [
    {
     "name": "stdout",
     "output_type": "stream",
     "text": [
      "Epoch 1/100\n",
      "375/375 [==============================] - 5s 6ms/step - loss: 0.3195 - accuracy: 0.9022 - val_loss: 0.1508 - val_accuracy: 0.9538\n",
      "Epoch 2/100\n",
      "375/375 [==============================] - 3s 8ms/step - loss: 0.1636 - accuracy: 0.9502 - val_loss: 0.1320 - val_accuracy: 0.9621\n",
      "Epoch 3/100\n",
      "375/375 [==============================] - 4s 11ms/step - loss: 0.1274 - accuracy: 0.9604 - val_loss: 0.1080 - val_accuracy: 0.9688\n",
      "Epoch 4/100\n",
      "375/375 [==============================] - 4s 9ms/step - loss: 0.1088 - accuracy: 0.9665 - val_loss: 0.0917 - val_accuracy: 0.9745\n",
      "Epoch 5/100\n",
      "375/375 [==============================] - 2s 5ms/step - loss: 0.0948 - accuracy: 0.9704 - val_loss: 0.0920 - val_accuracy: 0.9754\n",
      "Epoch 6/100\n",
      "375/375 [==============================] - 2s 5ms/step - loss: 0.0865 - accuracy: 0.9730 - val_loss: 0.0924 - val_accuracy: 0.9762\n",
      "Epoch 7/100\n",
      "375/375 [==============================] - 2s 5ms/step - loss: 0.0805 - accuracy: 0.9749 - val_loss: 0.0905 - val_accuracy: 0.9777\n",
      "Epoch 8/100\n",
      "375/375 [==============================] - 2s 5ms/step - loss: 0.0733 - accuracy: 0.9773 - val_loss: 0.0841 - val_accuracy: 0.9795\n",
      "Epoch 9/100\n",
      "375/375 [==============================] - 3s 7ms/step - loss: 0.0674 - accuracy: 0.9794 - val_loss: 0.0948 - val_accuracy: 0.9750\n",
      "Epoch 10/100\n",
      "375/375 [==============================] - 2s 6ms/step - loss: 0.0661 - accuracy: 0.9797 - val_loss: 0.0931 - val_accuracy: 0.9778\n",
      "Epoch 11/100\n",
      "375/375 [==============================] - 3s 9ms/step - loss: 0.0610 - accuracy: 0.9806 - val_loss: 0.0852 - val_accuracy: 0.9801\n",
      "Epoch 12/100\n",
      "375/375 [==============================] - 3s 8ms/step - loss: 0.0588 - accuracy: 0.9819 - val_loss: 0.0851 - val_accuracy: 0.9788\n",
      "Epoch 13/100\n",
      "375/375 [==============================] - 2s 5ms/step - loss: 0.0568 - accuracy: 0.9829 - val_loss: 0.0924 - val_accuracy: 0.9798\n",
      "Epoch 14/100\n",
      "375/375 [==============================] - 3s 7ms/step - loss: 0.0561 - accuracy: 0.9829 - val_loss: 0.0943 - val_accuracy: 0.9797\n",
      "Epoch 15/100\n",
      "375/375 [==============================] - 2s 5ms/step - loss: 0.0541 - accuracy: 0.9834 - val_loss: 0.0878 - val_accuracy: 0.9803\n",
      "Epoch 16/100\n",
      "375/375 [==============================] - 2s 5ms/step - loss: 0.0483 - accuracy: 0.9848 - val_loss: 0.0942 - val_accuracy: 0.9797\n",
      "Epoch 17/100\n",
      "375/375 [==============================] - 2s 4ms/step - loss: 0.0457 - accuracy: 0.9863 - val_loss: 0.0933 - val_accuracy: 0.9791\n",
      "Epoch 18/100\n",
      "375/375 [==============================] - 2s 5ms/step - loss: 0.0478 - accuracy: 0.9856 - val_loss: 0.0951 - val_accuracy: 0.9793\n",
      "Epoch 19/100\n",
      "375/375 [==============================] - 2s 5ms/step - loss: 0.0487 - accuracy: 0.9858 - val_loss: 0.0936 - val_accuracy: 0.9810\n",
      "Epoch 20/100\n",
      "375/375 [==============================] - 2s 5ms/step - loss: 0.0439 - accuracy: 0.9871 - val_loss: 0.0940 - val_accuracy: 0.9811\n",
      "Epoch 21/100\n",
      "375/375 [==============================] - 2s 6ms/step - loss: 0.0406 - accuracy: 0.9879 - val_loss: 0.0952 - val_accuracy: 0.9803\n",
      "Epoch 22/100\n",
      "375/375 [==============================] - 2s 5ms/step - loss: 0.0447 - accuracy: 0.9870 - val_loss: 0.0937 - val_accuracy: 0.9807\n",
      "Epoch 23/100\n",
      "375/375 [==============================] - 2s 5ms/step - loss: 0.0365 - accuracy: 0.9891 - val_loss: 0.0967 - val_accuracy: 0.9813\n",
      "Epoch 24/100\n",
      "375/375 [==============================] - 2s 5ms/step - loss: 0.0380 - accuracy: 0.9887 - val_loss: 0.0988 - val_accuracy: 0.9818\n",
      "Epoch 25/100\n",
      "375/375 [==============================] - 2s 5ms/step - loss: 0.0392 - accuracy: 0.9883 - val_loss: 0.0957 - val_accuracy: 0.9810\n",
      "Epoch 26/100\n",
      "375/375 [==============================] - 2s 5ms/step - loss: 0.0363 - accuracy: 0.9897 - val_loss: 0.0950 - val_accuracy: 0.9820\n",
      "Epoch 27/100\n",
      "375/375 [==============================] - 2s 5ms/step - loss: 0.0370 - accuracy: 0.9895 - val_loss: 0.1034 - val_accuracy: 0.9812\n",
      "Epoch 28/100\n",
      "375/375 [==============================] - 3s 7ms/step - loss: 0.0321 - accuracy: 0.9905 - val_loss: 0.1059 - val_accuracy: 0.9796\n",
      "Epoch 29/100\n",
      "375/375 [==============================] - 2s 5ms/step - loss: 0.0351 - accuracy: 0.9897 - val_loss: 0.1010 - val_accuracy: 0.9807\n",
      "Epoch 30/100\n",
      "375/375 [==============================] - 2s 5ms/step - loss: 0.0313 - accuracy: 0.9908 - val_loss: 0.0995 - val_accuracy: 0.9811\n",
      "Epoch 31/100\n",
      "375/375 [==============================] - 2s 5ms/step - loss: 0.0351 - accuracy: 0.9908 - val_loss: 0.1040 - val_accuracy: 0.9796\n",
      "Epoch 32/100\n",
      "375/375 [==============================] - 2s 5ms/step - loss: 0.0325 - accuracy: 0.9899 - val_loss: 0.1099 - val_accuracy: 0.9812\n",
      "Epoch 33/100\n",
      "375/375 [==============================] - 2s 5ms/step - loss: 0.0325 - accuracy: 0.9905 - val_loss: 0.1045 - val_accuracy: 0.9819\n",
      "Epoch 34/100\n",
      "375/375 [==============================] - 2s 5ms/step - loss: 0.0313 - accuracy: 0.9907 - val_loss: 0.1013 - val_accuracy: 0.9812\n",
      "Epoch 35/100\n",
      "375/375 [==============================] - 2s 6ms/step - loss: 0.0310 - accuracy: 0.9910 - val_loss: 0.1075 - val_accuracy: 0.9813\n",
      "Epoch 36/100\n",
      "375/375 [==============================] - 2s 4ms/step - loss: 0.0306 - accuracy: 0.9909 - val_loss: 0.1097 - val_accuracy: 0.9812\n",
      "Epoch 37/100\n",
      "375/375 [==============================] - 2s 5ms/step - loss: 0.0302 - accuracy: 0.9915 - val_loss: 0.1061 - val_accuracy: 0.9815\n",
      "Epoch 38/100\n",
      "375/375 [==============================] - 2s 5ms/step - loss: 0.0302 - accuracy: 0.9915 - val_loss: 0.1046 - val_accuracy: 0.9806\n",
      "Epoch 39/100\n",
      "375/375 [==============================] - 2s 5ms/step - loss: 0.0283 - accuracy: 0.9919 - val_loss: 0.1180 - val_accuracy: 0.9812\n",
      "Epoch 40/100\n",
      "375/375 [==============================] - 2s 5ms/step - loss: 0.0294 - accuracy: 0.9910 - val_loss: 0.1111 - val_accuracy: 0.9818\n",
      "Epoch 41/100\n",
      "375/375 [==============================] - 2s 6ms/step - loss: 0.0283 - accuracy: 0.9915 - val_loss: 0.1113 - val_accuracy: 0.9823\n",
      "Epoch 42/100\n",
      "375/375 [==============================] - 2s 6ms/step - loss: 0.0285 - accuracy: 0.9920 - val_loss: 0.1255 - val_accuracy: 0.9803\n",
      "Epoch 43/100\n",
      "375/375 [==============================] - 2s 5ms/step - loss: 0.0283 - accuracy: 0.9918 - val_loss: 0.1139 - val_accuracy: 0.9811\n",
      "Epoch 44/100\n",
      "375/375 [==============================] - 2s 5ms/step - loss: 0.0273 - accuracy: 0.9919 - val_loss: 0.1082 - val_accuracy: 0.9818\n",
      "Epoch 45/100\n",
      "375/375 [==============================] - 2s 5ms/step - loss: 0.0271 - accuracy: 0.9924 - val_loss: 0.1092 - val_accuracy: 0.9811\n",
      "Epoch 46/100\n",
      "375/375 [==============================] - 2s 5ms/step - loss: 0.0251 - accuracy: 0.9926 - val_loss: 0.1279 - val_accuracy: 0.9810\n",
      "Epoch 47/100\n",
      "375/375 [==============================] - 2s 5ms/step - loss: 0.0271 - accuracy: 0.9925 - val_loss: 0.1167 - val_accuracy: 0.9813\n",
      "Epoch 48/100\n",
      "375/375 [==============================] - 2s 7ms/step - loss: 0.0253 - accuracy: 0.9927 - val_loss: 0.1240 - val_accuracy: 0.9812\n",
      "Epoch 49/100\n",
      "375/375 [==============================] - 2s 6ms/step - loss: 0.0257 - accuracy: 0.9926 - val_loss: 0.1170 - val_accuracy: 0.9812\n",
      "Epoch 50/100\n",
      "375/375 [==============================] - 2s 5ms/step - loss: 0.0253 - accuracy: 0.9928 - val_loss: 0.1187 - val_accuracy: 0.9818\n",
      "Epoch 51/100\n",
      "375/375 [==============================] - 2s 5ms/step - loss: 0.0244 - accuracy: 0.9931 - val_loss: 0.1177 - val_accuracy: 0.9809\n",
      "Epoch 52/100\n",
      "375/375 [==============================] - 2s 5ms/step - loss: 0.0268 - accuracy: 0.9921 - val_loss: 0.1240 - val_accuracy: 0.9818\n",
      "Epoch 53/100\n",
      "375/375 [==============================] - 2s 5ms/step - loss: 0.0262 - accuracy: 0.9933 - val_loss: 0.1318 - val_accuracy: 0.9805\n",
      "Epoch 54/100\n",
      "375/375 [==============================] - 2s 5ms/step - loss: 0.0279 - accuracy: 0.9924 - val_loss: 0.1284 - val_accuracy: 0.9814\n",
      "Epoch 55/100\n",
      "375/375 [==============================] - 3s 7ms/step - loss: 0.0252 - accuracy: 0.9925 - val_loss: 0.1178 - val_accuracy: 0.9812\n",
      "Epoch 56/100\n",
      "375/375 [==============================] - 2s 5ms/step - loss: 0.0254 - accuracy: 0.9932 - val_loss: 0.1247 - val_accuracy: 0.9814\n",
      "Epoch 57/100\n",
      "375/375 [==============================] - 2s 5ms/step - loss: 0.0252 - accuracy: 0.9932 - val_loss: 0.1202 - val_accuracy: 0.9817\n",
      "Epoch 58/100\n",
      "375/375 [==============================] - 2s 5ms/step - loss: 0.0246 - accuracy: 0.9932 - val_loss: 0.1214 - val_accuracy: 0.9818\n",
      "Epoch 59/100\n",
      "375/375 [==============================] - 2s 5ms/step - loss: 0.0221 - accuracy: 0.9935 - val_loss: 0.1220 - val_accuracy: 0.9824\n",
      "Epoch 60/100\n",
      "375/375 [==============================] - 2s 5ms/step - loss: 0.0224 - accuracy: 0.9938 - val_loss: 0.1253 - val_accuracy: 0.9819\n",
      "Epoch 61/100\n",
      "375/375 [==============================] - 2s 5ms/step - loss: 0.0232 - accuracy: 0.9938 - val_loss: 0.1273 - val_accuracy: 0.9820\n",
      "Epoch 62/100\n",
      "375/375 [==============================] - 2s 6ms/step - loss: 0.0226 - accuracy: 0.9934 - val_loss: 0.1235 - val_accuracy: 0.9827\n",
      "Epoch 63/100\n",
      "375/375 [==============================] - 2s 5ms/step - loss: 0.0212 - accuracy: 0.9943 - val_loss: 0.1227 - val_accuracy: 0.9828\n",
      "Epoch 64/100\n",
      "375/375 [==============================] - 2s 5ms/step - loss: 0.0238 - accuracy: 0.9938 - val_loss: 0.1198 - val_accuracy: 0.9823\n",
      "Epoch 65/100\n",
      "375/375 [==============================] - 2s 5ms/step - loss: 0.0246 - accuracy: 0.9931 - val_loss: 0.1174 - val_accuracy: 0.9822\n",
      "Epoch 66/100\n",
      "375/375 [==============================] - 2s 5ms/step - loss: 0.0239 - accuracy: 0.9937 - val_loss: 0.1155 - val_accuracy: 0.9829\n",
      "Epoch 67/100\n",
      "375/375 [==============================] - 2s 5ms/step - loss: 0.0235 - accuracy: 0.9936 - val_loss: 0.1164 - val_accuracy: 0.9831\n",
      "Epoch 68/100\n",
      "375/375 [==============================] - 2s 6ms/step - loss: 0.0202 - accuracy: 0.9941 - val_loss: 0.1293 - val_accuracy: 0.9814\n",
      "Epoch 69/100\n",
      "375/375 [==============================] - 2s 5ms/step - loss: 0.0227 - accuracy: 0.9944 - val_loss: 0.1296 - val_accuracy: 0.9827\n",
      "Epoch 70/100\n",
      "375/375 [==============================] - 2s 5ms/step - loss: 0.0224 - accuracy: 0.9942 - val_loss: 0.1292 - val_accuracy: 0.9826\n",
      "Epoch 71/100\n",
      "375/375 [==============================] - 2s 5ms/step - loss: 0.0218 - accuracy: 0.9945 - val_loss: 0.1260 - val_accuracy: 0.9823\n",
      "Epoch 72/100\n",
      "375/375 [==============================] - 2s 5ms/step - loss: 0.0212 - accuracy: 0.9944 - val_loss: 0.1359 - val_accuracy: 0.9811\n",
      "Epoch 73/100\n",
      "375/375 [==============================] - 2s 5ms/step - loss: 0.0222 - accuracy: 0.9947 - val_loss: 0.1332 - val_accuracy: 0.9824\n",
      "Epoch 74/100\n",
      "375/375 [==============================] - 2s 6ms/step - loss: 0.0215 - accuracy: 0.9950 - val_loss: 0.1415 - val_accuracy: 0.9812\n",
      "Epoch 75/100\n",
      "375/375 [==============================] - 2s 5ms/step - loss: 0.0215 - accuracy: 0.9945 - val_loss: 0.1362 - val_accuracy: 0.9818\n",
      "Epoch 76/100\n",
      "375/375 [==============================] - 2s 5ms/step - loss: 0.0248 - accuracy: 0.9939 - val_loss: 0.1423 - val_accuracy: 0.9823\n",
      "Epoch 77/100\n",
      "375/375 [==============================] - 2s 5ms/step - loss: 0.0236 - accuracy: 0.9937 - val_loss: 0.1370 - val_accuracy: 0.9840\n",
      "Epoch 78/100\n",
      "375/375 [==============================] - 2s 5ms/step - loss: 0.0218 - accuracy: 0.9944 - val_loss: 0.1350 - val_accuracy: 0.9827\n",
      "Epoch 79/100\n",
      "375/375 [==============================] - 2s 5ms/step - loss: 0.0243 - accuracy: 0.9936 - val_loss: 0.1341 - val_accuracy: 0.9827\n",
      "Epoch 80/100\n",
      "375/375 [==============================] - 2s 5ms/step - loss: 0.0207 - accuracy: 0.9942 - val_loss: 0.1363 - val_accuracy: 0.9822\n",
      "Epoch 81/100\n",
      "375/375 [==============================] - 2s 6ms/step - loss: 0.0202 - accuracy: 0.9944 - val_loss: 0.1282 - val_accuracy: 0.9825\n",
      "Epoch 82/100\n",
      "375/375 [==============================] - 2s 5ms/step - loss: 0.0223 - accuracy: 0.9939 - val_loss: 0.1376 - val_accuracy: 0.9822\n",
      "Epoch 83/100\n",
      "375/375 [==============================] - 2s 5ms/step - loss: 0.0206 - accuracy: 0.9944 - val_loss: 0.1377 - val_accuracy: 0.9819\n",
      "Epoch 84/100\n",
      "375/375 [==============================] - 2s 5ms/step - loss: 0.0192 - accuracy: 0.9948 - val_loss: 0.1355 - val_accuracy: 0.9819\n",
      "Epoch 85/100\n",
      "375/375 [==============================] - 2s 5ms/step - loss: 0.0225 - accuracy: 0.9938 - val_loss: 0.1385 - val_accuracy: 0.9819\n",
      "Epoch 86/100\n",
      "375/375 [==============================] - 2s 5ms/step - loss: 0.0201 - accuracy: 0.9946 - val_loss: 0.1427 - val_accuracy: 0.9813\n",
      "Epoch 87/100\n",
      "375/375 [==============================] - 2s 7ms/step - loss: 0.0208 - accuracy: 0.9950 - val_loss: 0.1311 - val_accuracy: 0.9822\n",
      "Epoch 88/100\n",
      "375/375 [==============================] - 2s 5ms/step - loss: 0.0220 - accuracy: 0.9941 - val_loss: 0.1349 - val_accuracy: 0.9816\n",
      "Epoch 89/100\n",
      "375/375 [==============================] - 2s 5ms/step - loss: 0.0193 - accuracy: 0.9952 - val_loss: 0.1348 - val_accuracy: 0.9827\n",
      "Epoch 90/100\n",
      "375/375 [==============================] - 2s 5ms/step - loss: 0.0187 - accuracy: 0.9952 - val_loss: 0.1346 - val_accuracy: 0.9828\n",
      "Epoch 91/100\n",
      "375/375 [==============================] - 2s 5ms/step - loss: 0.0198 - accuracy: 0.9948 - val_loss: 0.1411 - val_accuracy: 0.9812\n",
      "Epoch 92/100\n",
      "375/375 [==============================] - 2s 5ms/step - loss: 0.0218 - accuracy: 0.9950 - val_loss: 0.1274 - val_accuracy: 0.9834\n",
      "Epoch 93/100\n",
      "375/375 [==============================] - 2s 6ms/step - loss: 0.0203 - accuracy: 0.9952 - val_loss: 0.1406 - val_accuracy: 0.9820\n",
      "Epoch 94/100\n",
      "375/375 [==============================] - 2s 6ms/step - loss: 0.0182 - accuracy: 0.9953 - val_loss: 0.1295 - val_accuracy: 0.9827\n",
      "Epoch 95/100\n",
      "375/375 [==============================] - 2s 5ms/step - loss: 0.0188 - accuracy: 0.9951 - val_loss: 0.1331 - val_accuracy: 0.9827\n",
      "Epoch 96/100\n",
      "375/375 [==============================] - 2s 5ms/step - loss: 0.0180 - accuracy: 0.9949 - val_loss: 0.1338 - val_accuracy: 0.9815\n",
      "Epoch 97/100\n",
      "375/375 [==============================] - 2s 5ms/step - loss: 0.0213 - accuracy: 0.9941 - val_loss: 0.1440 - val_accuracy: 0.9823\n",
      "Epoch 98/100\n",
      "375/375 [==============================] - 2s 5ms/step - loss: 0.0201 - accuracy: 0.9951 - val_loss: 0.1420 - val_accuracy: 0.9827\n",
      "Epoch 99/100\n",
      "375/375 [==============================] - 2s 5ms/step - loss: 0.0214 - accuracy: 0.9949 - val_loss: 0.1423 - val_accuracy: 0.9833\n",
      "Epoch 100/100\n",
      "375/375 [==============================] - 2s 6ms/step - loss: 0.0200 - accuracy: 0.9950 - val_loss: 0.1439 - val_accuracy: 0.9816\n"
     ]
    }
   ],
   "source": [
    "# %%time\n",
    "\n",
    "mnist_BN_D_H = mnist_BN_D.fit(X_train, y_train,\n",
    "                       epochs = 100,\n",
    "                       batch_size = 128,\n",
    "                       validation_data = (X_valid, y_valid))"
   ]
  },
  {
   "cell_type": "code",
   "execution_count": null,
   "metadata": {
    "colab": {
     "background_save": true
    },
    "id": "0z1op_IxXHA9",
    "outputId": "7128ec46-bb11-4005-c5b8-66ed102f1b95",
    "scrolled": true
   },
   "outputs": [
    {
     "ename": "NameError",
     "evalue": "name 'history_model' is not defined",
     "output_type": "error",
     "traceback": [
      "\u001b[0;31m---------------------------------------------------------------------------\u001b[0m",
      "\u001b[0;31mNameError\u001b[0m                                 Traceback (most recent call last)",
      "\u001b[0;32m<ipython-input-145-f70c56e6c97f>\u001b[0m in \u001b[0;36m<cell line: 3>\u001b[0;34m()\u001b[0m\n\u001b[1;32m      1\u001b[0m \u001b[0;32mimport\u001b[0m \u001b[0mmatplotlib\u001b[0m\u001b[0;34m.\u001b[0m\u001b[0mpyplot\u001b[0m \u001b[0;32mas\u001b[0m \u001b[0mplt\u001b[0m\u001b[0;34m\u001b[0m\u001b[0;34m\u001b[0m\u001b[0m\n\u001b[1;32m      2\u001b[0m \u001b[0;34m\u001b[0m\u001b[0m\n\u001b[0;32m----> 3\u001b[0;31m \u001b[0mepochs\u001b[0m \u001b[0;34m=\u001b[0m \u001b[0mrange\u001b[0m\u001b[0;34m(\u001b[0m\u001b[0;36m1\u001b[0m\u001b[0;34m,\u001b[0m \u001b[0mlen\u001b[0m\u001b[0;34m(\u001b[0m\u001b[0mhistory_model\u001b[0m\u001b[0;34m.\u001b[0m\u001b[0mhistory\u001b[0m\u001b[0;34m[\u001b[0m\u001b[0;34m'loss'\u001b[0m\u001b[0;34m]\u001b[0m\u001b[0;34m)\u001b[0m \u001b[0;34m+\u001b[0m \u001b[0;36m1\u001b[0m\u001b[0;34m)\u001b[0m\u001b[0;34m\u001b[0m\u001b[0;34m\u001b[0m\u001b[0m\n\u001b[0m\u001b[1;32m      4\u001b[0m \u001b[0mhistory_model\u001b[0m \u001b[0;34m=\u001b[0m \u001b[0mmnist_L2R_D_H\u001b[0m\u001b[0;34m\u001b[0m\u001b[0;34m\u001b[0m\u001b[0m\n\u001b[1;32m      5\u001b[0m \u001b[0mplt\u001b[0m\u001b[0;34m.\u001b[0m\u001b[0mfigure\u001b[0m\u001b[0;34m(\u001b[0m\u001b[0mfigsize\u001b[0m \u001b[0;34m=\u001b[0m \u001b[0;34m(\u001b[0m\u001b[0;36m15\u001b[0m\u001b[0;34m,\u001b[0m \u001b[0;36m5\u001b[0m\u001b[0;34m)\u001b[0m\u001b[0;34m)\u001b[0m\u001b[0;34m\u001b[0m\u001b[0;34m\u001b[0m\u001b[0m\n",
      "\u001b[0;31mNameError\u001b[0m: name 'history_model' is not defined"
     ]
    }
   ],
   "source": [
    "import matplotlib.pyplot as plt\n",
    "\n",
    "epochs = range(1, len(history_model.history['loss']) + 1)\n",
    "history_model = mnist_L2R_D_H\n",
    "plt.figure(figsize = (15, 5))\n",
    "plt.suptitle('==== L2 Regularization & Drop out ====', fontsize = 20)\n",
    "\n",
    "plt.subplot(1, 2, 1)\n",
    "plt.plot(epochs, history_model.history['loss'], 'b-')\n",
    "plt.plot(epochs, history_model.history['val_loss'], 'r--')\n",
    "plt.title('Training & Validation Loss')\n",
    "plt.xlabel('Epochs')\n",
    "plt.ylabel('Loss')\n",
    "plt.legend(['Training Loss', 'Validation Loss'])\n",
    "plt.grid()\n",
    "\n",
    "plt.subplot(1, 2, 2)\n",
    "plt.plot(epochs, history_model.history['accuracy'], 'b-')\n",
    "plt.plot(epochs, history_model.history['val_accuracy'], 'r--')\n",
    "plt.title('Training & Validation Accuracy')\n",
    "plt.xlabel('Epochs')\n",
    "plt.ylabel('Accuracy')\n",
    "plt.legend(['Training Accuracy', 'Validation Accuracy'])\n",
    "plt.grid()\n",
    "\n",
    "plt.show()"
   ]
  },
  {
   "cell_type": "markdown",
   "metadata": {
    "id": "4WcYl5Z6XHA9"
   },
   "source": [
    "# L2 Regularization & Drop out"
   ]
  },
  {
   "cell_type": "code",
   "execution_count": null,
   "metadata": {
    "colab": {
     "background_save": true
    },
    "id": "wvtTs2UCXHA9"
   },
   "outputs": [],
   "source": [
    "from tensorflow.keras import models, layers, regularizers\n",
    "\n",
    "mnist_L2R_D = models.Sequential()\n",
    "mnist_L2R_D.add(layers.Dense(512, activation = 'relu',\n",
    "                       kernel_regularizer = regularizers.l2(0.00001),\n",
    "                       input_shape = (28 * 28,)))\n",
    "mnist_L2R_D.add(layers.Dropout(0.4))\n",
    "mnist_L2R_D.add(layers.Dense(256, activation = 'relu',\n",
    "                      kernel_regularizer = regularizers.l2(0.00001)))\n",
    "mnist_L2R_D.add(layers.Dropout(0.2))\n",
    "mnist_L2R_D.add(layers.Dense(10, activation = 'softmax'))"
   ]
  },
  {
   "cell_type": "code",
   "execution_count": null,
   "metadata": {
    "colab": {
     "background_save": true
    },
    "id": "7b1QbcMQXHA9"
   },
   "outputs": [],
   "source": [
    "mnist_L2R_D.summary()"
   ]
  },
  {
   "cell_type": "code",
   "execution_count": null,
   "metadata": {
    "colab": {
     "background_save": true
    },
    "id": "gknfC1cXXHA-"
   },
   "outputs": [],
   "source": [
    "mnist_L2R_D.compile(loss = 'categorical_crossentropy',\n",
    "              optimizer = 'rmsprop',\n",
    "              metrics = ['accuracy'])"
   ]
  },
  {
   "cell_type": "code",
   "execution_count": null,
   "metadata": {
    "colab": {
     "background_save": true
    },
    "collapsed": true,
    "id": "PvfddykgXHA-"
   },
   "outputs": [],
   "source": [
    "# %%time\n",
    "\n",
    "mnist_L2R_D_H = mnist_L2R_D.fit(X_train, y_train,\n",
    "                       epochs = 100,\n",
    "                       batch_size = 128,\n",
    "                       validation_data = (X_valid, y_valid))"
   ]
  },
  {
   "cell_type": "code",
   "execution_count": null,
   "metadata": {
    "colab": {
     "background_save": true
    },
    "id": "Fo-oJ4rZXHA-"
   },
   "outputs": [],
   "source": [
    "import matplotlib.pyplot as plt\n",
    "\n",
    "\n",
    "epochs = range(1, len(history_model.history['loss']) + 1)\n",
    "history_model = mnist_BN_D_H\n",
    "plt.figure(figsize = (15, 5))\n",
    "plt.suptitle('==== Batch Normalization & Drop out ====', fontsize = 20)\n",
    "\n",
    "plt.subplot(1, 2, 1)\n",
    "plt.plot(epochs, history_model.history['loss'], 'b-')\n",
    "plt.plot(epochs, history_model.history['val_loss'], 'r--')\n",
    "plt.title('Training & Validation Loss')\n",
    "plt.xlabel('Epochs')\n",
    "plt.ylabel('Loss')\n",
    "plt.legend(['Training Loss', 'Validation Loss'])\n",
    "plt.grid()\n",
    "\n",
    "plt.subplot(1, 2, 2)\n",
    "plt.plot(epochs, history_model.history['accuracy'], 'b-')\n",
    "plt.plot(epochs, history_model.history['val_accuracy'], 'r--')\n",
    "plt.title('Training & Validation Accuracy')\n",
    "plt.xlabel('Epochs')\n",
    "plt.ylabel('Accuracy')\n",
    "plt.legend(['Training Accuracy', 'Validation Accuracy'])\n",
    "plt.grid()\n",
    "\n",
    "plt.show()"
   ]
  },
  {
   "cell_type": "markdown",
   "metadata": {
    "id": "sN8R0g2EXHA-"
   },
   "source": [
    "# L2 Regularization & Batch Normalization"
   ]
  },
  {
   "cell_type": "code",
   "execution_count": null,
   "metadata": {
    "colab": {
     "background_save": true
    },
    "id": "4UKAQRVtXHA-"
   },
   "outputs": [],
   "source": [
    "from tensorflow.keras import models, layers, regularizers\n",
    "\n",
    "mnist_L2R_BN = models.Sequential()\n",
    "mnist_L2R_BN.add(layers.Dense(512,\n",
    "                       kernel_regularizer = regularizers.l2(0.00001),\n",
    "                       input_shape = (28 * 28,)))\n",
    "mnist_L2R_BN.add(layers.BatchNormalization())\n",
    "mnist_L2R_BN.add(layers.Activation('relu'))\n",
    "\n",
    "\n",
    "mnist_L2R_BN.add(layers.Dense(256,\n",
    "                      kernel_regularizer = regularizers.l2(0.00001)))\n",
    "mnist_L2R_BN.add(layers.BatchNormalization())\n",
    "mnist_L2R_BN.add(layers.Activation('relu'))\n",
    "\n",
    "mnist_L2R_BN.add(layers.Dense(10, activation = 'softmax'))"
   ]
  },
  {
   "cell_type": "code",
   "execution_count": null,
   "metadata": {
    "colab": {
     "background_save": true
    },
    "id": "-RcZgH-tXHA-"
   },
   "outputs": [],
   "source": [
    "mnist_L2R_BN.summary()"
   ]
  },
  {
   "cell_type": "code",
   "execution_count": null,
   "metadata": {
    "colab": {
     "background_save": true
    },
    "id": "Z0UzfeunXHA-"
   },
   "outputs": [],
   "source": [
    "mnist_L2R_BN.compile(loss = 'categorical_crossentropy',\n",
    "              optimizer = 'rmsprop',\n",
    "              metrics = ['accuracy'])"
   ]
  },
  {
   "cell_type": "code",
   "execution_count": null,
   "metadata": {
    "colab": {
     "background_save": true
    },
    "collapsed": true,
    "id": "dQY7DZZrXHA_"
   },
   "outputs": [],
   "source": [
    "# %%time\n",
    "\n",
    "mnist_L2R_BN_H = mnist_L2R_BN.fit(X_train, y_train,\n",
    "                       epochs = 100,\n",
    "                       batch_size = 128,\n",
    "                       validation_data = (X_valid, y_valid))"
   ]
  },
  {
   "cell_type": "code",
   "execution_count": null,
   "metadata": {
    "colab": {
     "background_save": true
    },
    "id": "TYOeWC-tXHA_"
   },
   "outputs": [],
   "source": [
    "import matplotlib.pyplot as plt\n",
    "\n",
    "\n",
    "epochs = range(1, len(history_model.history['loss']) + 1)\n",
    "history_model = mnist_L2R_BN_H\n",
    "plt.figure(figsize = (15, 5))\n",
    "plt.suptitle('==== L2 Regularization & Batch Normalization ====', fontsize = 20)\n",
    "\n",
    "plt.subplot(1, 2, 1)\n",
    "plt.plot(epochs, history_model.history['loss'], 'b-')\n",
    "plt.plot(epochs, history_model.history['val_loss'], 'r--')\n",
    "plt.title('Training & Validation Loss')\n",
    "plt.xlabel('Epochs')\n",
    "plt.ylabel('Loss')\n",
    "plt.legend(['Training Loss', 'Validation Loss'])\n",
    "plt.grid()\n",
    "\n",
    "plt.subplot(1, 2, 2)\n",
    "plt.plot(epochs, history_model.history['accuracy'], 'b-')\n",
    "plt.plot(epochs, history_model.history['val_accuracy'], 'r--')\n",
    "plt.title('Training & Validation Accuracy')\n",
    "plt.xlabel('Epochs')\n",
    "plt.ylabel('Accuracy')\n",
    "plt.legend(['Training Accuracy', 'Validation Accuracy'])\n",
    "plt.grid()\n",
    "\n",
    "plt.show()"
   ]
  },
  {
   "cell_type": "markdown",
   "metadata": {
    "id": "Xgv4oFkWXHA_"
   },
   "source": [
    "# L2 Regularization & Batch Normalization & Drop out"
   ]
  },
  {
   "cell_type": "code",
   "execution_count": null,
   "metadata": {
    "colab": {
     "background_save": true
    },
    "id": "k0LoR8SNXHA_"
   },
   "outputs": [],
   "source": [
    "from tensorflow.keras import models, layers, regularizers\n",
    "\n",
    "mnist_L2R_BN_D = models.Sequential()\n",
    "mnist_L2R_BN_D.add(layers.Dense(512,\n",
    "                       kernel_regularizer = regularizers.l2(0.00001),\n",
    "                       input_shape = (28 * 28,)))\n",
    "mnist_L2R_BN_D.add(layers.BatchNormalization())\n",
    "mnist_L2R_BN_D.add(layers.Activation('relu'))\n",
    "mnist_L2R_BN_D.add(layers.Dropout(0.4))\n",
    "\n",
    "mnist_L2R_BN_D.add(layers.Dense(256,\n",
    "                      kernel_regularizer = regularizers.l2(0.00001)))\n",
    "mnist_L2R_BN_D.add(layers.BatchNormalization())\n",
    "mnist_L2R_BN_D.add(layers.Activation('relu'))\n",
    "mnist_L2R_BN_D.add(layers.Dropout(0.2))\n",
    "\n",
    "mnist_L2R_BN_D.add(layers.Dense(10, activation = 'softmax'))"
   ]
  },
  {
   "cell_type": "code",
   "execution_count": null,
   "metadata": {
    "colab": {
     "background_save": true
    },
    "id": "4aAdkltuXHA_"
   },
   "outputs": [],
   "source": [
    "mnist_L2R_BN_D.summary()"
   ]
  },
  {
   "cell_type": "code",
   "execution_count": null,
   "metadata": {
    "colab": {
     "background_save": true
    },
    "id": "ePij1WDzXHA_"
   },
   "outputs": [],
   "source": [
    "mnist_L2R_BN_D.compile(loss = 'categorical_crossentropy',\n",
    "              optimizer = 'rmsprop',\n",
    "              metrics = ['accuracy'])"
   ]
  },
  {
   "cell_type": "code",
   "execution_count": null,
   "metadata": {
    "colab": {
     "background_save": true
    },
    "collapsed": true,
    "id": "_OSe-eynXHA_"
   },
   "outputs": [],
   "source": [
    "# %%time\n",
    "\n",
    "mnist_L2R_BN_D_H = mnist_L2R_BN_D.fit(X_train, y_train,\n",
    "                       epochs = 100,\n",
    "                       batch_size = 128,\n",
    "                       validation_data = (X_valid, y_valid))"
   ]
  },
  {
   "cell_type": "code",
   "execution_count": null,
   "metadata": {
    "colab": {
     "background_save": true
    },
    "id": "0JO0iB0sXHBA"
   },
   "outputs": [],
   "source": [
    "import matplotlib.pyplot as plt\n",
    "\n",
    "\n",
    "epochs = range(1, len(history_model.history['loss']) + 1)\n",
    "history_model = mnist_L2R_BN_D_H\n",
    "plt.figure(figsize = (15, 5))\n",
    "plt.suptitle('==== L2 Regularization & Batch Normalization & Drop out ====', fontsize = 20)\n",
    "\n",
    "plt.subplot(1, 2, 1)\n",
    "plt.plot(epochs, history_model.history['loss'], 'b-')\n",
    "plt.plot(epochs, history_model.history['val_loss'], 'r--')\n",
    "plt.title('Training & Validation Loss')\n",
    "plt.xlabel('Epochs')\n",
    "plt.ylabel('Loss')\n",
    "plt.legend(['Training Loss', 'Validation Loss'])\n",
    "plt.grid()\n",
    "\n",
    "plt.subplot(1, 2, 2)\n",
    "plt.plot(epochs, history_model.history['accuracy'], 'b-')\n",
    "plt.plot(epochs, history_model.history['val_accuracy'], 'r--')\n",
    "plt.title('Training & Validation Accuracy')\n",
    "plt.xlabel('Epochs')\n",
    "plt.ylabel('Accuracy')\n",
    "plt.legend(['Training Accuracy', 'Validation Accuracy'])\n",
    "plt.grid()\n",
    "\n",
    "plt.show()"
   ]
  },
  {
   "cell_type": "markdown",
   "metadata": {
    "id": "nblO79NAXHBA"
   },
   "source": [
    "# 조합 loss 결과 비교"
   ]
  },
  {
   "cell_type": "code",
   "execution_count": null,
   "metadata": {
    "colab": {
     "background_save": true
    },
    "id": "WXOVCQmOXHBA"
   },
   "outputs": [],
   "source": [
    "model_h_list = ['mnist_L2R_BN_H', 'mnist_L2R_D_H', 'mnist_BN_D_H', 'mnist_L2R_BN_D_H']\n",
    "model_h_vlist = [mnist_L2R_BN_H, mnist_L2R_D_H, mnist_BN_D_H, mnist_L2R_BN_D_H]"
   ]
  },
  {
   "cell_type": "code",
   "execution_count": null,
   "metadata": {
    "colab": {
     "background_save": true
    },
    "id": "j3PwqaTLXHBA"
   },
   "outputs": [],
   "source": [
    "import matplotlib.pyplot as plt\n",
    "\n",
    "epochs = range(1, len(mnist_BN_H.history['loss']) + 1)\n",
    "plt.figure(figsize = (20, 20))\n",
    "plt.suptitle('==== Overfiting Solution Comparison ====', fontsize=20)\n",
    "\n",
    "\n",
    "for i in range(len(model_h_list)):\n",
    "    plt.subplot(len(model_h_list), int(len(model_h_list)/2), i+1)\n",
    "    plt.plot(epochs, model_h_vlist[i].history['loss'], 'b-')\n",
    "    plt.plot(epochs, model_h_vlist[i].history['val_loss'], 'r--')\n",
    "    plt.title(f'{model_h_list[i]} Loss')\n",
    "    plt.xlabel('Epochs')\n",
    "    plt.ylabel('Loss')\n",
    "    plt.legend(['Training Loss', 'Validation Loss'])\n",
    "    plt.grid()\n",
    "\n",
    "plt.show()"
   ]
  },
  {
   "cell_type": "markdown",
   "metadata": {
    "id": "sN48I9GrLxOX"
   },
   "source": [
    "# The End"
   ]
  }
 ],
 "metadata": {
  "accelerator": "GPU",
  "colab": {
   "provenance": [],
   "toc_visible": true
  },
  "gpuClass": "standard",
  "kernelspec": {
   "display_name": "Python 3 (ipykernel)",
   "language": "python",
   "name": "python3"
  },
  "language_info": {
   "codemirror_mode": {
    "name": "ipython",
    "version": 3
   },
   "file_extension": ".py",
   "mimetype": "text/x-python",
   "name": "python",
   "nbconvert_exporter": "python",
   "pygments_lexer": "ipython3",
   "version": "3.11.5"
  },
  "toc": {
   "base_numbering": 1,
   "nav_menu": {},
   "number_sections": true,
   "sideBar": true,
   "skip_h1_title": false,
   "title_cell": "Table of Contents",
   "title_sidebar": "Contents",
   "toc_cell": false,
   "toc_position": {
    "height": "calc(100% - 180px)",
    "left": "10px",
    "top": "150px",
    "width": "283.993px"
   },
   "toc_section_display": true,
   "toc_window_display": true
  }
 },
 "nbformat": 4,
 "nbformat_minor": 1
}
