{
 "cells": [
  {
   "cell_type": "markdown",
   "metadata": {
    "id": "RMLHu3RZ5lWK"
   },
   "source": [
    "# Keras iris Modeling"
   ]
  },
  {
   "cell_type": "code",
   "execution_count": 1,
   "metadata": {
    "executionInfo": {
     "elapsed": 327,
     "status": "ok",
     "timestamp": 1705298443125,
     "user": {
      "displayName": "맹광국",
      "userId": "00860531964279012518"
     },
     "user_tz": -540
    },
    "id": "RbPgODpVzdHI",
    "tags": []
   },
   "outputs": [],
   "source": [
    "import warnings\n",
    "warnings.filterwarnings('ignore')"
   ]
  },
  {
   "cell_type": "markdown",
   "metadata": {
    "id": "Z0vCjo566DU3"
   },
   "source": [
    "> ## 1) 실습용 데이터 설정\n",
    "\n",
    "* iris.csv"
   ]
  },
  {
   "cell_type": "code",
   "execution_count": 2,
   "metadata": {
    "executionInfo": {
     "elapsed": 2293,
     "status": "ok",
     "timestamp": 1705298451237,
     "user": {
      "displayName": "맹광국",
      "userId": "00860531964279012518"
     },
     "user_tz": -540
    },
    "id": "LfEBY4JwDS1i",
    "tags": []
   },
   "outputs": [],
   "source": [
    "import seaborn as sns\n",
    "\n",
    "iris = sns.load_dataset('iris')"
   ]
  },
  {
   "cell_type": "markdown",
   "metadata": {
    "id": "_2m1joqE6eEq"
   },
   "source": [
    "* pandas DataFrame"
   ]
  },
  {
   "cell_type": "code",
   "execution_count": 3,
   "metadata": {
    "colab": {
     "base_uri": "https://localhost:8080/"
    },
    "executionInfo": {
     "elapsed": 6,
     "status": "ok",
     "timestamp": 1705298451238,
     "user": {
      "displayName": "맹광국",
      "userId": "00860531964279012518"
     },
     "user_tz": -540
    },
    "id": "F6MvmhtB53CS",
    "outputId": "8ffb8f44-0d1c-48fa-a41d-b624fcff0be4",
    "tags": []
   },
   "outputs": [
    {
     "name": "stdout",
     "output_type": "stream",
     "text": [
      "<class 'pandas.core.frame.DataFrame'>\n",
      "RangeIndex: 150 entries, 0 to 149\n",
      "Data columns (total 5 columns):\n",
      " #   Column        Non-Null Count  Dtype  \n",
      "---  ------        --------------  -----  \n",
      " 0   sepal_length  150 non-null    float64\n",
      " 1   sepal_width   150 non-null    float64\n",
      " 2   petal_length  150 non-null    float64\n",
      " 3   petal_width   150 non-null    float64\n",
      " 4   species       150 non-null    object \n",
      "dtypes: float64(4), object(1)\n",
      "memory usage: 6.0+ KB\n"
     ]
    }
   ],
   "source": [
    "iris.info()"
   ]
  },
  {
   "cell_type": "code",
   "execution_count": 4,
   "metadata": {
    "colab": {
     "base_uri": "https://localhost:8080/",
     "height": 143
    },
    "executionInfo": {
     "elapsed": 8,
     "status": "ok",
     "timestamp": 1705298451557,
     "user": {
      "displayName": "맹광국",
      "userId": "00860531964279012518"
     },
     "user_tz": -540
    },
    "id": "7l2ojjz_D39D",
    "outputId": "572220b6-951b-43ad-bcaf-12adc2b7d1c2",
    "tags": []
   },
   "outputs": [
    {
     "data": {
      "text/html": [
       "\n",
       "  <div id=\"df-96d0ef47-2644-44cb-8571-c7817f08cc14\" class=\"colab-df-container\">\n",
       "    <div>\n",
       "<style scoped>\n",
       "    .dataframe tbody tr th:only-of-type {\n",
       "        vertical-align: middle;\n",
       "    }\n",
       "\n",
       "    .dataframe tbody tr th {\n",
       "        vertical-align: top;\n",
       "    }\n",
       "\n",
       "    .dataframe thead th {\n",
       "        text-align: right;\n",
       "    }\n",
       "</style>\n",
       "<table border=\"1\" class=\"dataframe\">\n",
       "  <thead>\n",
       "    <tr style=\"text-align: right;\">\n",
       "      <th></th>\n",
       "      <th>sepal_length</th>\n",
       "      <th>sepal_width</th>\n",
       "      <th>petal_length</th>\n",
       "      <th>petal_width</th>\n",
       "      <th>species</th>\n",
       "    </tr>\n",
       "  </thead>\n",
       "  <tbody>\n",
       "    <tr>\n",
       "      <th>0</th>\n",
       "      <td>5.1</td>\n",
       "      <td>3.5</td>\n",
       "      <td>1.4</td>\n",
       "      <td>0.2</td>\n",
       "      <td>setosa</td>\n",
       "    </tr>\n",
       "    <tr>\n",
       "      <th>1</th>\n",
       "      <td>4.9</td>\n",
       "      <td>3.0</td>\n",
       "      <td>1.4</td>\n",
       "      <td>0.2</td>\n",
       "      <td>setosa</td>\n",
       "    </tr>\n",
       "    <tr>\n",
       "      <th>2</th>\n",
       "      <td>4.7</td>\n",
       "      <td>3.2</td>\n",
       "      <td>1.3</td>\n",
       "      <td>0.2</td>\n",
       "      <td>setosa</td>\n",
       "    </tr>\n",
       "  </tbody>\n",
       "</table>\n",
       "</div>\n",
       "    <div class=\"colab-df-buttons\">\n",
       "\n",
       "  <div class=\"colab-df-container\">\n",
       "    <button class=\"colab-df-convert\" onclick=\"convertToInteractive('df-96d0ef47-2644-44cb-8571-c7817f08cc14')\"\n",
       "            title=\"Convert this dataframe to an interactive table.\"\n",
       "            style=\"display:none;\">\n",
       "\n",
       "  <svg xmlns=\"http://www.w3.org/2000/svg\" height=\"24px\" viewBox=\"0 -960 960 960\">\n",
       "    <path d=\"M120-120v-720h720v720H120Zm60-500h600v-160H180v160Zm220 220h160v-160H400v160Zm0 220h160v-160H400v160ZM180-400h160v-160H180v160Zm440 0h160v-160H620v160ZM180-180h160v-160H180v160Zm440 0h160v-160H620v160Z\"/>\n",
       "  </svg>\n",
       "    </button>\n",
       "\n",
       "  <style>\n",
       "    .colab-df-container {\n",
       "      display:flex;\n",
       "      gap: 12px;\n",
       "    }\n",
       "\n",
       "    .colab-df-convert {\n",
       "      background-color: #E8F0FE;\n",
       "      border: none;\n",
       "      border-radius: 50%;\n",
       "      cursor: pointer;\n",
       "      display: none;\n",
       "      fill: #1967D2;\n",
       "      height: 32px;\n",
       "      padding: 0 0 0 0;\n",
       "      width: 32px;\n",
       "    }\n",
       "\n",
       "    .colab-df-convert:hover {\n",
       "      background-color: #E2EBFA;\n",
       "      box-shadow: 0px 1px 2px rgba(60, 64, 67, 0.3), 0px 1px 3px 1px rgba(60, 64, 67, 0.15);\n",
       "      fill: #174EA6;\n",
       "    }\n",
       "\n",
       "    .colab-df-buttons div {\n",
       "      margin-bottom: 4px;\n",
       "    }\n",
       "\n",
       "    [theme=dark] .colab-df-convert {\n",
       "      background-color: #3B4455;\n",
       "      fill: #D2E3FC;\n",
       "    }\n",
       "\n",
       "    [theme=dark] .colab-df-convert:hover {\n",
       "      background-color: #434B5C;\n",
       "      box-shadow: 0px 1px 3px 1px rgba(0, 0, 0, 0.15);\n",
       "      filter: drop-shadow(0px 1px 2px rgba(0, 0, 0, 0.3));\n",
       "      fill: #FFFFFF;\n",
       "    }\n",
       "  </style>\n",
       "\n",
       "    <script>\n",
       "      const buttonEl =\n",
       "        document.querySelector('#df-96d0ef47-2644-44cb-8571-c7817f08cc14 button.colab-df-convert');\n",
       "      buttonEl.style.display =\n",
       "        google.colab.kernel.accessAllowed ? 'block' : 'none';\n",
       "\n",
       "      async function convertToInteractive(key) {\n",
       "        const element = document.querySelector('#df-96d0ef47-2644-44cb-8571-c7817f08cc14');\n",
       "        const dataTable =\n",
       "          await google.colab.kernel.invokeFunction('convertToInteractive',\n",
       "                                                    [key], {});\n",
       "        if (!dataTable) return;\n",
       "\n",
       "        const docLinkHtml = 'Like what you see? Visit the ' +\n",
       "          '<a target=\"_blank\" href=https://colab.research.google.com/notebooks/data_table.ipynb>data table notebook</a>'\n",
       "          + ' to learn more about interactive tables.';\n",
       "        element.innerHTML = '';\n",
       "        dataTable['output_type'] = 'display_data';\n",
       "        await google.colab.output.renderOutput(dataTable, element);\n",
       "        const docLink = document.createElement('div');\n",
       "        docLink.innerHTML = docLinkHtml;\n",
       "        element.appendChild(docLink);\n",
       "      }\n",
       "    </script>\n",
       "  </div>\n",
       "\n",
       "\n",
       "<div id=\"df-81522847-68be-4db8-aaeb-f366cb7590e9\">\n",
       "  <button class=\"colab-df-quickchart\" onclick=\"quickchart('df-81522847-68be-4db8-aaeb-f366cb7590e9')\"\n",
       "            title=\"Suggest charts\"\n",
       "            style=\"display:none;\">\n",
       "\n",
       "<svg xmlns=\"http://www.w3.org/2000/svg\" height=\"24px\"viewBox=\"0 0 24 24\"\n",
       "     width=\"24px\">\n",
       "    <g>\n",
       "        <path d=\"M19 3H5c-1.1 0-2 .9-2 2v14c0 1.1.9 2 2 2h14c1.1 0 2-.9 2-2V5c0-1.1-.9-2-2-2zM9 17H7v-7h2v7zm4 0h-2V7h2v10zm4 0h-2v-4h2v4z\"/>\n",
       "    </g>\n",
       "</svg>\n",
       "  </button>\n",
       "\n",
       "<style>\n",
       "  .colab-df-quickchart {\n",
       "      --bg-color: #E8F0FE;\n",
       "      --fill-color: #1967D2;\n",
       "      --hover-bg-color: #E2EBFA;\n",
       "      --hover-fill-color: #174EA6;\n",
       "      --disabled-fill-color: #AAA;\n",
       "      --disabled-bg-color: #DDD;\n",
       "  }\n",
       "\n",
       "  [theme=dark] .colab-df-quickchart {\n",
       "      --bg-color: #3B4455;\n",
       "      --fill-color: #D2E3FC;\n",
       "      --hover-bg-color: #434B5C;\n",
       "      --hover-fill-color: #FFFFFF;\n",
       "      --disabled-bg-color: #3B4455;\n",
       "      --disabled-fill-color: #666;\n",
       "  }\n",
       "\n",
       "  .colab-df-quickchart {\n",
       "    background-color: var(--bg-color);\n",
       "    border: none;\n",
       "    border-radius: 50%;\n",
       "    cursor: pointer;\n",
       "    display: none;\n",
       "    fill: var(--fill-color);\n",
       "    height: 32px;\n",
       "    padding: 0;\n",
       "    width: 32px;\n",
       "  }\n",
       "\n",
       "  .colab-df-quickchart:hover {\n",
       "    background-color: var(--hover-bg-color);\n",
       "    box-shadow: 0 1px 2px rgba(60, 64, 67, 0.3), 0 1px 3px 1px rgba(60, 64, 67, 0.15);\n",
       "    fill: var(--button-hover-fill-color);\n",
       "  }\n",
       "\n",
       "  .colab-df-quickchart-complete:disabled,\n",
       "  .colab-df-quickchart-complete:disabled:hover {\n",
       "    background-color: var(--disabled-bg-color);\n",
       "    fill: var(--disabled-fill-color);\n",
       "    box-shadow: none;\n",
       "  }\n",
       "\n",
       "  .colab-df-spinner {\n",
       "    border: 2px solid var(--fill-color);\n",
       "    border-color: transparent;\n",
       "    border-bottom-color: var(--fill-color);\n",
       "    animation:\n",
       "      spin 1s steps(1) infinite;\n",
       "  }\n",
       "\n",
       "  @keyframes spin {\n",
       "    0% {\n",
       "      border-color: transparent;\n",
       "      border-bottom-color: var(--fill-color);\n",
       "      border-left-color: var(--fill-color);\n",
       "    }\n",
       "    20% {\n",
       "      border-color: transparent;\n",
       "      border-left-color: var(--fill-color);\n",
       "      border-top-color: var(--fill-color);\n",
       "    }\n",
       "    30% {\n",
       "      border-color: transparent;\n",
       "      border-left-color: var(--fill-color);\n",
       "      border-top-color: var(--fill-color);\n",
       "      border-right-color: var(--fill-color);\n",
       "    }\n",
       "    40% {\n",
       "      border-color: transparent;\n",
       "      border-right-color: var(--fill-color);\n",
       "      border-top-color: var(--fill-color);\n",
       "    }\n",
       "    60% {\n",
       "      border-color: transparent;\n",
       "      border-right-color: var(--fill-color);\n",
       "    }\n",
       "    80% {\n",
       "      border-color: transparent;\n",
       "      border-right-color: var(--fill-color);\n",
       "      border-bottom-color: var(--fill-color);\n",
       "    }\n",
       "    90% {\n",
       "      border-color: transparent;\n",
       "      border-bottom-color: var(--fill-color);\n",
       "    }\n",
       "  }\n",
       "</style>\n",
       "\n",
       "  <script>\n",
       "    async function quickchart(key) {\n",
       "      const quickchartButtonEl =\n",
       "        document.querySelector('#' + key + ' button');\n",
       "      quickchartButtonEl.disabled = true;  // To prevent multiple clicks.\n",
       "      quickchartButtonEl.classList.add('colab-df-spinner');\n",
       "      try {\n",
       "        const charts = await google.colab.kernel.invokeFunction(\n",
       "            'suggestCharts', [key], {});\n",
       "      } catch (error) {\n",
       "        console.error('Error during call to suggestCharts:', error);\n",
       "      }\n",
       "      quickchartButtonEl.classList.remove('colab-df-spinner');\n",
       "      quickchartButtonEl.classList.add('colab-df-quickchart-complete');\n",
       "    }\n",
       "    (() => {\n",
       "      let quickchartButtonEl =\n",
       "        document.querySelector('#df-81522847-68be-4db8-aaeb-f366cb7590e9 button');\n",
       "      quickchartButtonEl.style.display =\n",
       "        google.colab.kernel.accessAllowed ? 'block' : 'none';\n",
       "    })();\n",
       "  </script>\n",
       "</div>\n",
       "\n",
       "    </div>\n",
       "  </div>\n"
      ],
      "text/plain": [
       "   sepal_length  sepal_width  petal_length  petal_width species\n",
       "0           5.1          3.5           1.4          0.2  setosa\n",
       "1           4.9          3.0           1.4          0.2  setosa\n",
       "2           4.7          3.2           1.3          0.2  setosa"
      ]
     },
     "execution_count": 4,
     "metadata": {},
     "output_type": "execute_result"
    }
   ],
   "source": [
    "iris.head(3)"
   ]
  },
  {
   "cell_type": "markdown",
   "metadata": {
    "id": "I2Forf0oXF8c"
   },
   "source": [
    "> ## 2) Version check"
   ]
  },
  {
   "cell_type": "markdown",
   "metadata": {
    "id": "uPaHtu9NOYaX"
   },
   "source": [
    "* TensorFlow Version"
   ]
  },
  {
   "cell_type": "code",
   "execution_count": 5,
   "metadata": {
    "colab": {
     "base_uri": "https://localhost:8080/",
     "height": 35
    },
    "executionInfo": {
     "elapsed": 4414,
     "status": "ok",
     "timestamp": 1705298457892,
     "user": {
      "displayName": "맹광국",
      "userId": "00860531964279012518"
     },
     "user_tz": -540
    },
    "id": "X6xKtsfgOTso",
    "outputId": "f5eddd31-2814-444c-fcc2-bfbf2162e5c1",
    "tags": []
   },
   "outputs": [
    {
     "data": {
      "application/vnd.google.colaboratory.intrinsic+json": {
       "type": "string"
      },
      "text/plain": [
       "'2.15.0'"
      ]
     },
     "execution_count": 5,
     "metadata": {},
     "output_type": "execute_result"
    }
   ],
   "source": [
    "import tensorflow\n",
    "\n",
    "tensorflow.__version__"
   ]
  },
  {
   "cell_type": "markdown",
   "metadata": {
    "id": "Ydu4ux7dOm2N"
   },
   "source": [
    "* Keras Version"
   ]
  },
  {
   "cell_type": "code",
   "execution_count": 6,
   "metadata": {
    "colab": {
     "base_uri": "https://localhost:8080/",
     "height": 35
    },
    "executionInfo": {
     "elapsed": 27,
     "status": "ok",
     "timestamp": 1705298457893,
     "user": {
      "displayName": "맹광국",
      "userId": "00860531964279012518"
     },
     "user_tz": -540
    },
    "id": "zhMz9QSBOjTK",
    "outputId": "9d899aca-b2da-4736-8365-80308aebc93d",
    "tags": []
   },
   "outputs": [
    {
     "data": {
      "application/vnd.google.colaboratory.intrinsic+json": {
       "type": "string"
      },
      "text/plain": [
       "'2.15.0'"
      ]
     },
     "execution_count": 6,
     "metadata": {},
     "output_type": "execute_result"
    }
   ],
   "source": [
    "import keras\n",
    "\n",
    "keras.__version__"
   ]
  },
  {
   "cell_type": "markdown",
   "metadata": {
    "id": "0a9zRCoM6iHg"
   },
   "source": [
    "# I. Data Preprocessing"
   ]
  },
  {
   "cell_type": "markdown",
   "metadata": {
    "id": "WIq-NRIq659b"
   },
   "source": [
    "> ## 1) iris.Species 빈도분석"
   ]
  },
  {
   "cell_type": "markdown",
   "metadata": {
    "id": "sg3g1ycL0bj_"
   },
   "source": [
    "* Species : setosa, versicolor, virginica"
   ]
  },
  {
   "cell_type": "code",
   "execution_count": 7,
   "metadata": {
    "colab": {
     "base_uri": "https://localhost:8080/"
    },
    "executionInfo": {
     "elapsed": 387,
     "status": "ok",
     "timestamp": 1705298483148,
     "user": {
      "displayName": "맹광국",
      "userId": "00860531964279012518"
     },
     "user_tz": -540
    },
    "id": "Ccv6L9LX6mBD",
    "outputId": "723974ff-2bf9-4174-e82e-2574dfff5ea2",
    "tags": []
   },
   "outputs": [
    {
     "data": {
      "text/plain": [
       "setosa        50\n",
       "versicolor    50\n",
       "virginica     50\n",
       "Name: species, dtype: int64"
      ]
     },
     "execution_count": 7,
     "metadata": {},
     "output_type": "execute_result"
    }
   ],
   "source": [
    "iris.species.value_counts()"
   ]
  },
  {
   "cell_type": "markdown",
   "metadata": {
    "id": "JrKQmY9s7WzT"
   },
   "source": [
    "> ## 2) 분석 변수 선택\n",
    "\n",
    "* X: 'sepal_length', 'sepal_width', 'petal_length', 'petal_width'\n",
    "* y: 'species'"
   ]
  },
  {
   "cell_type": "code",
   "execution_count": 8,
   "metadata": {
    "colab": {
     "base_uri": "https://localhost:8080/"
    },
    "executionInfo": {
     "elapsed": 311,
     "status": "ok",
     "timestamp": 1705298489039,
     "user": {
      "displayName": "맹광국",
      "userId": "00860531964279012518"
     },
     "user_tz": -540
    },
    "id": "tPJYM6B3Y64I",
    "outputId": "9ea779a6-ce9f-48e7-8de1-6d9a51d35f47",
    "tags": []
   },
   "outputs": [
    {
     "data": {
      "text/plain": [
       "((150, 4), (150,))"
      ]
     },
     "execution_count": 8,
     "metadata": {},
     "output_type": "execute_result"
    }
   ],
   "source": [
    "X = iris[['sepal_length', 'sepal_width', 'petal_length', 'petal_width']]\n",
    "y = iris['species']\n",
    "\n",
    "X.shape, y.shape"
   ]
  },
  {
   "cell_type": "code",
   "execution_count": 9,
   "metadata": {
    "colab": {
     "base_uri": "https://localhost:8080/"
    },
    "executionInfo": {
     "elapsed": 13,
     "status": "ok",
     "timestamp": 1705298529184,
     "user": {
      "displayName": "맹광국",
      "userId": "00860531964279012518"
     },
     "user_tz": -540
    },
    "id": "yb8ThllYtlyd",
    "outputId": "0edbf254-9609-4e03-c42e-1253e3c3e792"
   },
   "outputs": [
    {
     "data": {
      "text/plain": [
       "0    setosa\n",
       "1    setosa\n",
       "2    setosa\n",
       "3    setosa\n",
       "4    setosa\n",
       "Name: species, dtype: object"
      ]
     },
     "execution_count": 9,
     "metadata": {},
     "output_type": "execute_result"
    }
   ],
   "source": [
    "y[:5]"
   ]
  },
  {
   "cell_type": "markdown",
   "metadata": {
    "id": "lUx516tc8E6Q"
   },
   "source": [
    "> ## 3) One Hot Encoding with sklearn & Keras"
   ]
  },
  {
   "cell_type": "markdown",
   "metadata": {
    "id": "9lm5fWHmIgOd"
   },
   "source": [
    "* LabelEncoder( )\n",
    " - ['setosa', 'versicolor', 'virginica'] to [0, 1, 2]"
   ]
  },
  {
   "cell_type": "code",
   "execution_count": 10,
   "metadata": {
    "colab": {
     "base_uri": "https://localhost:8080/"
    },
    "executionInfo": {
     "elapsed": 320,
     "status": "ok",
     "timestamp": 1705298541257,
     "user": {
      "displayName": "맹광국",
      "userId": "00860531964279012518"
     },
     "user_tz": -540
    },
    "id": "iFhNzeIMbXyV",
    "outputId": "13a3e109-2db0-4833-ced9-185c6b23d327",
    "tags": []
   },
   "outputs": [
    {
     "data": {
      "text/plain": [
       "array([0, 0, 0, 0, 0, 0, 0, 0, 0, 0, 0, 0, 0, 0, 0, 0, 0, 0, 0, 0, 0, 0,\n",
       "       0, 0, 0, 0, 0, 0, 0, 0, 0, 0, 0, 0, 0, 0, 0, 0, 0, 0, 0, 0, 0, 0,\n",
       "       0, 0, 0, 0, 0, 0, 1, 1, 1, 1, 1, 1, 1, 1, 1, 1, 1, 1, 1, 1, 1, 1,\n",
       "       1, 1, 1, 1, 1, 1, 1, 1, 1, 1, 1, 1, 1, 1, 1, 1, 1, 1, 1, 1, 1, 1,\n",
       "       1, 1, 1, 1, 1, 1, 1, 1, 1, 1, 1, 1, 2, 2, 2, 2, 2, 2, 2, 2, 2, 2,\n",
       "       2, 2, 2, 2, 2, 2, 2, 2, 2, 2, 2, 2, 2, 2, 2, 2, 2, 2, 2, 2, 2, 2,\n",
       "       2, 2, 2, 2, 2, 2, 2, 2, 2, 2, 2, 2, 2, 2, 2, 2, 2, 2])"
      ]
     },
     "execution_count": 10,
     "metadata": {},
     "output_type": "execute_result"
    }
   ],
   "source": [
    "from sklearn.preprocessing import LabelEncoder\n",
    "\n",
    "encoder =  LabelEncoder()\n",
    "LBE_y = encoder.fit_transform(y)\n",
    "\n",
    "LBE_y"
   ]
  },
  {
   "cell_type": "markdown",
   "metadata": {
    "id": "k7LEIdH3JAtw"
   },
   "source": [
    "* One-Hot Encoding - to_categorical( )"
   ]
  },
  {
   "cell_type": "code",
   "execution_count": null,
   "metadata": {
    "collapsed": true,
    "id": "hxdLQPuuZQ13",
    "jupyter": {
     "outputs_hidden": true
    },
    "tags": []
   },
   "outputs": [],
   "source": [
    "from tensorflow.keras.utils import to_categorical\n",
    "\n",
    "OHE_y = to_categorical(LBE_y)\n",
    "\n",
    "OHE_y"
   ]
  },
  {
   "cell_type": "markdown",
   "metadata": {
    "id": "8zievJ6A8dQc"
   },
   "source": [
    "> ## 4) train_test_split( )"
   ]
  },
  {
   "cell_type": "markdown",
   "metadata": {
    "id": "CT8iuCjxJdIn"
   },
   "source": [
    "* 7 : 3"
   ]
  },
  {
   "cell_type": "code",
   "execution_count": 12,
   "metadata": {
    "colab": {
     "base_uri": "https://localhost:8080/"
    },
    "executionInfo": {
     "elapsed": 303,
     "status": "ok",
     "timestamp": 1705298582199,
     "user": {
      "displayName": "맹광국",
      "userId": "00860531964279012518"
     },
     "user_tz": -540
    },
    "id": "WIiSOik0dGct",
    "outputId": "465d0092-a621-4382-cfca-d7fd73f5d716",
    "tags": []
   },
   "outputs": [
    {
     "data": {
      "text/plain": [
       "((105, 4), (45, 4), (105, 3), (45, 3))"
      ]
     },
     "execution_count": 12,
     "metadata": {},
     "output_type": "execute_result"
    }
   ],
   "source": [
    "from sklearn.model_selection import train_test_split\n",
    "\n",
    "X_train, X_test, y_train, y_test = train_test_split(X, OHE_y,\n",
    "                                                    test_size = 0.3,\n",
    "                                                    random_state = 2045)\n",
    "\n",
    "X_train.shape, X_test.shape, y_train.shape, y_test.shape"
   ]
  },
  {
   "cell_type": "code",
   "execution_count": 13,
   "metadata": {
    "colab": {
     "base_uri": "https://localhost:8080/",
     "height": 206
    },
    "executionInfo": {
     "elapsed": 14,
     "status": "ok",
     "timestamp": 1705298582680,
     "user": {
      "displayName": "맹광국",
      "userId": "00860531964279012518"
     },
     "user_tz": -540
    },
    "id": "LzoMwkBxIeR2",
    "outputId": "e80ba253-58fa-4f4d-ae67-5731e439666b",
    "tags": []
   },
   "outputs": [
    {
     "data": {
      "text/html": [
       "\n",
       "  <div id=\"df-0e4a6a87-e9ed-40df-9772-1d423d2e2a84\" class=\"colab-df-container\">\n",
       "    <div>\n",
       "<style scoped>\n",
       "    .dataframe tbody tr th:only-of-type {\n",
       "        vertical-align: middle;\n",
       "    }\n",
       "\n",
       "    .dataframe tbody tr th {\n",
       "        vertical-align: top;\n",
       "    }\n",
       "\n",
       "    .dataframe thead th {\n",
       "        text-align: right;\n",
       "    }\n",
       "</style>\n",
       "<table border=\"1\" class=\"dataframe\">\n",
       "  <thead>\n",
       "    <tr style=\"text-align: right;\">\n",
       "      <th></th>\n",
       "      <th>sepal_length</th>\n",
       "      <th>sepal_width</th>\n",
       "      <th>petal_length</th>\n",
       "      <th>petal_width</th>\n",
       "    </tr>\n",
       "  </thead>\n",
       "  <tbody>\n",
       "    <tr>\n",
       "      <th>40</th>\n",
       "      <td>5.0</td>\n",
       "      <td>3.5</td>\n",
       "      <td>1.3</td>\n",
       "      <td>0.3</td>\n",
       "    </tr>\n",
       "    <tr>\n",
       "      <th>83</th>\n",
       "      <td>6.0</td>\n",
       "      <td>2.7</td>\n",
       "      <td>5.1</td>\n",
       "      <td>1.6</td>\n",
       "    </tr>\n",
       "    <tr>\n",
       "      <th>110</th>\n",
       "      <td>6.5</td>\n",
       "      <td>3.2</td>\n",
       "      <td>5.1</td>\n",
       "      <td>2.0</td>\n",
       "    </tr>\n",
       "    <tr>\n",
       "      <th>78</th>\n",
       "      <td>6.0</td>\n",
       "      <td>2.9</td>\n",
       "      <td>4.5</td>\n",
       "      <td>1.5</td>\n",
       "    </tr>\n",
       "    <tr>\n",
       "      <th>93</th>\n",
       "      <td>5.0</td>\n",
       "      <td>2.3</td>\n",
       "      <td>3.3</td>\n",
       "      <td>1.0</td>\n",
       "    </tr>\n",
       "  </tbody>\n",
       "</table>\n",
       "</div>\n",
       "    <div class=\"colab-df-buttons\">\n",
       "\n",
       "  <div class=\"colab-df-container\">\n",
       "    <button class=\"colab-df-convert\" onclick=\"convertToInteractive('df-0e4a6a87-e9ed-40df-9772-1d423d2e2a84')\"\n",
       "            title=\"Convert this dataframe to an interactive table.\"\n",
       "            style=\"display:none;\">\n",
       "\n",
       "  <svg xmlns=\"http://www.w3.org/2000/svg\" height=\"24px\" viewBox=\"0 -960 960 960\">\n",
       "    <path d=\"M120-120v-720h720v720H120Zm60-500h600v-160H180v160Zm220 220h160v-160H400v160Zm0 220h160v-160H400v160ZM180-400h160v-160H180v160Zm440 0h160v-160H620v160ZM180-180h160v-160H180v160Zm440 0h160v-160H620v160Z\"/>\n",
       "  </svg>\n",
       "    </button>\n",
       "\n",
       "  <style>\n",
       "    .colab-df-container {\n",
       "      display:flex;\n",
       "      gap: 12px;\n",
       "    }\n",
       "\n",
       "    .colab-df-convert {\n",
       "      background-color: #E8F0FE;\n",
       "      border: none;\n",
       "      border-radius: 50%;\n",
       "      cursor: pointer;\n",
       "      display: none;\n",
       "      fill: #1967D2;\n",
       "      height: 32px;\n",
       "      padding: 0 0 0 0;\n",
       "      width: 32px;\n",
       "    }\n",
       "\n",
       "    .colab-df-convert:hover {\n",
       "      background-color: #E2EBFA;\n",
       "      box-shadow: 0px 1px 2px rgba(60, 64, 67, 0.3), 0px 1px 3px 1px rgba(60, 64, 67, 0.15);\n",
       "      fill: #174EA6;\n",
       "    }\n",
       "\n",
       "    .colab-df-buttons div {\n",
       "      margin-bottom: 4px;\n",
       "    }\n",
       "\n",
       "    [theme=dark] .colab-df-convert {\n",
       "      background-color: #3B4455;\n",
       "      fill: #D2E3FC;\n",
       "    }\n",
       "\n",
       "    [theme=dark] .colab-df-convert:hover {\n",
       "      background-color: #434B5C;\n",
       "      box-shadow: 0px 1px 3px 1px rgba(0, 0, 0, 0.15);\n",
       "      filter: drop-shadow(0px 1px 2px rgba(0, 0, 0, 0.3));\n",
       "      fill: #FFFFFF;\n",
       "    }\n",
       "  </style>\n",
       "\n",
       "    <script>\n",
       "      const buttonEl =\n",
       "        document.querySelector('#df-0e4a6a87-e9ed-40df-9772-1d423d2e2a84 button.colab-df-convert');\n",
       "      buttonEl.style.display =\n",
       "        google.colab.kernel.accessAllowed ? 'block' : 'none';\n",
       "\n",
       "      async function convertToInteractive(key) {\n",
       "        const element = document.querySelector('#df-0e4a6a87-e9ed-40df-9772-1d423d2e2a84');\n",
       "        const dataTable =\n",
       "          await google.colab.kernel.invokeFunction('convertToInteractive',\n",
       "                                                    [key], {});\n",
       "        if (!dataTable) return;\n",
       "\n",
       "        const docLinkHtml = 'Like what you see? Visit the ' +\n",
       "          '<a target=\"_blank\" href=https://colab.research.google.com/notebooks/data_table.ipynb>data table notebook</a>'\n",
       "          + ' to learn more about interactive tables.';\n",
       "        element.innerHTML = '';\n",
       "        dataTable['output_type'] = 'display_data';\n",
       "        await google.colab.output.renderOutput(dataTable, element);\n",
       "        const docLink = document.createElement('div');\n",
       "        docLink.innerHTML = docLinkHtml;\n",
       "        element.appendChild(docLink);\n",
       "      }\n",
       "    </script>\n",
       "  </div>\n",
       "\n",
       "\n",
       "<div id=\"df-9c86fadd-0713-4936-965e-eb42cd495b2d\">\n",
       "  <button class=\"colab-df-quickchart\" onclick=\"quickchart('df-9c86fadd-0713-4936-965e-eb42cd495b2d')\"\n",
       "            title=\"Suggest charts\"\n",
       "            style=\"display:none;\">\n",
       "\n",
       "<svg xmlns=\"http://www.w3.org/2000/svg\" height=\"24px\"viewBox=\"0 0 24 24\"\n",
       "     width=\"24px\">\n",
       "    <g>\n",
       "        <path d=\"M19 3H5c-1.1 0-2 .9-2 2v14c0 1.1.9 2 2 2h14c1.1 0 2-.9 2-2V5c0-1.1-.9-2-2-2zM9 17H7v-7h2v7zm4 0h-2V7h2v10zm4 0h-2v-4h2v4z\"/>\n",
       "    </g>\n",
       "</svg>\n",
       "  </button>\n",
       "\n",
       "<style>\n",
       "  .colab-df-quickchart {\n",
       "      --bg-color: #E8F0FE;\n",
       "      --fill-color: #1967D2;\n",
       "      --hover-bg-color: #E2EBFA;\n",
       "      --hover-fill-color: #174EA6;\n",
       "      --disabled-fill-color: #AAA;\n",
       "      --disabled-bg-color: #DDD;\n",
       "  }\n",
       "\n",
       "  [theme=dark] .colab-df-quickchart {\n",
       "      --bg-color: #3B4455;\n",
       "      --fill-color: #D2E3FC;\n",
       "      --hover-bg-color: #434B5C;\n",
       "      --hover-fill-color: #FFFFFF;\n",
       "      --disabled-bg-color: #3B4455;\n",
       "      --disabled-fill-color: #666;\n",
       "  }\n",
       "\n",
       "  .colab-df-quickchart {\n",
       "    background-color: var(--bg-color);\n",
       "    border: none;\n",
       "    border-radius: 50%;\n",
       "    cursor: pointer;\n",
       "    display: none;\n",
       "    fill: var(--fill-color);\n",
       "    height: 32px;\n",
       "    padding: 0;\n",
       "    width: 32px;\n",
       "  }\n",
       "\n",
       "  .colab-df-quickchart:hover {\n",
       "    background-color: var(--hover-bg-color);\n",
       "    box-shadow: 0 1px 2px rgba(60, 64, 67, 0.3), 0 1px 3px 1px rgba(60, 64, 67, 0.15);\n",
       "    fill: var(--button-hover-fill-color);\n",
       "  }\n",
       "\n",
       "  .colab-df-quickchart-complete:disabled,\n",
       "  .colab-df-quickchart-complete:disabled:hover {\n",
       "    background-color: var(--disabled-bg-color);\n",
       "    fill: var(--disabled-fill-color);\n",
       "    box-shadow: none;\n",
       "  }\n",
       "\n",
       "  .colab-df-spinner {\n",
       "    border: 2px solid var(--fill-color);\n",
       "    border-color: transparent;\n",
       "    border-bottom-color: var(--fill-color);\n",
       "    animation:\n",
       "      spin 1s steps(1) infinite;\n",
       "  }\n",
       "\n",
       "  @keyframes spin {\n",
       "    0% {\n",
       "      border-color: transparent;\n",
       "      border-bottom-color: var(--fill-color);\n",
       "      border-left-color: var(--fill-color);\n",
       "    }\n",
       "    20% {\n",
       "      border-color: transparent;\n",
       "      border-left-color: var(--fill-color);\n",
       "      border-top-color: var(--fill-color);\n",
       "    }\n",
       "    30% {\n",
       "      border-color: transparent;\n",
       "      border-left-color: var(--fill-color);\n",
       "      border-top-color: var(--fill-color);\n",
       "      border-right-color: var(--fill-color);\n",
       "    }\n",
       "    40% {\n",
       "      border-color: transparent;\n",
       "      border-right-color: var(--fill-color);\n",
       "      border-top-color: var(--fill-color);\n",
       "    }\n",
       "    60% {\n",
       "      border-color: transparent;\n",
       "      border-right-color: var(--fill-color);\n",
       "    }\n",
       "    80% {\n",
       "      border-color: transparent;\n",
       "      border-right-color: var(--fill-color);\n",
       "      border-bottom-color: var(--fill-color);\n",
       "    }\n",
       "    90% {\n",
       "      border-color: transparent;\n",
       "      border-bottom-color: var(--fill-color);\n",
       "    }\n",
       "  }\n",
       "</style>\n",
       "\n",
       "  <script>\n",
       "    async function quickchart(key) {\n",
       "      const quickchartButtonEl =\n",
       "        document.querySelector('#' + key + ' button');\n",
       "      quickchartButtonEl.disabled = true;  // To prevent multiple clicks.\n",
       "      quickchartButtonEl.classList.add('colab-df-spinner');\n",
       "      try {\n",
       "        const charts = await google.colab.kernel.invokeFunction(\n",
       "            'suggestCharts', [key], {});\n",
       "      } catch (error) {\n",
       "        console.error('Error during call to suggestCharts:', error);\n",
       "      }\n",
       "      quickchartButtonEl.classList.remove('colab-df-spinner');\n",
       "      quickchartButtonEl.classList.add('colab-df-quickchart-complete');\n",
       "    }\n",
       "    (() => {\n",
       "      let quickchartButtonEl =\n",
       "        document.querySelector('#df-9c86fadd-0713-4936-965e-eb42cd495b2d button');\n",
       "      quickchartButtonEl.style.display =\n",
       "        google.colab.kernel.accessAllowed ? 'block' : 'none';\n",
       "    })();\n",
       "  </script>\n",
       "</div>\n",
       "\n",
       "    </div>\n",
       "  </div>\n"
      ],
      "text/plain": [
       "     sepal_length  sepal_width  petal_length  petal_width\n",
       "40            5.0          3.5           1.3          0.3\n",
       "83            6.0          2.7           5.1          1.6\n",
       "110           6.5          3.2           5.1          2.0\n",
       "78            6.0          2.9           4.5          1.5\n",
       "93            5.0          2.3           3.3          1.0"
      ]
     },
     "execution_count": 13,
     "metadata": {},
     "output_type": "execute_result"
    }
   ],
   "source": [
    "X_train.head()"
   ]
  },
  {
   "cell_type": "markdown",
   "metadata": {
    "id": "_WuSRwBd8oxV"
   },
   "source": [
    "# II. Keras Modeling"
   ]
  },
  {
   "cell_type": "markdown",
   "metadata": {
    "id": "5RHmF1kr9heb"
   },
   "source": [
    "> ## 1) Keras models & layers import"
   ]
  },
  {
   "cell_type": "code",
   "execution_count": 14,
   "metadata": {
    "executionInfo": {
     "elapsed": 299,
     "status": "ok",
     "timestamp": 1705298591716,
     "user": {
      "displayName": "맹광국",
      "userId": "00860531964279012518"
     },
     "user_tz": -540
    },
    "id": "K0DN73_6duqG",
    "tags": []
   },
   "outputs": [],
   "source": [
    "from tensorflow.keras import models\n",
    "from tensorflow.keras import layers"
   ]
  },
  {
   "cell_type": "markdown",
   "metadata": {
    "id": "-rDeiCMV-eKV"
   },
   "source": [
    "> ## 2) Model Define"
   ]
  },
  {
   "cell_type": "markdown",
   "metadata": {
    "id": "1ix6_3Tk-yWW"
   },
   "source": [
    "* 모델 신경망 구조 정의"
   ]
  },
  {
   "cell_type": "code",
   "execution_count": 15,
   "metadata": {
    "executionInfo": {
     "elapsed": 315,
     "status": "ok",
     "timestamp": 1705298817443,
     "user": {
      "displayName": "맹광국",
      "userId": "00860531964279012518"
     },
     "user_tz": -540
    },
    "id": "DJ8uzQMSemA-",
    "tags": []
   },
   "outputs": [],
   "source": [
    "Model_iris = models.Sequential() # 순차적 모델\n",
    "\n",
    "# Dense = Fully Connected layer\n",
    "Model_iris.add(layers.Dense(16, activation = 'relu', input_shape = (4,)))\n",
    "Model_iris.add(layers.Dense(8, activation = 'relu'))\n",
    "Model_iris.add(layers.Dense(3, activation = 'softmax'))"
   ]
  },
  {
   "cell_type": "markdown",
   "metadata": {
    "id": "U0vAUcHx-zdW"
   },
   "source": [
    "* 모델 구조 확인\n",
    " - Layers & Parameters"
   ]
  },
  {
   "cell_type": "code",
   "execution_count": 16,
   "metadata": {
    "colab": {
     "base_uri": "https://localhost:8080/"
    },
    "executionInfo": {
     "elapsed": 316,
     "status": "ok",
     "timestamp": 1705298899068,
     "user": {
      "displayName": "맹광국",
      "userId": "00860531964279012518"
     },
     "user_tz": -540
    },
    "id": "1sfOdgz2jQeM",
    "outputId": "962f149c-0458-4dc2-aece-a2bf70fbcc27",
    "tags": []
   },
   "outputs": [
    {
     "name": "stdout",
     "output_type": "stream",
     "text": [
      "Model: \"sequential\"\n",
      "_________________________________________________________________\n",
      " Layer (type)                Output Shape              Param #   \n",
      "=================================================================\n",
      " dense (Dense)               (None, 16)                80        \n",
      "                                                                 \n",
      " dense_1 (Dense)             (None, 8)                 136       \n",
      "                                                                 \n",
      " dense_2 (Dense)             (None, 3)                 27        \n",
      "                                                                 \n",
      "=================================================================\n",
      "Total params: 243 (972.00 Byte)\n",
      "Trainable params: 243 (972.00 Byte)\n",
      "Non-trainable params: 0 (0.00 Byte)\n",
      "_________________________________________________________________\n"
     ]
    }
   ],
   "source": [
    "Model_iris.summary()"
   ]
  },
  {
   "cell_type": "markdown",
   "metadata": {
    "id": "j9nJ82S8TmOW"
   },
   "source": [
    "* 모델 레이어 시각화\n",
    "    - 파일로도 저장해준다."
   ]
  },
  {
   "cell_type": "code",
   "execution_count": 17,
   "metadata": {
    "colab": {
     "base_uri": "https://localhost:8080/",
     "height": 545
    },
    "executionInfo": {
     "elapsed": 469,
     "status": "ok",
     "timestamp": 1705299170694,
     "user": {
      "displayName": "맹광국",
      "userId": "00860531964279012518"
     },
     "user_tz": -540
    },
    "id": "SqtCd2AuTWfv",
    "outputId": "7cb2defc-e224-4b31-fc3b-f44a0b806173",
    "tags": []
   },
   "outputs": [
    {
     "data": {
      "image/png": "[encoded data removed]",
      "text/plain": [
       "<IPython.core.display.Image object>"
      ]
     },
     "execution_count": 17,
     "metadata": {},
     "output_type": "execute_result"
    }
   ],
   "source": [
    "from tensorflow.keras import utils\n",
    "\n",
    "utils.plot_model(Model_iris,\n",
    "                 show_shapes = True,\n",
    "                 show_dtype = True)"
   ]
  },
  {
   "cell_type": "markdown",
   "metadata": {
    "id": "3jTRDB6y-5Mx"
   },
   "source": [
    "> ## 3) Model Compile"
   ]
  },
  {
   "cell_type": "markdown",
   "metadata": {
    "id": "iixRFcKM_PUJ"
   },
   "source": [
    "* 모델 학습방법 설정"
   ]
  },
  {
   "cell_type": "code",
   "execution_count": 19,
   "metadata": {
    "executionInfo": {
     "elapsed": 787,
     "status": "ok",
     "timestamp": 1705299296839,
     "user": {
      "displayName": "맹광국",
      "userId": "00860531964279012518"
     },
     "user_tz": -540
    },
    "id": "cpMQ-9nSwitg"
   },
   "outputs": [],
   "source": [
    "Model_iris.compile?"
   ]
  },
  {
   "cell_type": "code",
   "execution_count": 20,
   "metadata": {
    "executionInfo": {
     "elapsed": 294,
     "status": "ok",
     "timestamp": 1705299328347,
     "user": {
      "displayName": "맹광국",
      "userId": "00860531964279012518"
     },
     "user_tz": -540
    },
    "id": "Qe9CXqyKjHhI",
    "tags": []
   },
   "outputs": [],
   "source": [
    "Model_iris.compile(loss = 'categorical_crossentropy',\n",
    "                   optimizer = 'adam',\n",
    "                   metrics = ['accuracy'])"
   ]
  },
  {
   "cell_type": "markdown",
   "metadata": {
    "id": "y7zLg_l4_BvM"
   },
   "source": [
    "> ## 4) Model Fit"
   ]
  },
  {
   "cell_type": "markdown",
   "metadata": {
    "id": "BLjGgSpG_UiT"
   },
   "source": [
    "* 모델 학습 수행"
   ]
  },
  {
   "cell_type": "code",
   "execution_count": 44,
   "metadata": {
    "collapsed": true,
    "executionInfo": {
     "elapsed": 341,
     "status": "ok",
     "timestamp": 1705300669591,
     "user": {
      "displayName": "맹광국",
      "userId": "00860531964279012518"
     },
     "user_tz": -540
    },
    "id": "ApRwwblvIeR9",
    "jupyter": {
     "outputs_hidden": true
    },
    "tags": []
   },
   "outputs": [],
   "source": [
    "Model_iris.fit?"
   ]
  },
  {
   "cell_type": "code",
   "execution_count": 23,
   "metadata": {
    "colab": {
     "base_uri": "https://localhost:8080/"
    },
    "executionInfo": {
     "elapsed": 25019,
     "status": "ok",
     "timestamp": 1705299672452,
     "user": {
      "displayName": "맹광국",
      "userId": "00860531964279012518"
     },
     "user_tz": -540
    },
    "id": "1J-5DPpUjKPZ",
    "outputId": "d60fdbc8-ecae-4865-fb1c-16211cc25509",
    "tags": []
   },
   "outputs": [
    {
     "name": "stdout",
     "output_type": "stream",
     "text": [
      "Epoch 1/250\n",
      "15/15 [==============================] - 2s 33ms/step - loss: 1.4126 - accuracy: 0.3143 - val_loss: 1.1121 - val_accuracy: 0.3778\n",
      "Epoch 2/250\n",
      "15/15 [==============================] - 0s 7ms/step - loss: 1.0878 - accuracy: 0.3238 - val_loss: 0.9403 - val_accuracy: 0.4444\n",
      "Epoch 3/250\n",
      "15/15 [==============================] - 0s 8ms/step - loss: 0.9512 - accuracy: 0.5905 - val_loss: 0.8875 - val_accuracy: 0.6889\n",
      "Epoch 4/250\n",
      "15/15 [==============================] - 0s 8ms/step - loss: 0.9149 - accuracy: 0.6571 - val_loss: 0.8667 - val_accuracy: 0.6889\n",
      "Epoch 5/250\n",
      "15/15 [==============================] - 0s 8ms/step - loss: 0.8910 - accuracy: 0.6571 - val_loss: 0.8430 - val_accuracy: 0.6889\n",
      "Epoch 6/250\n",
      "15/15 [==============================] - 0s 7ms/step - loss: 0.8693 - accuracy: 0.6571 - val_loss: 0.8216 - val_accuracy: 0.6889\n",
      "Epoch 7/250\n",
      "15/15 [==============================] - 0s 7ms/step - loss: 0.8481 - accuracy: 0.6571 - val_loss: 0.7978 - val_accuracy: 0.6889\n",
      "Epoch 8/250\n",
      "15/15 [==============================] - 0s 9ms/step - loss: 0.8258 - accuracy: 0.6571 - val_loss: 0.7686 - val_accuracy: 0.6667\n",
      "Epoch 9/250\n",
      "15/15 [==============================] - 0s 7ms/step - loss: 0.8000 - accuracy: 0.6476 - val_loss: 0.7444 - val_accuracy: 0.6667\n",
      "Epoch 10/250\n",
      "15/15 [==============================] - 0s 7ms/step - loss: 0.7791 - accuracy: 0.6476 - val_loss: 0.7237 - val_accuracy: 0.6667\n",
      "Epoch 11/250\n",
      "15/15 [==============================] - 0s 6ms/step - loss: 0.7604 - accuracy: 0.6476 - val_loss: 0.7032 - val_accuracy: 0.6667\n",
      "Epoch 12/250\n",
      "15/15 [==============================] - 0s 7ms/step - loss: 0.7428 - accuracy: 0.6476 - val_loss: 0.6868 - val_accuracy: 0.6667\n",
      "Epoch 13/250\n",
      "15/15 [==============================] - 0s 7ms/step - loss: 0.7274 - accuracy: 0.6476 - val_loss: 0.6700 - val_accuracy: 0.6667\n",
      "Epoch 14/250\n",
      "15/15 [==============================] - 0s 9ms/step - loss: 0.7131 - accuracy: 0.6857 - val_loss: 0.6541 - val_accuracy: 0.7556\n",
      "Epoch 15/250\n",
      "15/15 [==============================] - 0s 7ms/step - loss: 0.6988 - accuracy: 0.7429 - val_loss: 0.6406 - val_accuracy: 0.7556\n",
      "Epoch 16/250\n",
      "15/15 [==============================] - 0s 8ms/step - loss: 0.6850 - accuracy: 0.7714 - val_loss: 0.6258 - val_accuracy: 0.8222\n",
      "Epoch 17/250\n",
      "15/15 [==============================] - 0s 9ms/step - loss: 0.6724 - accuracy: 0.7905 - val_loss: 0.6144 - val_accuracy: 0.8667\n",
      "Epoch 18/250\n",
      "15/15 [==============================] - 0s 6ms/step - loss: 0.6604 - accuracy: 0.7810 - val_loss: 0.6000 - val_accuracy: 0.8222\n",
      "Epoch 19/250\n",
      "15/15 [==============================] - 0s 7ms/step - loss: 0.6493 - accuracy: 0.7714 - val_loss: 0.5882 - val_accuracy: 0.8000\n",
      "Epoch 20/250\n",
      "15/15 [==============================] - 0s 5ms/step - loss: 0.6383 - accuracy: 0.8286 - val_loss: 0.5772 - val_accuracy: 0.8889\n",
      "Epoch 21/250\n",
      "15/15 [==============================] - 0s 5ms/step - loss: 0.6245 - accuracy: 0.8095 - val_loss: 0.5644 - val_accuracy: 0.8444\n",
      "Epoch 22/250\n",
      "15/15 [==============================] - 0s 5ms/step - loss: 0.6155 - accuracy: 0.7810 - val_loss: 0.5544 - val_accuracy: 0.8222\n",
      "Epoch 23/250\n",
      "15/15 [==============================] - 0s 5ms/step - loss: 0.6040 - accuracy: 0.8571 - val_loss: 0.5449 - val_accuracy: 0.9111\n",
      "Epoch 24/250\n",
      "15/15 [==============================] - 0s 5ms/step - loss: 0.5919 - accuracy: 0.8762 - val_loss: 0.5311 - val_accuracy: 0.8889\n",
      "Epoch 25/250\n",
      "15/15 [==============================] - 0s 6ms/step - loss: 0.5817 - accuracy: 0.7810 - val_loss: 0.5217 - val_accuracy: 0.8222\n",
      "Epoch 26/250\n",
      "15/15 [==============================] - 0s 5ms/step - loss: 0.5763 - accuracy: 0.8476 - val_loss: 0.5142 - val_accuracy: 0.8889\n",
      "Epoch 27/250\n",
      "15/15 [==============================] - 0s 5ms/step - loss: 0.5628 - accuracy: 0.8190 - val_loss: 0.5008 - val_accuracy: 0.8889\n",
      "Epoch 28/250\n",
      "15/15 [==============================] - 0s 5ms/step - loss: 0.5525 - accuracy: 0.8667 - val_loss: 0.4923 - val_accuracy: 0.9111\n",
      "Epoch 29/250\n",
      "15/15 [==============================] - 0s 6ms/step - loss: 0.5421 - accuracy: 0.8381 - val_loss: 0.4821 - val_accuracy: 0.8889\n",
      "Epoch 30/250\n",
      "15/15 [==============================] - 0s 5ms/step - loss: 0.5335 - accuracy: 0.8762 - val_loss: 0.4727 - val_accuracy: 0.9111\n",
      "Epoch 31/250\n",
      "15/15 [==============================] - 0s 5ms/step - loss: 0.5236 - accuracy: 0.8857 - val_loss: 0.4640 - val_accuracy: 0.9111\n",
      "Epoch 32/250\n",
      "15/15 [==============================] - 0s 6ms/step - loss: 0.5143 - accuracy: 0.8857 - val_loss: 0.4548 - val_accuracy: 0.9111\n",
      "Epoch 33/250\n",
      "15/15 [==============================] - 0s 6ms/step - loss: 0.5101 - accuracy: 0.9048 - val_loss: 0.4485 - val_accuracy: 0.9556\n",
      "Epoch 34/250\n",
      "15/15 [==============================] - 0s 6ms/step - loss: 0.5038 - accuracy: 0.8762 - val_loss: 0.4390 - val_accuracy: 0.9111\n",
      "Epoch 35/250\n",
      "15/15 [==============================] - 0s 5ms/step - loss: 0.4897 - accuracy: 0.9048 - val_loss: 0.4325 - val_accuracy: 0.9556\n",
      "Epoch 36/250\n",
      "15/15 [==============================] - 0s 6ms/step - loss: 0.4806 - accuracy: 0.9238 - val_loss: 0.4217 - val_accuracy: 0.9333\n",
      "Epoch 37/250\n",
      "15/15 [==============================] - 0s 5ms/step - loss: 0.4758 - accuracy: 0.8857 - val_loss: 0.4147 - val_accuracy: 0.9111\n",
      "Epoch 38/250\n",
      "15/15 [==============================] - 0s 5ms/step - loss: 0.4704 - accuracy: 0.9048 - val_loss: 0.4120 - val_accuracy: 0.9778\n",
      "Epoch 39/250\n",
      "15/15 [==============================] - 0s 6ms/step - loss: 0.4642 - accuracy: 0.8952 - val_loss: 0.4001 - val_accuracy: 0.9111\n",
      "Epoch 40/250\n",
      "15/15 [==============================] - 0s 6ms/step - loss: 0.4491 - accuracy: 0.9238 - val_loss: 0.3928 - val_accuracy: 0.9556\n",
      "Epoch 41/250\n",
      "15/15 [==============================] - 0s 6ms/step - loss: 0.4460 - accuracy: 0.8952 - val_loss: 0.3850 - val_accuracy: 0.9111\n",
      "Epoch 42/250\n",
      "15/15 [==============================] - 0s 5ms/step - loss: 0.4366 - accuracy: 0.9048 - val_loss: 0.3784 - val_accuracy: 0.9556\n",
      "Epoch 43/250\n",
      "15/15 [==============================] - 0s 5ms/step - loss: 0.4309 - accuracy: 0.9333 - val_loss: 0.3709 - val_accuracy: 0.9556\n",
      "Epoch 44/250\n",
      "15/15 [==============================] - 0s 5ms/step - loss: 0.4234 - accuracy: 0.9143 - val_loss: 0.3644 - val_accuracy: 0.9556\n",
      "Epoch 45/250\n",
      "15/15 [==============================] - 0s 5ms/step - loss: 0.4197 - accuracy: 0.9333 - val_loss: 0.3592 - val_accuracy: 0.9556\n",
      "Epoch 46/250\n",
      "15/15 [==============================] - 0s 5ms/step - loss: 0.4089 - accuracy: 0.9238 - val_loss: 0.3516 - val_accuracy: 0.9556\n",
      "Epoch 47/250\n",
      "15/15 [==============================] - 0s 5ms/step - loss: 0.4036 - accuracy: 0.9143 - val_loss: 0.3459 - val_accuracy: 0.9556\n",
      "Epoch 48/250\n",
      "15/15 [==============================] - 0s 5ms/step - loss: 0.3968 - accuracy: 0.9238 - val_loss: 0.3410 - val_accuracy: 0.9556\n",
      "Epoch 49/250\n",
      "15/15 [==============================] - 0s 5ms/step - loss: 0.3907 - accuracy: 0.9333 - val_loss: 0.3344 - val_accuracy: 0.9556\n",
      "Epoch 50/250\n",
      "15/15 [==============================] - 0s 5ms/step - loss: 0.3851 - accuracy: 0.9238 - val_loss: 0.3291 - val_accuracy: 0.9556\n",
      "Epoch 51/250\n",
      "15/15 [==============================] - 0s 5ms/step - loss: 0.3820 - accuracy: 0.9238 - val_loss: 0.3233 - val_accuracy: 0.9556\n",
      "Epoch 52/250\n",
      "15/15 [==============================] - 0s 6ms/step - loss: 0.3786 - accuracy: 0.9333 - val_loss: 0.3198 - val_accuracy: 0.9778\n",
      "Epoch 53/250\n",
      "15/15 [==============================] - 0s 5ms/step - loss: 0.3696 - accuracy: 0.9333 - val_loss: 0.3125 - val_accuracy: 0.9556\n",
      "Epoch 54/250\n",
      "15/15 [==============================] - 0s 5ms/step - loss: 0.3646 - accuracy: 0.9333 - val_loss: 0.3074 - val_accuracy: 0.9556\n",
      "Epoch 55/250\n",
      "15/15 [==============================] - 0s 5ms/step - loss: 0.3615 - accuracy: 0.9238 - val_loss: 0.3037 - val_accuracy: 0.9556\n",
      "Epoch 56/250\n",
      "15/15 [==============================] - 0s 5ms/step - loss: 0.3538 - accuracy: 0.9333 - val_loss: 0.2981 - val_accuracy: 0.9778\n",
      "Epoch 57/250\n",
      "15/15 [==============================] - 0s 4ms/step - loss: 0.3490 - accuracy: 0.9333 - val_loss: 0.2939 - val_accuracy: 0.9778\n",
      "Epoch 58/250\n",
      "15/15 [==============================] - 0s 5ms/step - loss: 0.3463 - accuracy: 0.9333 - val_loss: 0.2892 - val_accuracy: 0.9778\n",
      "Epoch 59/250\n",
      "15/15 [==============================] - 0s 5ms/step - loss: 0.3405 - accuracy: 0.9333 - val_loss: 0.2849 - val_accuracy: 0.9556\n",
      "Epoch 60/250\n",
      "15/15 [==============================] - 0s 6ms/step - loss: 0.3366 - accuracy: 0.9333 - val_loss: 0.2800 - val_accuracy: 0.9778\n",
      "Epoch 61/250\n",
      "15/15 [==============================] - 0s 5ms/step - loss: 0.3326 - accuracy: 0.9333 - val_loss: 0.2758 - val_accuracy: 0.9778\n",
      "Epoch 62/250\n",
      "15/15 [==============================] - 0s 6ms/step - loss: 0.3288 - accuracy: 0.9333 - val_loss: 0.2715 - val_accuracy: 0.9778\n",
      "Epoch 63/250\n",
      "15/15 [==============================] - 0s 5ms/step - loss: 0.3251 - accuracy: 0.9333 - val_loss: 0.2685 - val_accuracy: 0.9556\n",
      "Epoch 64/250\n",
      "15/15 [==============================] - 0s 5ms/step - loss: 0.3229 - accuracy: 0.9429 - val_loss: 0.2641 - val_accuracy: 0.9778\n",
      "Epoch 65/250\n",
      "15/15 [==============================] - 0s 6ms/step - loss: 0.3171 - accuracy: 0.9333 - val_loss: 0.2600 - val_accuracy: 0.9778\n",
      "Epoch 66/250\n",
      "15/15 [==============================] - 0s 5ms/step - loss: 0.3175 - accuracy: 0.9429 - val_loss: 0.2570 - val_accuracy: 0.9778\n",
      "Epoch 67/250\n",
      "15/15 [==============================] - 0s 6ms/step - loss: 0.3104 - accuracy: 0.9333 - val_loss: 0.2523 - val_accuracy: 0.9778\n",
      "Epoch 68/250\n",
      "15/15 [==============================] - 0s 5ms/step - loss: 0.3066 - accuracy: 0.9619 - val_loss: 0.2485 - val_accuracy: 0.9778\n",
      "Epoch 69/250\n",
      "15/15 [==============================] - 0s 5ms/step - loss: 0.3006 - accuracy: 0.9333 - val_loss: 0.2461 - val_accuracy: 0.9778\n",
      "Epoch 70/250\n",
      "15/15 [==============================] - 0s 5ms/step - loss: 0.2949 - accuracy: 0.9333 - val_loss: 0.2422 - val_accuracy: 0.9778\n",
      "Epoch 71/250\n",
      "15/15 [==============================] - 0s 5ms/step - loss: 0.2936 - accuracy: 0.9619 - val_loss: 0.2395 - val_accuracy: 0.9778\n",
      "Epoch 72/250\n",
      "15/15 [==============================] - 0s 5ms/step - loss: 0.2894 - accuracy: 0.9619 - val_loss: 0.2354 - val_accuracy: 0.9778\n",
      "Epoch 73/250\n",
      "15/15 [==============================] - 0s 5ms/step - loss: 0.2924 - accuracy: 0.9619 - val_loss: 0.2317 - val_accuracy: 0.9778\n",
      "Epoch 74/250\n",
      "15/15 [==============================] - 0s 5ms/step - loss: 0.2823 - accuracy: 0.9333 - val_loss: 0.2306 - val_accuracy: 0.9778\n",
      "Epoch 75/250\n",
      "15/15 [==============================] - 0s 6ms/step - loss: 0.2871 - accuracy: 0.9524 - val_loss: 0.2263 - val_accuracy: 0.9778\n",
      "Epoch 76/250\n",
      "15/15 [==============================] - 0s 5ms/step - loss: 0.2767 - accuracy: 0.9714 - val_loss: 0.2224 - val_accuracy: 0.9778\n",
      "Epoch 77/250\n",
      "15/15 [==============================] - 0s 5ms/step - loss: 0.2789 - accuracy: 0.9333 - val_loss: 0.2203 - val_accuracy: 0.9778\n",
      "Epoch 78/250\n",
      "15/15 [==============================] - 0s 5ms/step - loss: 0.2770 - accuracy: 0.9524 - val_loss: 0.2215 - val_accuracy: 0.9778\n",
      "Epoch 79/250\n",
      "15/15 [==============================] - 0s 6ms/step - loss: 0.2732 - accuracy: 0.9333 - val_loss: 0.2186 - val_accuracy: 0.9556\n",
      "Epoch 80/250\n",
      "15/15 [==============================] - 0s 5ms/step - loss: 0.2659 - accuracy: 0.9333 - val_loss: 0.2109 - val_accuracy: 0.9778\n",
      "Epoch 81/250\n",
      "15/15 [==============================] - 0s 6ms/step - loss: 0.2618 - accuracy: 0.9714 - val_loss: 0.2083 - val_accuracy: 0.9778\n",
      "Epoch 82/250\n",
      "15/15 [==============================] - 0s 6ms/step - loss: 0.2603 - accuracy: 0.9714 - val_loss: 0.2057 - val_accuracy: 0.9778\n",
      "Epoch 83/250\n",
      "15/15 [==============================] - 0s 7ms/step - loss: 0.2583 - accuracy: 0.9619 - val_loss: 0.2042 - val_accuracy: 0.9778\n",
      "Epoch 84/250\n",
      "15/15 [==============================] - 0s 5ms/step - loss: 0.2527 - accuracy: 0.9619 - val_loss: 0.2003 - val_accuracy: 0.9778\n",
      "Epoch 85/250\n",
      "15/15 [==============================] - 0s 6ms/step - loss: 0.2523 - accuracy: 0.9524 - val_loss: 0.1974 - val_accuracy: 0.9778\n",
      "Epoch 86/250\n",
      "15/15 [==============================] - 0s 6ms/step - loss: 0.2513 - accuracy: 0.9714 - val_loss: 0.1983 - val_accuracy: 0.9778\n",
      "Epoch 87/250\n",
      "15/15 [==============================] - 0s 5ms/step - loss: 0.2463 - accuracy: 0.9714 - val_loss: 0.1927 - val_accuracy: 0.9778\n",
      "Epoch 88/250\n",
      "15/15 [==============================] - 0s 6ms/step - loss: 0.2445 - accuracy: 0.9619 - val_loss: 0.1897 - val_accuracy: 0.9778\n",
      "Epoch 89/250\n",
      "15/15 [==============================] - 0s 5ms/step - loss: 0.2418 - accuracy: 0.9714 - val_loss: 0.1878 - val_accuracy: 0.9778\n",
      "Epoch 90/250\n",
      "15/15 [==============================] - 0s 4ms/step - loss: 0.2403 - accuracy: 0.9524 - val_loss: 0.1867 - val_accuracy: 0.9778\n",
      "Epoch 91/250\n",
      "15/15 [==============================] - 0s 5ms/step - loss: 0.2382 - accuracy: 0.9619 - val_loss: 0.1819 - val_accuracy: 0.9778\n",
      "Epoch 92/250\n",
      "15/15 [==============================] - 0s 5ms/step - loss: 0.2342 - accuracy: 0.9619 - val_loss: 0.1803 - val_accuracy: 0.9778\n",
      "Epoch 93/250\n",
      "15/15 [==============================] - 0s 4ms/step - loss: 0.2341 - accuracy: 0.9524 - val_loss: 0.1782 - val_accuracy: 0.9778\n",
      "Epoch 94/250\n",
      "15/15 [==============================] - 0s 5ms/step - loss: 0.2279 - accuracy: 0.9619 - val_loss: 0.1756 - val_accuracy: 0.9778\n",
      "Epoch 95/250\n",
      "15/15 [==============================] - 0s 5ms/step - loss: 0.2262 - accuracy: 0.9714 - val_loss: 0.1737 - val_accuracy: 0.9778\n",
      "Epoch 96/250\n",
      "15/15 [==============================] - 0s 5ms/step - loss: 0.2244 - accuracy: 0.9714 - val_loss: 0.1705 - val_accuracy: 0.9778\n",
      "Epoch 97/250\n",
      "15/15 [==============================] - 0s 5ms/step - loss: 0.2212 - accuracy: 0.9714 - val_loss: 0.1690 - val_accuracy: 0.9778\n",
      "Epoch 98/250\n",
      "15/15 [==============================] - 0s 5ms/step - loss: 0.2219 - accuracy: 0.9524 - val_loss: 0.1669 - val_accuracy: 0.9778\n",
      "Epoch 99/250\n",
      "15/15 [==============================] - 0s 4ms/step - loss: 0.2176 - accuracy: 0.9714 - val_loss: 0.1657 - val_accuracy: 0.9778\n",
      "Epoch 100/250\n",
      "15/15 [==============================] - 0s 5ms/step - loss: 0.2192 - accuracy: 0.9714 - val_loss: 0.1646 - val_accuracy: 0.9778\n",
      "Epoch 101/250\n",
      "15/15 [==============================] - 0s 6ms/step - loss: 0.2161 - accuracy: 0.9429 - val_loss: 0.1611 - val_accuracy: 0.9778\n",
      "Epoch 102/250\n",
      "15/15 [==============================] - 0s 5ms/step - loss: 0.2146 - accuracy: 0.9714 - val_loss: 0.1599 - val_accuracy: 0.9778\n",
      "Epoch 103/250\n",
      "15/15 [==============================] - 0s 5ms/step - loss: 0.2150 - accuracy: 0.9524 - val_loss: 0.1582 - val_accuracy: 0.9778\n",
      "Epoch 104/250\n",
      "15/15 [==============================] - 0s 5ms/step - loss: 0.2056 - accuracy: 0.9619 - val_loss: 0.1556 - val_accuracy: 0.9778\n",
      "Epoch 105/250\n",
      "15/15 [==============================] - 0s 4ms/step - loss: 0.2065 - accuracy: 0.9714 - val_loss: 0.1555 - val_accuracy: 0.9778\n",
      "Epoch 106/250\n",
      "15/15 [==============================] - 0s 5ms/step - loss: 0.2049 - accuracy: 0.9524 - val_loss: 0.1528 - val_accuracy: 0.9778\n",
      "Epoch 107/250\n",
      "15/15 [==============================] - 0s 5ms/step - loss: 0.2035 - accuracy: 0.9429 - val_loss: 0.1513 - val_accuracy: 0.9778\n",
      "Epoch 108/250\n",
      "15/15 [==============================] - 0s 5ms/step - loss: 0.2034 - accuracy: 0.9619 - val_loss: 0.1487 - val_accuracy: 0.9778\n",
      "Epoch 109/250\n",
      "15/15 [==============================] - 0s 5ms/step - loss: 0.1988 - accuracy: 0.9524 - val_loss: 0.1473 - val_accuracy: 0.9778\n",
      "Epoch 110/250\n",
      "15/15 [==============================] - 0s 6ms/step - loss: 0.1965 - accuracy: 0.9524 - val_loss: 0.1452 - val_accuracy: 0.9778\n",
      "Epoch 111/250\n",
      "15/15 [==============================] - 0s 5ms/step - loss: 0.1960 - accuracy: 0.9619 - val_loss: 0.1441 - val_accuracy: 0.9778\n",
      "Epoch 112/250\n",
      "15/15 [==============================] - 0s 5ms/step - loss: 0.1938 - accuracy: 0.9714 - val_loss: 0.1425 - val_accuracy: 0.9778\n",
      "Epoch 113/250\n",
      "15/15 [==============================] - 0s 5ms/step - loss: 0.1945 - accuracy: 0.9619 - val_loss: 0.1407 - val_accuracy: 0.9778\n",
      "Epoch 114/250\n",
      "15/15 [==============================] - 0s 7ms/step - loss: 0.1901 - accuracy: 0.9524 - val_loss: 0.1396 - val_accuracy: 0.9778\n",
      "Epoch 115/250\n",
      "15/15 [==============================] - 0s 7ms/step - loss: 0.1957 - accuracy: 0.9714 - val_loss: 0.1385 - val_accuracy: 0.9778\n",
      "Epoch 116/250\n",
      "15/15 [==============================] - 0s 5ms/step - loss: 0.1877 - accuracy: 0.9619 - val_loss: 0.1366 - val_accuracy: 0.9778\n",
      "Epoch 117/250\n",
      "15/15 [==============================] - 0s 6ms/step - loss: 0.1870 - accuracy: 0.9524 - val_loss: 0.1358 - val_accuracy: 0.9778\n",
      "Epoch 118/250\n",
      "15/15 [==============================] - 0s 6ms/step - loss: 0.1886 - accuracy: 0.9619 - val_loss: 0.1340 - val_accuracy: 1.0000\n",
      "Epoch 119/250\n",
      "15/15 [==============================] - 0s 6ms/step - loss: 0.1843 - accuracy: 0.9619 - val_loss: 0.1335 - val_accuracy: 0.9778\n",
      "Epoch 120/250\n",
      "15/15 [==============================] - 0s 6ms/step - loss: 0.1813 - accuracy: 0.9714 - val_loss: 0.1320 - val_accuracy: 0.9778\n",
      "Epoch 121/250\n",
      "15/15 [==============================] - 0s 6ms/step - loss: 0.1804 - accuracy: 0.9714 - val_loss: 0.1300 - val_accuracy: 0.9778\n",
      "Epoch 122/250\n",
      "15/15 [==============================] - 0s 6ms/step - loss: 0.1786 - accuracy: 0.9524 - val_loss: 0.1278 - val_accuracy: 0.9778\n",
      "Epoch 123/250\n",
      "15/15 [==============================] - 0s 5ms/step - loss: 0.1772 - accuracy: 0.9524 - val_loss: 0.1271 - val_accuracy: 0.9778\n",
      "Epoch 124/250\n",
      "15/15 [==============================] - 0s 6ms/step - loss: 0.1800 - accuracy: 0.9619 - val_loss: 0.1290 - val_accuracy: 0.9778\n",
      "Epoch 125/250\n",
      "15/15 [==============================] - 0s 6ms/step - loss: 0.1799 - accuracy: 0.9524 - val_loss: 0.1249 - val_accuracy: 0.9778\n",
      "Epoch 126/250\n",
      "15/15 [==============================] - 0s 6ms/step - loss: 0.1757 - accuracy: 0.9714 - val_loss: 0.1252 - val_accuracy: 0.9778\n",
      "Epoch 127/250\n",
      "15/15 [==============================] - 0s 5ms/step - loss: 0.1753 - accuracy: 0.9429 - val_loss: 0.1223 - val_accuracy: 0.9778\n",
      "Epoch 128/250\n",
      "15/15 [==============================] - 0s 5ms/step - loss: 0.1747 - accuracy: 0.9619 - val_loss: 0.1253 - val_accuracy: 0.9778\n",
      "Epoch 129/250\n",
      "15/15 [==============================] - 0s 5ms/step - loss: 0.1719 - accuracy: 0.9524 - val_loss: 0.1199 - val_accuracy: 0.9778\n",
      "Epoch 130/250\n",
      "15/15 [==============================] - 0s 4ms/step - loss: 0.1689 - accuracy: 0.9524 - val_loss: 0.1193 - val_accuracy: 0.9778\n",
      "Epoch 131/250\n",
      "15/15 [==============================] - 0s 6ms/step - loss: 0.1708 - accuracy: 0.9524 - val_loss: 0.1183 - val_accuracy: 0.9778\n",
      "Epoch 132/250\n",
      "15/15 [==============================] - 0s 5ms/step - loss: 0.1641 - accuracy: 0.9619 - val_loss: 0.1194 - val_accuracy: 0.9778\n",
      "Epoch 133/250\n",
      "15/15 [==============================] - 0s 6ms/step - loss: 0.1690 - accuracy: 0.9714 - val_loss: 0.1183 - val_accuracy: 0.9778\n",
      "Epoch 134/250\n",
      "15/15 [==============================] - 0s 5ms/step - loss: 0.1635 - accuracy: 0.9714 - val_loss: 0.1152 - val_accuracy: 1.0000\n",
      "Epoch 135/250\n",
      "15/15 [==============================] - 0s 5ms/step - loss: 0.1635 - accuracy: 0.9619 - val_loss: 0.1143 - val_accuracy: 0.9778\n",
      "Epoch 136/250\n",
      "15/15 [==============================] - 0s 7ms/step - loss: 0.1615 - accuracy: 0.9714 - val_loss: 0.1134 - val_accuracy: 0.9778\n",
      "Epoch 137/250\n",
      "15/15 [==============================] - 0s 9ms/step - loss: 0.1609 - accuracy: 0.9714 - val_loss: 0.1124 - val_accuracy: 0.9778\n",
      "Epoch 138/250\n",
      "15/15 [==============================] - 0s 8ms/step - loss: 0.1620 - accuracy: 0.9714 - val_loss: 0.1100 - val_accuracy: 1.0000\n",
      "Epoch 139/250\n",
      "15/15 [==============================] - 0s 8ms/step - loss: 0.1582 - accuracy: 0.9524 - val_loss: 0.1102 - val_accuracy: 0.9778\n",
      "Epoch 140/250\n",
      "15/15 [==============================] - 0s 7ms/step - loss: 0.1656 - accuracy: 0.9714 - val_loss: 0.1088 - val_accuracy: 0.9778\n",
      "Epoch 141/250\n",
      "15/15 [==============================] - 0s 8ms/step - loss: 0.1591 - accuracy: 0.9524 - val_loss: 0.1077 - val_accuracy: 0.9778\n",
      "Epoch 142/250\n",
      "15/15 [==============================] - 0s 7ms/step - loss: 0.1561 - accuracy: 0.9619 - val_loss: 0.1072 - val_accuracy: 0.9778\n",
      "Epoch 143/250\n",
      "15/15 [==============================] - 0s 7ms/step - loss: 0.1550 - accuracy: 0.9524 - val_loss: 0.1067 - val_accuracy: 0.9778\n",
      "Epoch 144/250\n",
      "15/15 [==============================] - 0s 10ms/step - loss: 0.1529 - accuracy: 0.9524 - val_loss: 0.1050 - val_accuracy: 0.9778\n",
      "Epoch 145/250\n",
      "15/15 [==============================] - 0s 9ms/step - loss: 0.1527 - accuracy: 0.9524 - val_loss: 0.1036 - val_accuracy: 0.9778\n",
      "Epoch 146/250\n",
      "15/15 [==============================] - 0s 7ms/step - loss: 0.1543 - accuracy: 0.9619 - val_loss: 0.1037 - val_accuracy: 0.9778\n",
      "Epoch 147/250\n",
      "15/15 [==============================] - 0s 7ms/step - loss: 0.1499 - accuracy: 0.9524 - val_loss: 0.1026 - val_accuracy: 0.9778\n",
      "Epoch 148/250\n",
      "15/15 [==============================] - 0s 7ms/step - loss: 0.1486 - accuracy: 0.9619 - val_loss: 0.1022 - val_accuracy: 0.9778\n",
      "Epoch 149/250\n",
      "15/15 [==============================] - 0s 7ms/step - loss: 0.1479 - accuracy: 0.9619 - val_loss: 0.1006 - val_accuracy: 0.9778\n",
      "Epoch 150/250\n",
      "15/15 [==============================] - 0s 7ms/step - loss: 0.1493 - accuracy: 0.9524 - val_loss: 0.1007 - val_accuracy: 0.9778\n",
      "Epoch 151/250\n",
      "15/15 [==============================] - 0s 7ms/step - loss: 0.1490 - accuracy: 0.9619 - val_loss: 0.0992 - val_accuracy: 0.9778\n",
      "Epoch 152/250\n",
      "15/15 [==============================] - 0s 7ms/step - loss: 0.1452 - accuracy: 0.9524 - val_loss: 0.1001 - val_accuracy: 0.9778\n",
      "Epoch 153/250\n",
      "15/15 [==============================] - 0s 7ms/step - loss: 0.1476 - accuracy: 0.9619 - val_loss: 0.1001 - val_accuracy: 0.9778\n",
      "Epoch 154/250\n",
      "15/15 [==============================] - 0s 8ms/step - loss: 0.1506 - accuracy: 0.9619 - val_loss: 0.0958 - val_accuracy: 1.0000\n",
      "Epoch 155/250\n",
      "15/15 [==============================] - 0s 9ms/step - loss: 0.1479 - accuracy: 0.9619 - val_loss: 0.0975 - val_accuracy: 0.9778\n",
      "Epoch 156/250\n",
      "15/15 [==============================] - 0s 8ms/step - loss: 0.1476 - accuracy: 0.9524 - val_loss: 0.0968 - val_accuracy: 0.9778\n",
      "Epoch 157/250\n",
      "15/15 [==============================] - 0s 8ms/step - loss: 0.1415 - accuracy: 0.9714 - val_loss: 0.0953 - val_accuracy: 0.9778\n",
      "Epoch 158/250\n",
      "15/15 [==============================] - 0s 7ms/step - loss: 0.1418 - accuracy: 0.9619 - val_loss: 0.0949 - val_accuracy: 0.9778\n",
      "Epoch 159/250\n",
      "15/15 [==============================] - 0s 7ms/step - loss: 0.1464 - accuracy: 0.9524 - val_loss: 0.0929 - val_accuracy: 0.9778\n",
      "Epoch 160/250\n",
      "15/15 [==============================] - 0s 7ms/step - loss: 0.1463 - accuracy: 0.9619 - val_loss: 0.0964 - val_accuracy: 0.9778\n",
      "Epoch 161/250\n",
      "15/15 [==============================] - 0s 6ms/step - loss: 0.1400 - accuracy: 0.9619 - val_loss: 0.0909 - val_accuracy: 1.0000\n",
      "Epoch 162/250\n",
      "15/15 [==============================] - 0s 10ms/step - loss: 0.1388 - accuracy: 0.9619 - val_loss: 0.0922 - val_accuracy: 0.9778\n",
      "Epoch 163/250\n",
      "15/15 [==============================] - 0s 8ms/step - loss: 0.1373 - accuracy: 0.9619 - val_loss: 0.0917 - val_accuracy: 0.9778\n",
      "Epoch 164/250\n",
      "15/15 [==============================] - 0s 7ms/step - loss: 0.1401 - accuracy: 0.9714 - val_loss: 0.0894 - val_accuracy: 0.9778\n",
      "Epoch 165/250\n",
      "15/15 [==============================] - 0s 7ms/step - loss: 0.1425 - accuracy: 0.9619 - val_loss: 0.0880 - val_accuracy: 1.0000\n",
      "Epoch 166/250\n",
      "15/15 [==============================] - 0s 7ms/step - loss: 0.1346 - accuracy: 0.9619 - val_loss: 0.0901 - val_accuracy: 0.9778\n",
      "Epoch 167/250\n",
      "15/15 [==============================] - 0s 9ms/step - loss: 0.1360 - accuracy: 0.9619 - val_loss: 0.0875 - val_accuracy: 0.9778\n",
      "Epoch 168/250\n",
      "15/15 [==============================] - 0s 5ms/step - loss: 0.1342 - accuracy: 0.9524 - val_loss: 0.0875 - val_accuracy: 0.9778\n",
      "Epoch 169/250\n",
      "15/15 [==============================] - 0s 5ms/step - loss: 0.1346 - accuracy: 0.9619 - val_loss: 0.0887 - val_accuracy: 0.9778\n",
      "Epoch 170/250\n",
      "15/15 [==============================] - 0s 5ms/step - loss: 0.1301 - accuracy: 0.9714 - val_loss: 0.0862 - val_accuracy: 0.9778\n",
      "Epoch 171/250\n",
      "15/15 [==============================] - 0s 5ms/step - loss: 0.1364 - accuracy: 0.9714 - val_loss: 0.0844 - val_accuracy: 1.0000\n",
      "Epoch 172/250\n",
      "15/15 [==============================] - 0s 5ms/step - loss: 0.1347 - accuracy: 0.9619 - val_loss: 0.0860 - val_accuracy: 0.9778\n",
      "Epoch 173/250\n",
      "15/15 [==============================] - 0s 6ms/step - loss: 0.1348 - accuracy: 0.9619 - val_loss: 0.0847 - val_accuracy: 0.9778\n",
      "Epoch 174/250\n",
      "15/15 [==============================] - 0s 7ms/step - loss: 0.1328 - accuracy: 0.9619 - val_loss: 0.0854 - val_accuracy: 0.9778\n",
      "Epoch 175/250\n",
      "15/15 [==============================] - 0s 6ms/step - loss: 0.1333 - accuracy: 0.9714 - val_loss: 0.0818 - val_accuracy: 1.0000\n",
      "Epoch 176/250\n",
      "15/15 [==============================] - 0s 5ms/step - loss: 0.1322 - accuracy: 0.9619 - val_loss: 0.0842 - val_accuracy: 0.9778\n",
      "Epoch 177/250\n",
      "15/15 [==============================] - 0s 6ms/step - loss: 0.1296 - accuracy: 0.9714 - val_loss: 0.0846 - val_accuracy: 0.9778\n",
      "Epoch 178/250\n",
      "15/15 [==============================] - 0s 5ms/step - loss: 0.1460 - accuracy: 0.9524 - val_loss: 0.0803 - val_accuracy: 1.0000\n",
      "Epoch 179/250\n",
      "15/15 [==============================] - 0s 6ms/step - loss: 0.1295 - accuracy: 0.9524 - val_loss: 0.0820 - val_accuracy: 0.9778\n",
      "Epoch 180/250\n",
      "15/15 [==============================] - 0s 5ms/step - loss: 0.1302 - accuracy: 0.9524 - val_loss: 0.0805 - val_accuracy: 0.9778\n",
      "Epoch 181/250\n",
      "15/15 [==============================] - 0s 5ms/step - loss: 0.1296 - accuracy: 0.9524 - val_loss: 0.0797 - val_accuracy: 1.0000\n",
      "Epoch 182/250\n",
      "15/15 [==============================] - 0s 5ms/step - loss: 0.1254 - accuracy: 0.9714 - val_loss: 0.0809 - val_accuracy: 0.9778\n",
      "Epoch 183/250\n",
      "15/15 [==============================] - 0s 6ms/step - loss: 0.1270 - accuracy: 0.9714 - val_loss: 0.0814 - val_accuracy: 0.9778\n",
      "Epoch 184/250\n",
      "15/15 [==============================] - 0s 6ms/step - loss: 0.1268 - accuracy: 0.9619 - val_loss: 0.0777 - val_accuracy: 1.0000\n",
      "Epoch 185/250\n",
      "15/15 [==============================] - 0s 6ms/step - loss: 0.1279 - accuracy: 0.9619 - val_loss: 0.0831 - val_accuracy: 0.9778\n",
      "Epoch 186/250\n",
      "15/15 [==============================] - 0s 6ms/step - loss: 0.1294 - accuracy: 0.9619 - val_loss: 0.0759 - val_accuracy: 1.0000\n",
      "Epoch 187/250\n",
      "15/15 [==============================] - 0s 6ms/step - loss: 0.1201 - accuracy: 0.9619 - val_loss: 0.0800 - val_accuracy: 0.9778\n",
      "Epoch 188/250\n",
      "15/15 [==============================] - 0s 5ms/step - loss: 0.1245 - accuracy: 0.9714 - val_loss: 0.0784 - val_accuracy: 0.9778\n",
      "Epoch 189/250\n",
      "15/15 [==============================] - 0s 5ms/step - loss: 0.1199 - accuracy: 0.9714 - val_loss: 0.0760 - val_accuracy: 0.9778\n",
      "Epoch 190/250\n",
      "15/15 [==============================] - 0s 5ms/step - loss: 0.1235 - accuracy: 0.9524 - val_loss: 0.0760 - val_accuracy: 0.9778\n",
      "Epoch 191/250\n",
      "15/15 [==============================] - 0s 5ms/step - loss: 0.1270 - accuracy: 0.9619 - val_loss: 0.0753 - val_accuracy: 0.9778\n",
      "Epoch 192/250\n",
      "15/15 [==============================] - 0s 5ms/step - loss: 0.1195 - accuracy: 0.9524 - val_loss: 0.0778 - val_accuracy: 0.9778\n",
      "Epoch 193/250\n",
      "15/15 [==============================] - 0s 5ms/step - loss: 0.1193 - accuracy: 0.9619 - val_loss: 0.0766 - val_accuracy: 0.9778\n",
      "Epoch 194/250\n",
      "15/15 [==============================] - 0s 5ms/step - loss: 0.1167 - accuracy: 0.9619 - val_loss: 0.0729 - val_accuracy: 1.0000\n",
      "Epoch 195/250\n",
      "15/15 [==============================] - 0s 5ms/step - loss: 0.1203 - accuracy: 0.9619 - val_loss: 0.0752 - val_accuracy: 0.9778\n",
      "Epoch 196/250\n",
      "15/15 [==============================] - 0s 6ms/step - loss: 0.1163 - accuracy: 0.9714 - val_loss: 0.0732 - val_accuracy: 0.9778\n",
      "Epoch 197/250\n",
      "15/15 [==============================] - 0s 5ms/step - loss: 0.1200 - accuracy: 0.9524 - val_loss: 0.0722 - val_accuracy: 0.9778\n",
      "Epoch 198/250\n",
      "15/15 [==============================] - 0s 6ms/step - loss: 0.1169 - accuracy: 0.9714 - val_loss: 0.0729 - val_accuracy: 0.9778\n",
      "Epoch 199/250\n",
      "15/15 [==============================] - 0s 6ms/step - loss: 0.1205 - accuracy: 0.9619 - val_loss: 0.0724 - val_accuracy: 0.9778\n",
      "Epoch 200/250\n",
      "15/15 [==============================] - 0s 6ms/step - loss: 0.1231 - accuracy: 0.9619 - val_loss: 0.0734 - val_accuracy: 0.9778\n",
      "Epoch 201/250\n",
      "15/15 [==============================] - 0s 5ms/step - loss: 0.1152 - accuracy: 0.9619 - val_loss: 0.0695 - val_accuracy: 1.0000\n",
      "Epoch 202/250\n",
      "15/15 [==============================] - 0s 5ms/step - loss: 0.1152 - accuracy: 0.9714 - val_loss: 0.0761 - val_accuracy: 0.9778\n",
      "Epoch 203/250\n",
      "15/15 [==============================] - 0s 5ms/step - loss: 0.1199 - accuracy: 0.9714 - val_loss: 0.0730 - val_accuracy: 0.9778\n",
      "Epoch 204/250\n",
      "15/15 [==============================] - 0s 5ms/step - loss: 0.1267 - accuracy: 0.9619 - val_loss: 0.0679 - val_accuracy: 1.0000\n",
      "Epoch 205/250\n",
      "15/15 [==============================] - 0s 6ms/step - loss: 0.1167 - accuracy: 0.9810 - val_loss: 0.0790 - val_accuracy: 0.9778\n",
      "Epoch 206/250\n",
      "15/15 [==============================] - 0s 5ms/step - loss: 0.1260 - accuracy: 0.9429 - val_loss: 0.0667 - val_accuracy: 1.0000\n",
      "Epoch 207/250\n",
      "15/15 [==============================] - 0s 6ms/step - loss: 0.1141 - accuracy: 0.9619 - val_loss: 0.0726 - val_accuracy: 0.9778\n",
      "Epoch 208/250\n",
      "15/15 [==============================] - 0s 5ms/step - loss: 0.1117 - accuracy: 0.9619 - val_loss: 0.0681 - val_accuracy: 0.9778\n",
      "Epoch 209/250\n",
      "15/15 [==============================] - 0s 9ms/step - loss: 0.1112 - accuracy: 0.9714 - val_loss: 0.0683 - val_accuracy: 0.9778\n",
      "Epoch 210/250\n",
      "15/15 [==============================] - 0s 5ms/step - loss: 0.1141 - accuracy: 0.9619 - val_loss: 0.0676 - val_accuracy: 0.9778\n",
      "Epoch 211/250\n",
      "15/15 [==============================] - 0s 5ms/step - loss: 0.1118 - accuracy: 0.9714 - val_loss: 0.0697 - val_accuracy: 0.9778\n",
      "Epoch 212/250\n",
      "15/15 [==============================] - 0s 5ms/step - loss: 0.1143 - accuracy: 0.9714 - val_loss: 0.0654 - val_accuracy: 1.0000\n",
      "Epoch 213/250\n",
      "15/15 [==============================] - 0s 5ms/step - loss: 0.1111 - accuracy: 0.9619 - val_loss: 0.0704 - val_accuracy: 0.9778\n",
      "Epoch 214/250\n",
      "15/15 [==============================] - 0s 5ms/step - loss: 0.1150 - accuracy: 0.9714 - val_loss: 0.0651 - val_accuracy: 1.0000\n",
      "Epoch 215/250\n",
      "15/15 [==============================] - 0s 5ms/step - loss: 0.1084 - accuracy: 0.9619 - val_loss: 0.0691 - val_accuracy: 0.9778\n",
      "Epoch 216/250\n",
      "15/15 [==============================] - 0s 5ms/step - loss: 0.1111 - accuracy: 0.9619 - val_loss: 0.0678 - val_accuracy: 0.9778\n",
      "Epoch 217/250\n",
      "15/15 [==============================] - 0s 5ms/step - loss: 0.1076 - accuracy: 0.9714 - val_loss: 0.0674 - val_accuracy: 0.9778\n",
      "Epoch 218/250\n",
      "15/15 [==============================] - 0s 5ms/step - loss: 0.1126 - accuracy: 0.9619 - val_loss: 0.0676 - val_accuracy: 0.9778\n",
      "Epoch 219/250\n",
      "15/15 [==============================] - 0s 5ms/step - loss: 0.1088 - accuracy: 0.9714 - val_loss: 0.0619 - val_accuracy: 1.0000\n",
      "Epoch 220/250\n",
      "15/15 [==============================] - 0s 5ms/step - loss: 0.1092 - accuracy: 0.9619 - val_loss: 0.0662 - val_accuracy: 0.9778\n",
      "Epoch 221/250\n",
      "15/15 [==============================] - 0s 7ms/step - loss: 0.1075 - accuracy: 0.9714 - val_loss: 0.0659 - val_accuracy: 0.9778\n",
      "Epoch 222/250\n",
      "15/15 [==============================] - 0s 5ms/step - loss: 0.1082 - accuracy: 0.9714 - val_loss: 0.0639 - val_accuracy: 0.9778\n",
      "Epoch 223/250\n",
      "15/15 [==============================] - 0s 4ms/step - loss: 0.1066 - accuracy: 0.9714 - val_loss: 0.0637 - val_accuracy: 0.9778\n",
      "Epoch 224/250\n",
      "15/15 [==============================] - 0s 5ms/step - loss: 0.1082 - accuracy: 0.9714 - val_loss: 0.0645 - val_accuracy: 0.9778\n",
      "Epoch 225/250\n",
      "15/15 [==============================] - 0s 6ms/step - loss: 0.1059 - accuracy: 0.9714 - val_loss: 0.0630 - val_accuracy: 0.9778\n",
      "Epoch 226/250\n",
      "15/15 [==============================] - 0s 6ms/step - loss: 0.1061 - accuracy: 0.9714 - val_loss: 0.0612 - val_accuracy: 0.9778\n",
      "Epoch 227/250\n",
      "15/15 [==============================] - 0s 5ms/step - loss: 0.1066 - accuracy: 0.9714 - val_loss: 0.0633 - val_accuracy: 0.9778\n",
      "Epoch 228/250\n",
      "15/15 [==============================] - 0s 5ms/step - loss: 0.1040 - accuracy: 0.9714 - val_loss: 0.0645 - val_accuracy: 0.9778\n",
      "Epoch 229/250\n",
      "15/15 [==============================] - 0s 6ms/step - loss: 0.1084 - accuracy: 0.9714 - val_loss: 0.0596 - val_accuracy: 1.0000\n",
      "Epoch 230/250\n",
      "15/15 [==============================] - 0s 5ms/step - loss: 0.1101 - accuracy: 0.9714 - val_loss: 0.0674 - val_accuracy: 0.9778\n",
      "Epoch 231/250\n",
      "15/15 [==============================] - 0s 5ms/step - loss: 0.1035 - accuracy: 0.9714 - val_loss: 0.0601 - val_accuracy: 0.9778\n",
      "Epoch 232/250\n",
      "15/15 [==============================] - 0s 5ms/step - loss: 0.1027 - accuracy: 0.9714 - val_loss: 0.0615 - val_accuracy: 0.9778\n",
      "Epoch 233/250\n",
      "15/15 [==============================] - 0s 6ms/step - loss: 0.1050 - accuracy: 0.9714 - val_loss: 0.0637 - val_accuracy: 0.9778\n",
      "Epoch 234/250\n",
      "15/15 [==============================] - 0s 5ms/step - loss: 0.1029 - accuracy: 0.9714 - val_loss: 0.0589 - val_accuracy: 0.9778\n",
      "Epoch 235/250\n",
      "15/15 [==============================] - 0s 5ms/step - loss: 0.1057 - accuracy: 0.9714 - val_loss: 0.0626 - val_accuracy: 0.9778\n",
      "Epoch 236/250\n",
      "15/15 [==============================] - 0s 6ms/step - loss: 0.1010 - accuracy: 0.9714 - val_loss: 0.0604 - val_accuracy: 0.9778\n",
      "Epoch 237/250\n",
      "15/15 [==============================] - 0s 6ms/step - loss: 0.1025 - accuracy: 0.9714 - val_loss: 0.0591 - val_accuracy: 0.9778\n",
      "Epoch 238/250\n",
      "15/15 [==============================] - 0s 5ms/step - loss: 0.1068 - accuracy: 0.9714 - val_loss: 0.0592 - val_accuracy: 0.9778\n",
      "Epoch 239/250\n",
      "15/15 [==============================] - 0s 5ms/step - loss: 0.1020 - accuracy: 0.9714 - val_loss: 0.0606 - val_accuracy: 0.9778\n",
      "Epoch 240/250\n",
      "15/15 [==============================] - 0s 6ms/step - loss: 0.1004 - accuracy: 0.9714 - val_loss: 0.0610 - val_accuracy: 0.9778\n",
      "Epoch 241/250\n",
      "15/15 [==============================] - 0s 5ms/step - loss: 0.1066 - accuracy: 0.9619 - val_loss: 0.0615 - val_accuracy: 0.9778\n",
      "Epoch 242/250\n",
      "15/15 [==============================] - 0s 5ms/step - loss: 0.0989 - accuracy: 0.9714 - val_loss: 0.0557 - val_accuracy: 1.0000\n",
      "Epoch 243/250\n",
      "15/15 [==============================] - 0s 6ms/step - loss: 0.0996 - accuracy: 0.9714 - val_loss: 0.0570 - val_accuracy: 0.9778\n",
      "Epoch 244/250\n",
      "15/15 [==============================] - 0s 6ms/step - loss: 0.1046 - accuracy: 0.9714 - val_loss: 0.0651 - val_accuracy: 0.9778\n",
      "Epoch 245/250\n",
      "15/15 [==============================] - 0s 7ms/step - loss: 0.0999 - accuracy: 0.9810 - val_loss: 0.0542 - val_accuracy: 1.0000\n",
      "Epoch 246/250\n",
      "15/15 [==============================] - 0s 5ms/step - loss: 0.1045 - accuracy: 0.9619 - val_loss: 0.0599 - val_accuracy: 0.9778\n",
      "Epoch 247/250\n",
      "15/15 [==============================] - 0s 5ms/step - loss: 0.1094 - accuracy: 0.9619 - val_loss: 0.0595 - val_accuracy: 0.9778\n",
      "Epoch 248/250\n",
      "15/15 [==============================] - 0s 5ms/step - loss: 0.0989 - accuracy: 0.9714 - val_loss: 0.0551 - val_accuracy: 0.9778\n",
      "Epoch 249/250\n",
      "15/15 [==============================] - 0s 5ms/step - loss: 0.0990 - accuracy: 0.9714 - val_loss: 0.0608 - val_accuracy: 0.9778\n",
      "Epoch 250/250\n",
      "15/15 [==============================] - 0s 5ms/step - loss: 0.0974 - accuracy: 0.9714 - val_loss: 0.0549 - val_accuracy: 0.9778\n"
     ]
    }
   ],
   "source": [
    "History_iris = Model_iris.fit(X_train, y_train,\n",
    "                              epochs = 250,\n",
    "                              batch_size = 7,\n",
    "                              validation_data = (X_test, y_test))"
   ]
  },
  {
   "cell_type": "markdown",
   "metadata": {
    "id": "KWR3hsEE_ZGS"
   },
   "source": [
    "> ## 5) 학습 결과 시각화"
   ]
  },
  {
   "cell_type": "code",
   "execution_count": 24,
   "metadata": {
    "colab": {
     "base_uri": "https://localhost:8080/",
     "height": 522
    },
    "executionInfo": {
     "elapsed": 1193,
     "status": "ok",
     "timestamp": 1705299695493,
     "user": {
      "displayName": "맹광국",
      "userId": "00860531964279012518"
     },
     "user_tz": -540
    },
    "id": "OMpwabfNq2_v",
    "outputId": "a8488590-92af-4c1d-cf3e-6cbef9cdbc91",
    "tags": []
   },
   "outputs": [
    {
     "data": {
      "image/png": "[encoded data removed]",
      "text/plain": [
       "<Figure size 900x600 with 1 Axes>"
      ]
     },
     "metadata": {},
     "output_type": "display_data"
    }
   ],
   "source": [
    "import matplotlib.pyplot as plt\n",
    "\n",
    "plt.figure(figsize = (9, 6))\n",
    "plt.ylim(0, 1.1)\n",
    "plt.plot(History_iris.history['loss'])\n",
    "plt.plot(History_iris.history['val_loss'])\n",
    "plt.plot(History_iris.history['accuracy'])\n",
    "plt.plot(History_iris.history['val_accuracy'])\n",
    "plt.legend(['loss', 'val_loss', 'accuracy', 'val_accuracy'])\n",
    "plt.grid()\n",
    "plt.show()"
   ]
  },
  {
   "cell_type": "markdown",
   "metadata": {
    "id": "FNq1blJf_eIW"
   },
   "source": [
    "> ## 6) Model Evaluate"
   ]
  },
  {
   "cell_type": "markdown",
   "metadata": {
    "id": "Dok6iL5RKeTP"
   },
   "source": [
    "* Loss & Accuracy"
   ]
  },
  {
   "cell_type": "code",
   "execution_count": 29,
   "metadata": {
    "colab": {
     "base_uri": "https://localhost:8080/"
    },
    "executionInfo": {
     "elapsed": 321,
     "status": "ok",
     "timestamp": 1705300047767,
     "user": {
      "displayName": "맹광국",
      "userId": "00860531964279012518"
     },
     "user_tz": -540
    },
    "id": "fJ2HtnYYsPIE",
    "outputId": "291ad103-c57e-4f15-a0d8-fe57d4e10027",
    "tags": []
   },
   "outputs": [
    {
     "name": "stdout",
     "output_type": "stream",
     "text": [
      "2/2 [==============================] - 0s 9ms/step - loss: 0.0549 - accuracy: 0.9778\n",
      "Loss = 0.05487\n",
      "Accuracy = 0.97778\n"
     ]
    }
   ],
   "source": [
    "loss, accuracy = Model_iris.evaluate(X_test, y_test)\n",
    "\n",
    "print('Loss = {:.5f}'.format(loss))\n",
    "print('Accuracy = {:.5f}'.format(accuracy))"
   ]
  },
  {
   "cell_type": "markdown",
   "metadata": {
    "id": "jFjd3_I7_mqn"
   },
   "source": [
    "> ## 7) Model Predict"
   ]
  },
  {
   "cell_type": "markdown",
   "metadata": {
    "id": "CGP07vr3_rAK"
   },
   "source": [
    "* Probability"
   ]
  },
  {
   "cell_type": "code",
   "execution_count": 30,
   "metadata": {
    "colab": {
     "base_uri": "https://localhost:8080/"
    },
    "executionInfo": {
     "elapsed": 450,
     "status": "ok",
     "timestamp": 1705300050764,
     "user": {
      "displayName": "맹광국",
      "userId": "00860531964279012518"
     },
     "user_tz": -540
    },
    "id": "St1qcFxQuKqB",
    "outputId": "4628acc8-2065-4d2d-fdbb-53f045ae5e31",
    "tags": []
   },
   "outputs": [
    {
     "name": "stdout",
     "output_type": "stream",
     "text": [
      "2/2 [==============================] - 0s 7ms/step\n"
     ]
    },
    {
     "data": {
      "text/plain": [
       "array([[0.99975, 0.00025, 0.     ],\n",
       "       [0.99774, 0.00226, 0.     ],\n",
       "       [0.00457, 0.99493, 0.0005 ],\n",
       "       [0.02802, 0.06656, 0.90542],\n",
       "       [0.99996, 0.00004, 0.     ],\n",
       "       [0.00012, 0.99978, 0.0001 ],\n",
       "       [0.02802, 0.06656, 0.90542],\n",
       "       [0.99999, 0.00001, 0.     ],\n",
       "       [0.02802, 0.06656, 0.90542],\n",
       "       [0.99958, 0.00042, 0.     ],\n",
       "       [0.01567, 0.75331, 0.23103],\n",
       "       [0.02802, 0.06656, 0.90542],\n",
       "       [0.00074, 0.99578, 0.00348],\n",
       "       [1.     , 0.     , 0.     ],\n",
       "       [0.99996, 0.00004, 0.     ],\n",
       "       [0.00114, 0.99287, 0.00599],\n",
       "       [0.00249, 0.97931, 0.0182 ],\n",
       "       [0.99983, 0.00017, 0.     ],\n",
       "       [0.00008, 0.99977, 0.00016],\n",
       "       [0.99997, 0.00003, 0.     ],\n",
       "       [0.99966, 0.00034, 0.     ],\n",
       "       [0.9997 , 0.0003 , 0.     ],\n",
       "       [0.02802, 0.06656, 0.90542],\n",
       "       [0.99985, 0.00015, 0.     ],\n",
       "       [0.02565, 0.12152, 0.85284],\n",
       "       [0.02802, 0.06656, 0.90542],\n",
       "       [0.99995, 0.00005, 0.     ],\n",
       "       [0.00027, 0.99879, 0.00094],\n",
       "       [0.0004 , 0.99801, 0.00159],\n",
       "       [0.02764, 0.07459, 0.89777],\n",
       "       [0.99998, 0.00002, 0.     ],\n",
       "       [0.00019, 0.99924, 0.00057],\n",
       "       [0.99997, 0.00003, 0.     ],\n",
       "       [0.02224, 0.50273, 0.47503],\n",
       "       [0.00088, 0.99481, 0.00431],\n",
       "       [0.00005, 0.99991, 0.00004],\n",
       "       [0.02802, 0.06656, 0.90542],\n",
       "       [0.00011, 0.99969, 0.0002 ],\n",
       "       [0.99985, 0.00015, 0.     ],\n",
       "       [0.00044, 0.99791, 0.00165],\n",
       "       [0.02802, 0.06656, 0.90542],\n",
       "       [0.99966, 0.00034, 0.     ],\n",
       "       [0.02802, 0.06656, 0.90542],\n",
       "       [0.02802, 0.06656, 0.90542],\n",
       "       [0.02684, 0.09242, 0.88074]], dtype=float32)"
      ]
     },
     "execution_count": 30,
     "metadata": {},
     "output_type": "execute_result"
    }
   ],
   "source": [
    "import numpy as np\n",
    "np.set_printoptions(suppress = True, precision = 5)\n",
    "\n",
    "Model_iris.predict(X_test)"
   ]
  },
  {
   "cell_type": "markdown",
   "metadata": {
    "id": "JbO8z-fFbrAT"
   },
   "source": [
    "* Probability to Class"
   ]
  },
  {
   "cell_type": "code",
   "execution_count": 31,
   "metadata": {
    "colab": {
     "base_uri": "https://localhost:8080/"
    },
    "executionInfo": {
     "elapsed": 304,
     "status": "ok",
     "timestamp": 1705300052854,
     "user": {
      "displayName": "맹광국",
      "userId": "00860531964279012518"
     },
     "user_tz": -540
    },
    "id": "X9X3NSI1bc9z",
    "outputId": "3a6607e8-881d-4be7-83e9-132053fc5a05",
    "tags": []
   },
   "outputs": [
    {
     "name": "stdout",
     "output_type": "stream",
     "text": [
      "2/2 [==============================] - 0s 6ms/step\n"
     ]
    },
    {
     "data": {
      "text/plain": [
       "array([0, 0, 1, 2, 0, 1, 2, 0, 2, 0, 1, 2, 1, 0, 0, 1, 1, 0, 1, 0, 0, 0,\n",
       "       2, 0, 2, 2, 0, 1, 1, 2, 0, 1, 0, 1, 1, 1, 2, 1, 0, 1, 2, 0, 2, 2,\n",
       "       2])"
      ]
     },
     "execution_count": 31,
     "metadata": {},
     "output_type": "execute_result"
    }
   ],
   "source": [
    "y_hat = np.argmax(Model_iris.predict(X_test), axis = 1)\n",
    "\n",
    "y_hat"
   ]
  },
  {
   "cell_type": "markdown",
   "metadata": {
    "id": "spr7DJmE_62e"
   },
   "source": [
    "* One-Hot Encoding to Array\n",
    " * np.argmax( ) : 다차원 배열의 차원에 따라 가장 큰 값의 인덱스를 반환\n",
    " * axis = 1 : 열기준"
   ]
  },
  {
   "cell_type": "code",
   "execution_count": 32,
   "metadata": {
    "colab": {
     "base_uri": "https://localhost:8080/"
    },
    "executionInfo": {
     "elapsed": 296,
     "status": "ok",
     "timestamp": 1705300069113,
     "user": {
      "displayName": "맹광국",
      "userId": "00860531964279012518"
     },
     "user_tz": -540
    },
    "id": "8xv4SLZm0nzn",
    "outputId": "84bb4f76-4eae-4b39-c827-630cefbb2716",
    "tags": []
   },
   "outputs": [
    {
     "data": {
      "text/plain": [
       "array([0, 0, 1, 2, 0, 1, 2, 0, 2, 0, 1, 2, 1, 0, 0, 1, 1, 0, 1, 0, 0, 0,\n",
       "       2, 0, 2, 2, 0, 1, 1, 2, 0, 1, 0, 2, 1, 1, 2, 1, 0, 1, 2, 0, 2, 2,\n",
       "       2])"
      ]
     },
     "execution_count": 32,
     "metadata": {},
     "output_type": "execute_result"
    }
   ],
   "source": [
    "y = np.argmax(y_test, axis = 1)\n",
    "\n",
    "y"
   ]
  },
  {
   "cell_type": "markdown",
   "metadata": {
    "id": "y-hzFPiDAEyo"
   },
   "source": [
    "* Confusion Matrix & Claasification Report"
   ]
  },
  {
   "cell_type": "code",
   "execution_count": 33,
   "metadata": {
    "colab": {
     "base_uri": "https://localhost:8080/"
    },
    "executionInfo": {
     "elapsed": 296,
     "status": "ok",
     "timestamp": 1705300122777,
     "user": {
      "displayName": "맹광국",
      "userId": "00860531964279012518"
     },
     "user_tz": -540
    },
    "id": "ECnlNwrRzZve",
    "outputId": "a4f998f1-7ecd-4f2f-ce3d-5b6b7ba12577",
    "tags": []
   },
   "outputs": [
    {
     "data": {
      "text/plain": [
       "array([[17,  0,  0],\n",
       "       [ 0, 14,  0],\n",
       "       [ 0,  1, 13]])"
      ]
     },
     "execution_count": 33,
     "metadata": {},
     "output_type": "execute_result"
    }
   ],
   "source": [
    "from sklearn.metrics import confusion_matrix, classification_report\n",
    "\n",
    "confusion_matrix(y, y_hat)"
   ]
  },
  {
   "cell_type": "code",
   "execution_count": 34,
   "metadata": {
    "colab": {
     "base_uri": "https://localhost:8080/"
    },
    "executionInfo": {
     "elapsed": 331,
     "status": "ok",
     "timestamp": 1705300129415,
     "user": {
      "displayName": "맹광국",
      "userId": "00860531964279012518"
     },
     "user_tz": -540
    },
    "id": "6xW7Tw8Luk8O",
    "outputId": "194cb5b3-6852-4e88-d58a-eda31650a77b",
    "tags": []
   },
   "outputs": [
    {
     "name": "stdout",
     "output_type": "stream",
     "text": [
      "              precision    recall  f1-score   support\n",
      "\n",
      "      setosa       1.00      1.00      1.00        17\n",
      "  versicolor       0.93      1.00      0.97        14\n",
      "   virginica       1.00      0.93      0.96        14\n",
      "\n",
      "    accuracy                           0.98        45\n",
      "   macro avg       0.98      0.98      0.98        45\n",
      "weighted avg       0.98      0.98      0.98        45\n",
      "\n"
     ]
    }
   ],
   "source": [
    "print(classification_report(y, y_hat,\n",
    "                            target_names = ['setosa',\n",
    "                                            'versicolor',\n",
    "                                            'virginica']))"
   ]
  },
  {
   "cell_type": "markdown",
   "metadata": {
    "id": "N6YjXuM2AeEA"
   },
   "source": [
    "# III. Model Save & Load"
   ]
  },
  {
   "cell_type": "markdown",
   "metadata": {
    "id": "QJHanSlYBMaD"
   },
   "source": [
    "> ## 1) File System"
   ]
  },
  {
   "cell_type": "markdown",
   "metadata": {
    "id": "9fukCVfZBreP"
   },
   "source": [
    "* Save to Colab File System"
   ]
  },
  {
   "cell_type": "code",
   "execution_count": 35,
   "metadata": {
    "colab": {
     "base_uri": "https://localhost:8080/"
    },
    "executionInfo": {
     "elapsed": 309,
     "status": "ok",
     "timestamp": 1705300164520,
     "user": {
      "displayName": "맹광국",
      "userId": "00860531964279012518"
     },
     "user_tz": -540
    },
    "id": "90EpGKTo1B_2",
    "outputId": "eabd3caa-c5b2-4583-d79c-e04a290aa2d2"
   },
   "outputs": [
    {
     "name": "stdout",
     "output_type": "stream",
     "text": [
      "total 32\n",
      "-rw-r--r-- 1 root root 27143 Jan 15 06:12 model.png\n",
      "drwxr-xr-x 1 root root  4096 Jan 11 17:02 sample_data\n"
     ]
    }
   ],
   "source": [
    "!ls -l"
   ]
  },
  {
   "cell_type": "code",
   "execution_count": 36,
   "metadata": {
    "executionInfo": {
     "elapsed": 357,
     "status": "ok",
     "timestamp": 1705300198774,
     "user": {
      "displayName": "맹광국",
      "userId": "00860531964279012518"
     },
     "user_tz": -540
    },
    "id": "FXz2D-PxAn0p",
    "tags": []
   },
   "outputs": [],
   "source": [
    "Model_iris.save('Model_iris.h5')"
   ]
  },
  {
   "cell_type": "markdown",
   "metadata": {
    "id": "mnABg40YB0Ex"
   },
   "source": [
    "* Download Colab File System to Local File System"
   ]
  },
  {
   "cell_type": "code",
   "execution_count": null,
   "metadata": {
    "colab": {
     "base_uri": "https://localhost:8080/",
     "height": 17
    },
    "executionInfo": {
     "elapsed": 297,
     "status": "ok",
     "timestamp": 1705289131067,
     "user": {
      "displayName": "맹광국",
      "userId": "00860531964279012518"
     },
     "user_tz": -540
    },
    "id": "UROGkgi7B3J6",
    "outputId": "bd105849-cc75-414c-a7bc-0f26cf15898f"
   },
   "outputs": [
    {
     "data": {
      "application/javascript": [
       "\n",
       "    async function download(id, filename, size) {\n",
       "      if (!google.colab.kernel.accessAllowed) {\n",
       "        return;\n",
       "      }\n",
       "      const div = document.createElement('div');\n",
       "      const label = document.createElement('label');\n",
       "      label.textContent = `Downloading \"${filename}\": `;\n",
       "      div.appendChild(label);\n",
       "      const progress = document.createElement('progress');\n",
       "      progress.max = size;\n",
       "      div.appendChild(progress);\n",
       "      document.body.appendChild(div);\n",
       "\n",
       "      const buffers = [];\n",
       "      let downloaded = 0;\n",
       "\n",
       "      const channel = await google.colab.kernel.comms.open(id);\n",
       "      // Send a message to notify the kernel that we're ready.\n",
       "      channel.send({})\n",
       "\n",
       "      for await (const message of channel.messages) {\n",
       "        // Send a message to notify the kernel that we're ready.\n",
       "        channel.send({})\n",
       "        if (message.buffers) {\n",
       "          for (const buffer of message.buffers) {\n",
       "            buffers.push(buffer);\n",
       "            downloaded += buffer.byteLength;\n",
       "            progress.value = downloaded;\n",
       "          }\n",
       "        }\n",
       "      }\n",
       "      const blob = new Blob(buffers, {type: 'application/binary'});\n",
       "      const a = document.createElement('a');\n",
       "      a.href = window.URL.createObjectURL(blob);\n",
       "      a.download = filename;\n",
       "      div.appendChild(a);\n",
       "      a.click();\n",
       "      div.remove();\n",
       "    }\n",
       "  "
      ],
      "text/plain": [
       "<IPython.core.display.Javascript object>"
      ]
     },
     "metadata": {},
     "output_type": "display_data"
    },
    {
     "data": {
      "application/javascript": [
       "download(\"download_054751ec-e630-4d81-a837-f84b49daa782\", \"Model_iris.h5\", 34240)"
      ],
      "text/plain": [
       "<IPython.core.display.Javascript object>"
      ]
     },
     "metadata": {},
     "output_type": "display_data"
    }
   ],
   "source": [
    "# from google.colab import files\n",
    "\n",
    "# files.download('Model_iris.h5')"
   ]
  },
  {
   "cell_type": "markdown",
   "metadata": {
    "id": "50eGEKhzDbVg"
   },
   "source": [
    "* Load from Colab File System"
   ]
  },
  {
   "cell_type": "code",
   "execution_count": 37,
   "metadata": {
    "executionInfo": {
     "elapsed": 341,
     "status": "ok",
     "timestamp": 1705300343573,
     "user": {
      "displayName": "맹광국",
      "userId": "00860531964279012518"
     },
     "user_tz": -540
    },
    "id": "SlNcgVb9BZQz",
    "tags": []
   },
   "outputs": [],
   "source": [
    "from tensorflow.keras.models import load_model\n",
    "\n",
    "Model_local = load_model('Model_iris.h5')"
   ]
  },
  {
   "cell_type": "code",
   "execution_count": 38,
   "metadata": {
    "colab": {
     "base_uri": "https://localhost:8080/"
    },
    "executionInfo": {
     "elapsed": 807,
     "status": "ok",
     "timestamp": 1705300361356,
     "user": {
      "displayName": "맹광국",
      "userId": "00860531964279012518"
     },
     "user_tz": -540
    },
    "id": "OoOS6Eet1-jY",
    "outputId": "ec63340e-4af2-4309-e738-41af4ecdb451",
    "tags": []
   },
   "outputs": [
    {
     "name": "stdout",
     "output_type": "stream",
     "text": [
      "2/2 [==============================] - 0s 11ms/step\n"
     ]
    },
    {
     "data": {
      "text/plain": [
       "array([0, 0, 1, 2, 0, 1, 2, 0, 2, 0, 1, 2, 1, 0, 0, 1, 1, 0, 1, 0, 0, 0,\n",
       "       2, 0, 2, 2, 0, 1, 1, 2, 0, 1, 0, 1, 1, 1, 2, 1, 0, 1, 2, 0, 2, 2,\n",
       "       2])"
      ]
     },
     "execution_count": 38,
     "metadata": {},
     "output_type": "execute_result"
    }
   ],
   "source": [
    "np.argmax(Model_local.predict(X_test), axis = 1)"
   ]
  },
  {
   "cell_type": "markdown",
   "metadata": {
    "id": "q24HQDn3Bbmv"
   },
   "source": [
    "> ## 2) Google Drive"
   ]
  },
  {
   "cell_type": "markdown",
   "metadata": {
    "id": "-DoXDaDQD_nR"
   },
   "source": [
    "* Mount Google Drive"
   ]
  },
  {
   "cell_type": "code",
   "execution_count": 39,
   "metadata": {
    "colab": {
     "base_uri": "https://localhost:8080/"
    },
    "executionInfo": {
     "elapsed": 20750,
     "status": "ok",
     "timestamp": 1705300436576,
     "user": {
      "displayName": "맹광국",
      "userId": "00860531964279012518"
     },
     "user_tz": -540
    },
    "id": "XUcAHm-oEThi",
    "outputId": "3a89447b-eef3-4101-d3ad-0776278d9cb9"
   },
   "outputs": [
    {
     "name": "stdout",
     "output_type": "stream",
     "text": [
      "Mounted at /content/drive\n"
     ]
    }
   ],
   "source": [
    "from google.colab import drive\n",
    "\n",
    "drive.mount('/content/drive')"
   ]
  },
  {
   "cell_type": "markdown",
   "metadata": {
    "id": "R3yaKi3GEftH"
   },
   "source": [
    "* Check Mounted_Drive"
   ]
  },
  {
   "cell_type": "code",
   "execution_count": 40,
   "metadata": {
    "colab": {
     "base_uri": "https://localhost:8080/"
    },
    "executionInfo": {
     "elapsed": 326,
     "status": "ok",
     "timestamp": 1705300441348,
     "user": {
      "displayName": "맹광국",
      "userId": "00860531964279012518"
     },
     "user_tz": -540
    },
    "id": "Y96H0gSfEl0-",
    "outputId": "93b1d6f4-d351-4951-c471-4840363d83d0"
   },
   "outputs": [
    {
     "name": "stdout",
     "output_type": "stream",
     "text": [
      "total 16\n",
      "drwx------ 2 root root 4096 Aug 30 11:26 Lecture\n",
      "drwx------ 2 root root 4096 Aug 30 11:42 Privacy\n",
      "drwx------ 2 root root 4096 Aug 30 11:49 Share\n",
      "drwx------ 2 root root 4096 Aug 30 11:40 Study\n"
     ]
    }
   ],
   "source": [
    "!ls -l '/content/drive/MyDrive'"
   ]
  },
  {
   "cell_type": "markdown",
   "metadata": {
    "id": "izCHadxzFuj-"
   },
   "source": [
    "* Save to Mounted Google Drive Directory"
   ]
  },
  {
   "cell_type": "code",
   "execution_count": 41,
   "metadata": {
    "executionInfo": {
     "elapsed": 301,
     "status": "ok",
     "timestamp": 1705300469498,
     "user": {
      "displayName": "맹광국",
      "userId": "00860531964279012518"
     },
     "user_tz": -540
    },
    "id": "VYxWBnRXF1sm"
   },
   "outputs": [],
   "source": [
    "Model_iris.save('/content/drive/MyDrive/Model_iris.h5')"
   ]
  },
  {
   "cell_type": "code",
   "execution_count": null,
   "metadata": {
    "colab": {
     "base_uri": "https://localhost:8080/"
    },
    "executionInfo": {
     "elapsed": 306,
     "status": "ok",
     "timestamp": 1705289266915,
     "user": {
      "displayName": "맹광국",
      "userId": "00860531964279012518"
     },
     "user_tz": -540
    },
    "id": "62Ks4RIcGM5e",
    "outputId": "074a1ea2-1327-4075-a96b-9666eebf7291"
   },
   "outputs": [
    {
     "name": "stdout",
     "output_type": "stream",
     "text": [
      "total 50\n",
      "drwx------ 6 root root  4096 Aug 30 11:26 Lecture\n",
      "-rw------- 1 root root 34240 Jan 15 03:27 Model_iris.h5\n",
      "drwx------ 2 root root  4096 Aug 30 11:42 Privacy\n",
      "drwx------ 2 root root  4096 Aug 30 11:49 Share\n",
      "drwx------ 2 root root  4096 Aug 30 11:40 Study\n"
     ]
    }
   ],
   "source": [
    "!ls -l '/content/drive/MyDrive'"
   ]
  },
  {
   "cell_type": "markdown",
   "metadata": {
    "id": "9qHYg5fPGnaB"
   },
   "source": [
    "* Load from Mounted Google Drive Directory"
   ]
  },
  {
   "cell_type": "code",
   "execution_count": 42,
   "metadata": {
    "executionInfo": {
     "elapsed": 417,
     "status": "ok",
     "timestamp": 1705300480862,
     "user": {
      "displayName": "맹광국",
      "userId": "00860531964279012518"
     },
     "user_tz": -540
    },
    "id": "-c2nlwDbGcVZ"
   },
   "outputs": [],
   "source": [
    "from tensorflow.keras.models import load_model\n",
    "\n",
    "Model_google = load_model('/content/drive/MyDrive/Model_iris.h5')"
   ]
  },
  {
   "cell_type": "code",
   "execution_count": 43,
   "metadata": {
    "colab": {
     "base_uri": "https://localhost:8080/"
    },
    "executionInfo": {
     "elapsed": 290,
     "status": "ok",
     "timestamp": 1705300481551,
     "user": {
      "displayName": "맹광국",
      "userId": "00860531964279012518"
     },
     "user_tz": -540
    },
    "id": "nsYObO3z4m3_",
    "outputId": "402864d3-1c16-4c21-9daa-54a2a3bba774"
   },
   "outputs": [
    {
     "name": "stdout",
     "output_type": "stream",
     "text": [
      "2/2 [==============================] - 0s 6ms/step\n"
     ]
    },
    {
     "data": {
      "text/plain": [
       "array([0, 0, 1, 2, 0, 1, 2, 0, 2, 0, 1, 2, 1, 0, 0, 1, 1, 0, 1, 0, 0, 0,\n",
       "       2, 0, 2, 2, 0, 1, 1, 2, 0, 1, 0, 1, 1, 1, 2, 1, 0, 1, 2, 0, 2, 2,\n",
       "       2])"
      ]
     },
     "execution_count": 43,
     "metadata": {},
     "output_type": "execute_result"
    }
   ],
   "source": [
    "np.argmax(Model_google.predict(X_test), axis = 1)"
   ]
  },
  {
   "cell_type": "markdown",
   "metadata": {
    "id": "prgTZL2h1A2Z"
   },
   "source": [
    "# The End"
   ]
  }
 ],
 "metadata": {
  "colab": {
   "provenance": []
  },
  "kernelspec": {
   "display_name": "Python 3 (ipykernel)",
   "language": "python",
   "name": "python3"
  },
  "language_info": {
   "codemirror_mode": {
    "name": "ipython",
    "version": 3
   },
   "file_extension": ".py",
   "mimetype": "text/x-python",
   "name": "python",
   "nbconvert_exporter": "python",
   "pygments_lexer": "ipython3",
   "version": "3.11.5"
  },
  "toc": {
   "base_numbering": 1,
   "nav_menu": {},
   "number_sections": true,
   "sideBar": true,
   "skip_h1_title": false,
   "title_cell": "Table of Contents",
   "title_sidebar": "Contents",
   "toc_cell": false,
   "toc_position": {},
   "toc_section_display": true,
   "toc_window_display": false
  }
 },
 "nbformat": 4,
 "nbformat_minor": 1
}
