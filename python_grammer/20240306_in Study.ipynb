{
 "cells": [
  {
   "cell_type": "markdown",
   "id": "ac87acd5",
   "metadata": {},
   "source": [
    "# 구구단"
   ]
  },
  {
   "cell_type": "code",
   "execution_count": 14,
   "id": "d6130336",
   "metadata": {},
   "outputs": [
    {
     "name": "stdout",
     "output_type": "stream",
     "text": [
      "2 단\n",
      "==========================\n",
      "2 4 6 8 10 12 14 16 18 \n",
      "==========================\n",
      "3 단\n",
      "==========================\n",
      "3 6 9 12 15 18 21 24 27 \n",
      "==========================\n",
      "4 단\n",
      "==========================\n",
      "4 8 12 16 20 24 28 32 36 \n",
      "==========================\n",
      "5 단\n",
      "==========================\n",
      "5 10 15 20 25 30 35 40 45 \n",
      "==========================\n",
      "6 단\n",
      "==========================\n",
      "6 12 18 24 30 36 42 48 54 \n",
      "==========================\n",
      "7 단\n",
      "==========================\n",
      "7 14 21 28 35 42 49 56 63 \n",
      "==========================\n",
      "8 단\n",
      "==========================\n",
      "8 16 24 32 40 48 56 64 72 \n",
      "==========================\n",
      "9 단\n",
      "==========================\n",
      "9 18 27 36 45 54 63 72 81 \n",
      "==========================\n"
     ]
    }
   ],
   "source": [
    "for i in range (2,10):\n",
    "    print(i,\"단\\n==========================\")\n",
    "    for j in range(1,10):\n",
    "        print (i*j, end = \" \")\n",
    "    print('\\n==========================')"
   ]
  },
  {
   "cell_type": "code",
   "execution_count": null,
   "id": "c0646fa2",
   "metadata": {},
   "outputs": [],
   "source": []
  },
  {
   "cell_type": "code",
   "execution_count": 15,
   "id": "0f376f9d",
   "metadata": {},
   "outputs": [
    {
     "name": "stdout",
     "output_type": "stream",
     "text": [
      "List Comprehension Time: 0.03511810302734375\n",
      "For loop Time: 0.08101272583007812\n"
     ]
    }
   ],
   "source": [
    "import time\n",
    "\n",
    "start = time.time() \n",
    "numbers = [i for i in range(1000000)] \n",
    "end = time.time() \n",
    "print('List Comprehension Time:', end-start)\n",
    "\n",
    "start = time.time() \n",
    "numbers = []\n",
    "for i in range(1000000):\n",
    "    numbers.append(i)\n",
    "end = time.time() \n",
    "print('For loop Time:', end-start)"
   ]
  },
  {
   "cell_type": "code",
   "execution_count": null,
   "id": "ca09ae22",
   "metadata": {},
   "outputs": [],
   "source": []
  }
 ],
 "metadata": {
  "kernelspec": {
   "display_name": "Python 3 (ipykernel)",
   "language": "python",
   "name": "python3"
  },
  "language_info": {
   "codemirror_mode": {
    "name": "ipython",
    "version": 3
   },
   "file_extension": ".py",
   "mimetype": "text/x-python",
   "name": "python",
   "nbconvert_exporter": "python",
   "pygments_lexer": "ipython3",
   "version": "3.11.5"
  }
 },
 "nbformat": 4,
 "nbformat_minor": 5
}
