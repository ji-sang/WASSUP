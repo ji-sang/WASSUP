{
 "cells": [
  {
   "cell_type": "markdown",
   "metadata": {},
   "source": [
    "# 전화번호 프로그램 만들기\n",
    "\n",
    "* 홍길동 010-123-4567\n",
    "* 기능1 : 연락처 추가\n",
    "* 기능2 : 연락처 전체 보기\n",
    "* 기능3 : 검색, 이름을 입력받아서 전화번호 조회\n",
    "* 기능4 : 수정, 이름을 입력받아서 전화번호 입력수정\n",
    "* 기능5 : 삭제, 이름 입력받아서 삭제\n",
    "* 기능6 : 프로그램 종료"
   ]
  },
  {
   "cell_type": "code",
   "execution_count": 5,
   "metadata": {},
   "outputs": [
    {
     "name": "stdout",
     "output_type": "stream",
     "text": [
      "========================\n",
      "기능1. 연락처 추가\n",
      "기능2. 연락처 전체 보기\n",
      "기능3. 검색\n",
      "기능4. 수정\n",
      "기능5. 삭제\n",
      "기능6. 프로그램 종료\n",
      "========================\n",
      "기능 선택: 6\n",
      "끌게 ! 다시 오슈 ~\n"
     ]
    }
   ],
   "source": [
    "user = {}\n",
    "\n",
    "while True:\n",
    "    print(\"========================\")\n",
    "    print(\"기능1. 연락처 추가\")\n",
    "    print(\"기능2. 연락처 전체 보기\")\n",
    "    print(\"기능3. 검색\")\n",
    "    print(\"기능4. 수정\")\n",
    "    print(\"기능5. 삭제\")\n",
    "    print(\"기능6. 프로그램 종료\")\n",
    "    print(\"========================\")\n",
    "\n",
    "    menu = input(\"기능 선택: \")\n",
    "    \n",
    "    if menu == '1':\n",
    "        name = input(\"이름: \")\n",
    "        phone = input(\"연락처: \")\n",
    "        user[name] = phone\n",
    "        print(f\"{name}의 연락처가 추가되었습니다.\")\n",
    "\n",
    "    elif menu == '2':\n",
    "        if user:\n",
    "            print(\"연락처 전체를 보여줄게\")\n",
    "            for name, phone in user.items():\n",
    "                print(f\"{name} / {phone}\")\n",
    "        else:\n",
    "            print(\"연락처에 아무도 없어 !\")\n",
    "\n",
    "    elif menu == '3':\n",
    "        name = input(\"누구 검색하실 ? :\")\n",
    "        if name in user:\n",
    "            print(f\"{name}의 연락처 : {user[name]}\")\n",
    "        else:\n",
    "            print(\"지금 입력한 사람은 등록되어 있지 않아 !\")\n",
    "\n",
    "    elif menu == '4':\n",
    "        name = input(\"누구 연락처를 수정할래 ? :\")\n",
    "        if name in user:\n",
    "            phone = input(\"새로운 연락처를 써줘 ! :\")\n",
    "            user[name] = phone\n",
    "            print(f\"{name}의 연락처가 수정됐어 !\")\n",
    "        else:\n",
    "            print(\"지금 입력한 사람은 등록되어 있지 않아 !\")\n",
    "\n",
    "    elif menu == '5':\n",
    "        name = input(\"누구 연락처를 삭제할래 ? :\")\n",
    "        if name in user:\n",
    "            del user[name]\n",
    "            print(f\"{name}의 연락처 삭제됐어 !\")\n",
    "        else:\n",
    "            print(\"지금 입력한 사람은 등록되어 있지 않아 !\")\n",
    "\n",
    "    elif menu == '6':\n",
    "        print(\"끌게 ! 다시 오슈 ~\")\n",
    "        break\n",
    "\n",
    "    else:\n",
    "        print(\"다시\")    "
   ]
  },
  {
   "cell_type": "code",
   "execution_count": null,
   "metadata": {},
   "outputs": [],
   "source": []
  }
 ],
 "metadata": {
  "kernelspec": {
   "display_name": "Python 3 (ipykernel)",
   "language": "python",
   "name": "python3"
  },
  "language_info": {
   "codemirror_mode": {
    "name": "ipython",
    "version": 3
   },
   "file_extension": ".py",
   "mimetype": "text/x-python",
   "name": "python",
   "nbconvert_exporter": "python",
   "pygments_lexer": "ipython3",
   "version": "3.11.5"
  },
  "toc": {
   "base_numbering": 1,
   "nav_menu": {},
   "number_sections": true,
   "sideBar": true,
   "skip_h1_title": false,
   "title_cell": "Table of Contents",
   "title_sidebar": "Contents",
   "toc_cell": false,
   "toc_position": {},
   "toc_section_display": true,
   "toc_window_display": false
  },
  "varInspector": {
   "cols": {
    "lenName": 16,
    "lenType": 16,
    "lenVar": 40
   },
   "kernels_config": {
    "python": {
     "delete_cmd_postfix": "",
     "delete_cmd_prefix": "del ",
     "library": "var_list.py",
     "varRefreshCmd": "print(var_dic_list())"
    },
    "r": {
     "delete_cmd_postfix": ") ",
     "delete_cmd_prefix": "rm(",
     "library": "var_list.r",
     "varRefreshCmd": "cat(var_dic_list()) "
    }
   },
   "types_to_exclude": [
    "module",
    "function",
    "builtin_function_or_method",
    "instance",
    "_Feature"
   ],
   "window_display": false
  }
 },
 "nbformat": 4,
 "nbformat_minor": 2
}
