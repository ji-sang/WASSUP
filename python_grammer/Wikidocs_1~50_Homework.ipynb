{
 "cells": [
  {
   "cell_type": "code",
   "execution_count": 7,
   "id": "a15549f9",
   "metadata": {},
   "outputs": [
    {
     "name": "stdout",
     "output_type": "stream",
     "text": [
      "Hello World\n"
     ]
    }
   ],
   "source": [
    "print('Hello World') #1"
   ]
  },
  {
   "cell_type": "code",
   "execution_count": 8,
   "id": "1633bfee",
   "metadata": {},
   "outputs": [
    {
     "name": "stdout",
     "output_type": "stream",
     "text": [
      "Mary's cosmetics\n"
     ]
    }
   ],
   "source": [
    "print(\"Mary's cosmetics\") #2"
   ]
  },
  {
   "cell_type": "code",
   "execution_count": 9,
   "id": "f994d014",
   "metadata": {},
   "outputs": [
    {
     "name": "stdout",
     "output_type": "stream",
     "text": [
      "신씨가 소리질렀다. \"도둑이야\"\n"
     ]
    }
   ],
   "source": [
    "print('신씨가 소리질렀다. \"도둑이야\"') #3"
   ]
  },
  {
   "cell_type": "code",
   "execution_count": 10,
   "id": "3a4e210c",
   "metadata": {},
   "outputs": [
    {
     "name": "stdout",
     "output_type": "stream",
     "text": [
      "C:\\Windows\n"
     ]
    }
   ],
   "source": [
    "print(\"C:\\Windows\") #4"
   ]
  },
  {
   "cell_type": "code",
   "execution_count": 11,
   "id": "d672cce2",
   "metadata": {},
   "outputs": [],
   "source": [
    "# \\t는 탭, \\n은 엔터(줄바꿈)  #5"
   ]
  },
  {
   "cell_type": "code",
   "execution_count": 12,
   "id": "2b979e5f",
   "metadata": {},
   "outputs": [],
   "source": [
    "# 오늘은 일요일 #6"
   ]
  },
  {
   "cell_type": "code",
   "execution_count": 14,
   "id": "4d2fbc2d",
   "metadata": {},
   "outputs": [
    {
     "name": "stdout",
     "output_type": "stream",
     "text": [
      "naver;kakao;sk;samsung\n",
      "naver;kakao;sk;samsung\n"
     ]
    }
   ],
   "source": [
    "print('naver;kakao;sk;samsung') #7\n",
    "print(\"naver\",\"kakao\",\"sk\",\"samsung\", sep=\";\") #7-1"
   ]
  },
  {
   "cell_type": "code",
   "execution_count": 15,
   "id": "94890a9b",
   "metadata": {},
   "outputs": [
    {
     "name": "stdout",
     "output_type": "stream",
     "text": [
      "naver/kakao/sk/samsung\n"
     ]
    }
   ],
   "source": [
    "print(\"naver\",\"kakao\",\"sk\",\"samsung\", sep=\"/\") #8"
   ]
  },
  {
   "cell_type": "code",
   "execution_count": 18,
   "id": "c001b817",
   "metadata": {},
   "outputs": [
    {
     "name": "stdout",
     "output_type": "stream",
     "text": [
      "first second\n"
     ]
    }
   ],
   "source": [
    "print(\"first\", end=\" \");print(\"second\") #9"
   ]
  },
  {
   "cell_type": "code",
   "execution_count": 19,
   "id": "7ab323ee",
   "metadata": {},
   "outputs": [
    {
     "name": "stdout",
     "output_type": "stream",
     "text": [
      "1.6666666666666667\n"
     ]
    }
   ],
   "source": [
    "print(5/3) #10"
   ]
  },
  {
   "cell_type": "code",
   "execution_count": 20,
   "id": "627bc389",
   "metadata": {},
   "outputs": [
    {
     "data": {
      "text/plain": [
       "500000"
      ]
     },
     "execution_count": 20,
     "metadata": {},
     "output_type": "execute_result"
    }
   ],
   "source": [
    "삼성전자 = 50000\n",
    "총평가금액 = 삼성전자 *10\n",
    "총평가금액 #11"
   ]
  },
  {
   "cell_type": "code",
   "execution_count": 21,
   "id": "b780cf76",
   "metadata": {},
   "outputs": [
    {
     "data": {
      "text/plain": [
       "(int, int, float)"
      ]
     },
     "execution_count": 21,
     "metadata": {},
     "output_type": "execute_result"
    }
   ],
   "source": [
    "#12\n",
    "시가총액=2980000000000\n",
    "현재가=50000\n",
    "PER=15.79\n",
    "type(시가총액), type(현재가), type(PER)"
   ]
  },
  {
   "cell_type": "code",
   "execution_count": 25,
   "id": "8351e835",
   "metadata": {},
   "outputs": [
    {
     "name": "stdout",
     "output_type": "stream",
     "text": [
      "hello! python\n"
     ]
    }
   ],
   "source": [
    "#13\n",
    "s = \"hello\"\n",
    "t = \"python\"\n",
    "print(s+\"!\",t)"
   ]
  },
  {
   "cell_type": "code",
   "execution_count": 26,
   "id": "43a19656",
   "metadata": {},
   "outputs": [
    {
     "name": "stdout",
     "output_type": "stream",
     "text": [
      "8\n"
     ]
    }
   ],
   "source": [
    "#14\n",
    "print(2+2*3)"
   ]
  },
  {
   "cell_type": "code",
   "execution_count": 27,
   "id": "e538d5fa",
   "metadata": {},
   "outputs": [
    {
     "data": {
      "text/plain": [
       "str"
      ]
     },
     "execution_count": 27,
     "metadata": {},
     "output_type": "execute_result"
    }
   ],
   "source": [
    "#15\n",
    "a = \"132\"\n",
    "type(a)"
   ]
  },
  {
   "cell_type": "code",
   "execution_count": 29,
   "id": "6696b7b9",
   "metadata": {},
   "outputs": [
    {
     "name": "stdout",
     "output_type": "stream",
     "text": [
      "720 <class 'int'>\n"
     ]
    }
   ],
   "source": [
    "#16\n",
    "num_str=\"720\"\n",
    "num_int=int(num_str)\n",
    "print(num_int, type(num_int))"
   ]
  },
  {
   "cell_type": "code",
   "execution_count": 30,
   "id": "ed97386a",
   "metadata": {},
   "outputs": [
    {
     "name": "stdout",
     "output_type": "stream",
     "text": [
      "100 <class 'str'>\n"
     ]
    }
   ],
   "source": [
    "#17\n",
    "num=100\n",
    "temp = str(num)\n",
    "print(temp, type(temp))"
   ]
  },
  {
   "cell_type": "code",
   "execution_count": 31,
   "id": "332ddab9",
   "metadata": {},
   "outputs": [
    {
     "name": "stdout",
     "output_type": "stream",
     "text": [
      "15.79 <class 'float'>\n"
     ]
    }
   ],
   "source": [
    "#18\n",
    "a = 15.79\n",
    "temp = float(a)\n",
    "print(temp, type(temp))"
   ]
  },
  {
   "cell_type": "code",
   "execution_count": 32,
   "id": "3f899e89",
   "metadata": {},
   "outputs": [
    {
     "name": "stdout",
     "output_type": "stream",
     "text": [
      "2019 2018 2017\n"
     ]
    }
   ],
   "source": [
    "#19\n",
    "year=\"2020\"\n",
    "temp=int(year)\n",
    "print(temp-1,temp-2,temp-3)"
   ]
  },
  {
   "cell_type": "code",
   "execution_count": 33,
   "id": "9c853895",
   "metadata": {},
   "outputs": [
    {
     "name": "stdout",
     "output_type": "stream",
     "text": [
      "1749024\n"
     ]
    }
   ],
   "source": [
    "#20\n",
    "m_ac=48584\n",
    "m_intr=36\n",
    "print(m_ac*m_intr)"
   ]
  },
  {
   "cell_type": "code",
   "execution_count": 34,
   "id": "2ee6b8a9",
   "metadata": {},
   "outputs": [
    {
     "name": "stdout",
     "output_type": "stream",
     "text": [
      "p t\n"
     ]
    }
   ],
   "source": [
    "#21\n",
    "letters='python'\n",
    "print(letters[0],letters[2])"
   ]
  },
  {
   "cell_type": "code",
   "execution_count": 41,
   "id": "65b6cd85",
   "metadata": {},
   "outputs": [
    {
     "name": "stdout",
     "output_type": "stream",
     "text": [
      "2210\n"
     ]
    }
   ],
   "source": [
    "#22\n",
    "license_plate = \"24가 2210\"\n",
    "print(license_plate[4:])"
   ]
  },
  {
   "cell_type": "code",
   "execution_count": 43,
   "id": "b8b5d065",
   "metadata": {},
   "outputs": [
    {
     "name": "stdout",
     "output_type": "stream",
     "text": [
      "홀홀홀\n"
     ]
    }
   ],
   "source": [
    "#23\n",
    "string=\"홀짝홀짝홀짝\"\n",
    "print(string[::2])"
   ]
  },
  {
   "cell_type": "code",
   "execution_count": 44,
   "id": "23488bb4",
   "metadata": {},
   "outputs": [
    {
     "name": "stdout",
     "output_type": "stream",
     "text": [
      "NOHTYP\n"
     ]
    }
   ],
   "source": [
    "#24\n",
    "string=\"PYTHON\"\n",
    "print(string[::-1])"
   ]
  },
  {
   "cell_type": "code",
   "execution_count": 52,
   "id": "9cdd5d6f",
   "metadata": {},
   "outputs": [
    {
     "name": "stdout",
     "output_type": "stream",
     "text": [
      "010 1111 2222\n",
      "01011112222\n"
     ]
    }
   ],
   "source": [
    "#25\n",
    "pn=\"010-1111-2222\"\n",
    "temp1=pn.replace(\"-\",\" \")\n",
    "print(temp1)\n",
    "\n",
    "\n",
    "#26\n",
    "temp2=pn.replace(\"-\",\"\")\n",
    "print(temp2)"
   ]
  },
  {
   "cell_type": "code",
   "execution_count": 51,
   "id": "c526ad28",
   "metadata": {},
   "outputs": [
    {
     "name": "stdout",
     "output_type": "stream",
     "text": [
      "kr\n"
     ]
    }
   ],
   "source": [
    "#27\n",
    "url = \"http://sharebook.kr\"\n",
    "temp=url.split('.')\n",
    "print(temp[-1]) //맨뒤라"
   ]
  },
  {
   "cell_type": "code",
   "execution_count": 54,
   "id": "ec02f49a",
   "metadata": {},
   "outputs": [
    {
     "data": {
      "text/plain": [
       "\"\\n>> lang = 'python'\\n>> lang[0] = 'P'\\n>> print(lang)\\n\\n\""
      ]
     },
     "execution_count": 54,
     "metadata": {},
     "output_type": "execute_result"
    }
   ],
   "source": [
    "#28\n",
    "'''\n",
    ">> lang = 'python'\n",
    ">> lang[0] = 'P'\n",
    ">> print(lang)\n",
    "\n",
    "'''\n",
    "\n",
    "## 오류임. 문자열은 이뮤터블"
   ]
  },
  {
   "cell_type": "code",
   "execution_count": 55,
   "id": "8de3248c",
   "metadata": {},
   "outputs": [
    {
     "name": "stdout",
     "output_type": "stream",
     "text": [
      "Abcdfe2A354A32A\n"
     ]
    }
   ],
   "source": [
    "#29\n",
    "string = 'abcdfe2a354a32a'\n",
    "temp = string.replace('a','A')\n",
    "print(temp)"
   ]
  },
  {
   "cell_type": "code",
   "execution_count": null,
   "id": "bc47c5ff",
   "metadata": {},
   "outputs": [],
   "source": [
    "#30\n",
    "'''\n",
    "아래 코드의 실행 결과를 예상해보세요.\n",
    "\n",
    ">> string = 'abcd'\n",
    ">> string.replace('b', 'B')\n",
    ">> print(string)\n",
    "\n",
    "'''\n",
    "### abcd "
   ]
  },
  {
   "cell_type": "code",
   "execution_count": null,
   "id": "d4b7a8fe",
   "metadata": {},
   "outputs": [],
   "source": [
    "#31\n",
    "'''\n",
    "아래 코드의 실행 결과를 예상해보세요.\n",
    "\n",
    ">> a = \"3\"\n",
    ">> b = \"4\"\n",
    ">> print(a + b)\n",
    "'''\n",
    "### 34"
   ]
  },
  {
   "cell_type": "code",
   "execution_count": 56,
   "id": "6b107b0d",
   "metadata": {},
   "outputs": [
    {
     "name": "stdout",
     "output_type": "stream",
     "text": [
      "HIHIHI\n"
     ]
    }
   ],
   "source": [
    "#32\n",
    "print(\"HI\"*3)\n",
    "### HIHIHI예상"
   ]
  },
  {
   "cell_type": "code",
   "execution_count": 57,
   "id": "90387653",
   "metadata": {},
   "outputs": [
    {
     "name": "stdout",
     "output_type": "stream",
     "text": [
      "--------------------------------------------------------------------------------\n"
     ]
    }
   ],
   "source": [
    "#33\n",
    "print(\"-\"*80)"
   ]
  },
  {
   "cell_type": "code",
   "execution_count": 60,
   "id": "12e474ef",
   "metadata": {},
   "outputs": [
    {
     "name": "stdout",
     "output_type": "stream",
     "text": [
      "python java python java python java \n"
     ]
    }
   ],
   "source": [
    "#34\n",
    "t1= \"python\"\n",
    "t2= \"java\"\n",
    "t3= t1+' '+t2+' '\n",
    "print(t3*3)"
   ]
  },
  {
   "cell_type": "code",
   "execution_count": 65,
   "id": "228588e8",
   "metadata": {},
   "outputs": [
    {
     "name": "stdout",
     "output_type": "stream",
     "text": [
      "이름: 김민수 나이: 10\n",
      "이름: 이철희 나이: 13\n"
     ]
    }
   ],
   "source": [
    "#35\n",
    "n1=\"김민수\"\n",
    "n2=\"이철희\"\n",
    "a1=10\n",
    "a2=13\n",
    "\n",
    "print(\"이름: %s 나이: %d\" % (n1, a1))\n",
    "print(\"이름: %s 나이: %d\" % (n2, a2))"
   ]
  },
  {
   "cell_type": "code",
   "execution_count": 66,
   "id": "c373bd25",
   "metadata": {},
   "outputs": [
    {
     "name": "stdout",
     "output_type": "stream",
     "text": [
      "이름: 김민수 나이: 10\n",
      "이름: 이철희 나이: 13\n"
     ]
    }
   ],
   "source": [
    "#36\n",
    "print(\"이름: {} 나이: {}\".format(n1, a1))\n",
    "print(\"이름: {} 나이: {}\".format(n2, a2))"
   ]
  },
  {
   "cell_type": "code",
   "execution_count": 67,
   "id": "44166306",
   "metadata": {},
   "outputs": [
    {
     "name": "stdout",
     "output_type": "stream",
     "text": [
      "이름: 김민수 나이: 10\n",
      "이름: 이철희 나이: 13\n"
     ]
    }
   ],
   "source": [
    "#37\n",
    "print(f\"이름: {n1} 나이: {a1}\")\n",
    "print(f\"이름: {n2} 나이: {a2}\")"
   ]
  },
  {
   "cell_type": "code",
   "execution_count": 68,
   "id": "0b262b8c",
   "metadata": {},
   "outputs": [
    {
     "name": "stdout",
     "output_type": "stream",
     "text": [
      "5969782550 <class 'int'>\n"
     ]
    }
   ],
   "source": [
    "#38\n",
    "상장주식수 = \"5,969,782,550\"\n",
    "temp = 상장주식수.replace(\",\",\"\")\n",
    "int_stock=int(temp)\n",
    "print(int_stock,type(int_stock))"
   ]
  },
  {
   "cell_type": "code",
   "execution_count": 69,
   "id": "3310b429",
   "metadata": {},
   "outputs": [
    {
     "name": "stdout",
     "output_type": "stream",
     "text": [
      "2020/03\n"
     ]
    }
   ],
   "source": [
    "#39\n",
    "분기 = \"2020/03(E) (IFRS연결)\"\n",
    "print(분기[:7])"
   ]
  },
  {
   "cell_type": "code",
   "execution_count": 71,
   "id": "7c21043c",
   "metadata": {},
   "outputs": [
    {
     "name": "stdout",
     "output_type": "stream",
     "text": [
      "삼성전자\n"
     ]
    }
   ],
   "source": [
    "#40\n",
    "data = \"   삼성전자    \"\n",
    "temp = data.strip()\n",
    "print(temp)"
   ]
  },
  {
   "cell_type": "code",
   "execution_count": 72,
   "id": "73c0e3c6",
   "metadata": {},
   "outputs": [
    {
     "name": "stdout",
     "output_type": "stream",
     "text": [
      "BTC_KRW\n"
     ]
    }
   ],
   "source": [
    "#41\n",
    "ticker = \"btc_krw\"\n",
    "temp = ticker.upper()\n",
    "print(temp)"
   ]
  },
  {
   "cell_type": "code",
   "execution_count": 73,
   "id": "90713123",
   "metadata": {},
   "outputs": [
    {
     "name": "stdout",
     "output_type": "stream",
     "text": [
      "btc_krw\n"
     ]
    }
   ],
   "source": [
    "#42\n",
    "big_temp = temp.lower()\n",
    "print(big_temp)"
   ]
  },
  {
   "cell_type": "code",
   "execution_count": 75,
   "id": "b4f4b855",
   "metadata": {},
   "outputs": [
    {
     "name": "stdout",
     "output_type": "stream",
     "text": [
      "Hello\n"
     ]
    }
   ],
   "source": [
    "#43\n",
    "x=\"hello\"\n",
    "big_x=x.capitalize()\n",
    "print(big_x)"
   ]
  },
  {
   "cell_type": "code",
   "execution_count": 76,
   "id": "0ee2fc9a",
   "metadata": {},
   "outputs": [
    {
     "data": {
      "text/plain": [
       "True"
      ]
     },
     "execution_count": 76,
     "metadata": {},
     "output_type": "execute_result"
    }
   ],
   "source": [
    "#44\n",
    "file_name = \"보고서.xlsx\"\n",
    "file_name.endswith(\"xlsx\") ##TF로나옴"
   ]
  },
  {
   "cell_type": "code",
   "execution_count": 78,
   "id": "8a1218ee",
   "metadata": {},
   "outputs": [
    {
     "data": {
      "text/plain": [
       "True"
      ]
     },
     "execution_count": 78,
     "metadata": {},
     "output_type": "execute_result"
    }
   ],
   "source": [
    "#45\n",
    "file_name.endswith((\"xlsx\", \"xls\")) ##또는"
   ]
  },
  {
   "cell_type": "code",
   "execution_count": 79,
   "id": "f9ca75c6",
   "metadata": {},
   "outputs": [
    {
     "data": {
      "text/plain": [
       "True"
      ]
     },
     "execution_count": 79,
     "metadata": {},
     "output_type": "execute_result"
    }
   ],
   "source": [
    "#46\n",
    "file_name = \"2020_보고서.xlsx\"\n",
    "file_name.startswith(\"2020\")"
   ]
  },
  {
   "cell_type": "code",
   "execution_count": 81,
   "id": "8ce5427d",
   "metadata": {},
   "outputs": [
    {
     "data": {
      "text/plain": [
       "['hello', 'world']"
      ]
     },
     "execution_count": 81,
     "metadata": {},
     "output_type": "execute_result"
    }
   ],
   "source": [
    "#47\n",
    "a = \"hello world\"\n",
    "a.split()"
   ]
  },
  {
   "cell_type": "code",
   "execution_count": 82,
   "id": "c0614d47",
   "metadata": {},
   "outputs": [
    {
     "data": {
      "text/plain": [
       "['btc', 'krw']"
      ]
     },
     "execution_count": 82,
     "metadata": {},
     "output_type": "execute_result"
    }
   ],
   "source": [
    "#48\n",
    "ticker = \"btc_krw\"\n",
    "ticker.split(\"_\")"
   ]
  },
  {
   "cell_type": "code",
   "execution_count": 83,
   "id": "4a9b20c5",
   "metadata": {},
   "outputs": [
    {
     "data": {
      "text/plain": [
       "['2020', '05', '01']"
      ]
     },
     "execution_count": 83,
     "metadata": {},
     "output_type": "execute_result"
    }
   ],
   "source": [
    "#49\n",
    "date = \"2020-05-01\"\n",
    "date.split(\"-\")"
   ]
  },
  {
   "cell_type": "code",
   "execution_count": 84,
   "id": "a6790acc",
   "metadata": {},
   "outputs": [
    {
     "data": {
      "text/plain": [
       "'039490'"
      ]
     },
     "execution_count": 84,
     "metadata": {},
     "output_type": "execute_result"
    }
   ],
   "source": [
    "#50\n",
    "data = \"039490     \"\n",
    "data.rstrip()"
   ]
  },
  {
   "cell_type": "code",
   "execution_count": null,
   "id": "8ef92194",
   "metadata": {},
   "outputs": [],
   "source": [
    "###     TIL과제 끝"
   ]
  }
 ],
 "metadata": {
  "kernelspec": {
   "display_name": "Python 3 (ipykernel)",
   "language": "python",
   "name": "python3"
  },
  "language_info": {
   "codemirror_mode": {
    "name": "ipython",
    "version": 3
   },
   "file_extension": ".py",
   "mimetype": "text/x-python",
   "name": "python",
   "nbconvert_exporter": "python",
   "pygments_lexer": "ipython3",
   "version": "3.11.5"
  }
 },
 "nbformat": 4,
 "nbformat_minor": 5
}
