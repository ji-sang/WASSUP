{
 "cells": [
  {
   "cell_type": "code",
   "execution_count": 2,
   "id": "7652bd56",
   "metadata": {},
   "outputs": [
    {
     "name": "stdout",
     "output_type": "stream",
     "text": [
      "아름\n"
     ]
    }
   ],
   "source": [
    "#251\n",
    "# 클래스는 여러가지 필요한 부품들\n",
    "# 객체는 클래스를 통해 만든 결과물\n",
    "\n",
    "#252\n",
    "class Human:\n",
    "    pass\n",
    "\n",
    "#253\n",
    "areum = Human()\n",
    "\n",
    "#254\n",
    "class Human:\n",
    "    def eaea(self):\n",
    "        print(\"응애응애\")\n",
    "areum = Human()\n",
    "\n",
    "#255\n",
    "class Human:\n",
    "    def __init__(self, name, age, sex):\n",
    "        self.name = name\n",
    "        self.age = age\n",
    "        self.sex = sex\n",
    "\n",
    "areum = Human(\"아름\", 25, \"여자\")\n",
    "print(areum.name)\n",
    "\n"
   ]
  },
  {
   "cell_type": "code",
   "execution_count": 5,
   "id": "e5d14edf",
   "metadata": {},
   "outputs": [
    {
     "name": "stdout",
     "output_type": "stream",
     "text": [
      "25\n"
     ]
    }
   ],
   "source": [
    "#256\n",
    "class Human:\n",
    "    def info(self, name, age, sex):\n",
    "        self.name = name\n",
    "        self.age = age\n",
    "        self.sex = sex\n",
    "\n",
    "areum = Human()\n",
    "areum.info(\"아름\",25,\"여자\")\n",
    "print(areum.age)"
   ]
  },
  {
   "cell_type": "code",
   "execution_count": 9,
   "id": "6119c6c8",
   "metadata": {},
   "outputs": [
    {
     "name": "stdout",
     "output_type": "stream",
     "text": [
      "이름: 아름 나이: 25 성별: 여자\n"
     ]
    }
   ],
   "source": [
    "#257\n",
    "class Human:\n",
    "    def info(self, name, age, sex):\n",
    "        self.name = name\n",
    "        self.age = age\n",
    "        self.sex = sex\n",
    "    \n",
    "    def who(self):\n",
    "        print(f\"이름: {self.name} 나이: {self.age} 성별: {self.sex}\")\n",
    "\n",
    "areum = Human()\n",
    "areum.info(\"아름\", 25, \"여자\")\n",
    "areum.who()"
   ]
  },
  {
   "cell_type": "code",
   "execution_count": 11,
   "id": "01cf6158",
   "metadata": {},
   "outputs": [
    {
     "name": "stdout",
     "output_type": "stream",
     "text": [
      "이름: 아름 나이: 25 성별: 여자\n"
     ]
    }
   ],
   "source": [
    "#258\n",
    "class Human:\n",
    "    def info(self, name, age, sex):\n",
    "        self.name = name\n",
    "        self.age = age\n",
    "        self.sex = sex\n",
    "    \n",
    "    def who(self):\n",
    "        print(f\"이름: {self.name} 나이: {self.age} 성별: {self.sex}\")\n",
    "    \n",
    "    def setInfo(self, name, age, sex):\n",
    "        self.name = name\n",
    "        self.age = age\n",
    "        self.sex = sex\n",
    "        \n",
    "areum = Human()\n",
    "areum.info(\"불명\", \"미상\", \"모름\")\n",
    "areum.setInfo(\"아름\",25,\"여자\")\n",
    "areum.who()"
   ]
  },
  {
   "cell_type": "code",
   "execution_count": 15,
   "id": "b18337af",
   "metadata": {},
   "outputs": [
    {
     "name": "stdout",
     "output_type": "stream",
     "text": [
      "나의 죽음을 알리지 마라\n"
     ]
    }
   ],
   "source": [
    "#259\n",
    "class Human:\n",
    "    def __init__(self, name, age, sex):\n",
    "        self.name = name\n",
    "        self.age = age\n",
    "        self.sex = sex\n",
    "    \n",
    "    def who(self):\n",
    "        print(f\"이름: {self.name} 나이: {self.age} 성별: {self.sex}\")\n",
    "    \n",
    "    def setInfo(self, name, age, sex):\n",
    "        self.name = name\n",
    "        self.age = age\n",
    "        self.sex = sex\n",
    "        \n",
    "    def __del__(self):\n",
    "        print(\"나의 죽음을 알리지 마라\")\n",
    "        \n",
    "areum = Human(\"아름\", 25, \"여자\")\n",
    "del(areum)"
   ]
  },
  {
   "cell_type": "code",
   "execution_count": 18,
   "id": "774421ce",
   "metadata": {},
   "outputs": [
    {
     "name": "stdout",
     "output_type": "stream",
     "text": [
      "삼성전자 005930\n"
     ]
    }
   ],
   "source": [
    "#260\n",
    "# def print()에서 self를 받지 않아서.\n",
    "\n",
    "#261\n",
    "class Stock:\n",
    "    pass\n",
    "\n",
    "#262\n",
    "class Stock:\n",
    "    def __init__(self, name, code):\n",
    "        self.name = name\n",
    "        self.code = code\n",
    "\n",
    "ss = Stock(\"삼성전자\", \"005930\")\n",
    "print(ss.name, ss.code)"
   ]
  },
  {
   "cell_type": "code",
   "execution_count": 19,
   "id": "1d1a4af7",
   "metadata": {},
   "outputs": [
    {
     "name": "stdout",
     "output_type": "stream",
     "text": [
      "삼성전자\n"
     ]
    }
   ],
   "source": [
    "#263\n",
    "class Stock:\n",
    "    def __init__(self, name, code):\n",
    "        self.name = name\n",
    "        self.code = code\n",
    "\n",
    "    def set_name(self, name):\n",
    "        self.name = name\n",
    "        \n",
    "a = Stock(None,None)\n",
    "a.set_name(\"삼성전자\")\n",
    "print(a.name)"
   ]
  },
  {
   "cell_type": "code",
   "execution_count": 20,
   "id": "9e2bdb75",
   "metadata": {},
   "outputs": [
    {
     "name": "stdout",
     "output_type": "stream",
     "text": [
      "005930\n"
     ]
    }
   ],
   "source": [
    "#264\n",
    "class Stock:\n",
    "    def __init__(self, name, code):\n",
    "        self.name = name\n",
    "        self.code = code\n",
    "\n",
    "    def set_name(self, name):\n",
    "        self.name = name\n",
    "\n",
    "    def set_code(self, code):\n",
    "        self.code = code\n",
    "\n",
    "a = Stock(None, None)\n",
    "a.set_code(\"005930\")\n",
    "print(a.code)"
   ]
  },
  {
   "cell_type": "code",
   "execution_count": 21,
   "id": "ffaf0aa4",
   "metadata": {},
   "outputs": [
    {
     "name": "stdout",
     "output_type": "stream",
     "text": [
      "삼성전자 005930 삼성전자 005930\n"
     ]
    }
   ],
   "source": [
    "#265\n",
    "class Stock:\n",
    "    def __init__(self, name, code):\n",
    "        self.name = name\n",
    "        self.code = code\n",
    "\n",
    "    def set_name(self, name):\n",
    "        self.name = name\n",
    "\n",
    "    def set_code(self, code):\n",
    "        self.code = code\n",
    "\n",
    "    def get_name(self):\n",
    "        return self.name\n",
    "\n",
    "    def get_code(self):\n",
    "        return self.code\n",
    "\n",
    "ss = Stock(\"삼성전자\", \"005930\")\n",
    "print(ss.name, ss.code, ss.get_name(),ss.get_code())"
   ]
  },
  {
   "cell_type": "code",
   "execution_count": 25,
   "id": "39cce399",
   "metadata": {},
   "outputs": [
    {
     "name": "stdout",
     "output_type": "stream",
     "text": [
      "15.79 1.33 2.83\n"
     ]
    }
   ],
   "source": [
    "#266\n",
    "class Stock:\n",
    "    def __init__(self, name, code, per, pbr, bds):\n",
    "        self.name = name\n",
    "        self.code = code\n",
    "        self.per = per\n",
    "        self.pbr = pbr\n",
    "        self.bds = bds\n",
    "\n",
    "    def set_name(self, name):\n",
    "        self.name = name\n",
    "\n",
    "    def set_code(self, code):\n",
    "        self.code = code\n",
    "\n",
    "    def get_name(self):\n",
    "        return self.name\n",
    "\n",
    "    def get_code(self):\n",
    "        return self.code\n",
    "    \n",
    "    #267\n",
    "ss = Stock(\"삼성전자\",\"005930\",15.79,1.33,2.83)\n",
    "print(ss.per, ss.pbr, ss. bds)"
   ]
  },
  {
   "cell_type": "code",
   "execution_count": 40,
   "id": "78cf5eda",
   "metadata": {},
   "outputs": [
    {
     "name": "stdout",
     "output_type": "stream",
     "text": [
      "12.75\n"
     ]
    }
   ],
   "source": [
    "#268\n",
    "class Stock:\n",
    "    def __init__(self, name, code, per, pbr, bds):\n",
    "        self.name = name\n",
    "        self.code = code\n",
    "        self.per = per\n",
    "        self.pbr = pbr\n",
    "        self.bds = bds\n",
    "\n",
    "    def set_name(self, name):\n",
    "        self.name = name\n",
    "\n",
    "    def set_code(self, code):\n",
    "        self.code = code\n",
    "\n",
    "    def get_name(self):\n",
    "        return self.name\n",
    "\n",
    "    def get_code(self):\n",
    "        return self.code\n",
    "    \n",
    "    def set_per(self, per):\n",
    "        self.per = per\n",
    "    \n",
    "    def set_pbr(self, pbr):\n",
    "        self.pbr = pbr\n",
    "    \n",
    "    def set_bds(self, bds):\n",
    "        self.bds = bds\n",
    "        \n",
    "ss = Stock(\"삼성전자\",\"005930\",15.79,1.33,2.83)\n",
    "\n",
    "#269\n",
    "ss.set_per(12.75)\n",
    "print(ss.per)\n"
   ]
  },
  {
   "cell_type": "code",
   "execution_count": 44,
   "id": "f779de76",
   "metadata": {},
   "outputs": [
    {
     "name": "stdout",
     "output_type": "stream",
     "text": [
      "005930 15.79\n",
      "005380 8.7\n",
      "066570 317.34\n"
     ]
    }
   ],
   "source": [
    "#270\n",
    "\n",
    "temp = []\n",
    "\n",
    "ss = Stock(\"삼성전자\",\"005930\",15.79,1.33,2.83)\n",
    "temp.append(ss)\n",
    "hd = Stock(\"현대차\",\"005380\",8.70,0.35,4.27)\n",
    "temp.append(hd)\n",
    "lg = Stock(\"LG전자\",\"066570\",317.34,0.69,1.37)\n",
    "temp.append(lg)\n",
    "\n",
    "\n",
    "for i in temp:\n",
    "    print(i.code, i.per)"
   ]
  },
  {
   "cell_type": "code",
   "execution_count": 62,
   "id": "3349fd72",
   "metadata": {},
   "outputs": [
    {
     "name": "stdout",
     "output_type": "stream",
     "text": [
      "오지상 30000000 SC은행 507-57-452592\n",
      "1\n",
      "노현송 50 SC은행 775-91-438414\n",
      "2\n",
      "은행이름 :  SC은행\n",
      "예금주 :  파이썬\n",
      "계좌번호 :  717-51-495377\n",
      "잔고 :  1000\n",
      "은행이름 :  SC은행\n",
      "예금주 :  오지상\n",
      "계좌번호 :  507-57-452592\n",
      "잔고 :  30000000\n"
     ]
    }
   ],
   "source": [
    "#271\n",
    "import random\n",
    "\n",
    "class Account:\n",
    "    \n",
    "    amount_account = 0\n",
    "    \n",
    "    def __init__(self, name, seed):\n",
    "        self.name = name\n",
    "        self.seed = seed\n",
    "        self.bank = \"SC은행\"\n",
    "        \n",
    "        top = random.randint(0,999)\n",
    "        mid = random.randint(0,99)\n",
    "        bot = random.randint(0,999999)\n",
    "        \n",
    "        top = str(top).zfill(3)\n",
    "        mid = str(mid).zfill(2)\n",
    "        bot = str(bot).zfill(6)\n",
    "        self.account_num = top+ \"-\" + mid + \"-\" + bot\n",
    "        #make\n",
    "        Account.amount_account += 1\n",
    "        \n",
    "    #273\n",
    "    def get_account_num(cls):\n",
    "        print(cls.amount_account)\n",
    "        \n",
    "    #274\n",
    "    def deposit(self, in_money):\n",
    "        if in_money >= 1:\n",
    "            self.seed += in_money\n",
    "            \n",
    "            #277\n",
    "            if self.deposit_count %5 ==0:\n",
    "                self.seed = self.seed * 1.01\n",
    "            \n",
    "    #275\n",
    "    def withdraw(self, out_money):\n",
    "        if self.seed >=  out_money:\n",
    "            self.seed -= out_money\n",
    "            \n",
    "    #276\n",
    "    def display_info(self):\n",
    "        print(\"은행이름 : \",self.bank)\n",
    "        print(\"예금주 : \",self.name)\n",
    "        print(\"계좌번호 : \",self.account_num)\n",
    "        print(\"잔고 : \",self.seed)\n",
    "        \n",
    "    \n",
    "\n",
    "\n",
    "\n",
    "temp = []\n",
    "    \n",
    "me = Account(\"오지상\",30000000)\n",
    "print(me.name, me.seed, me.bank, me.account_num)\n",
    "#272\n",
    "me.get_account_num()\n",
    "no = Account(\"노현송\",50)\n",
    "print(no.name, no.seed, no.bank, no.account_num)\n",
    "no.get_account_num()\n",
    "\n",
    "py = Account(\"파이썬\",1000)\n",
    "\n",
    "py.display_info()\n",
    "\n",
    "temp.append(me)\n",
    "temp.append(no)\n",
    "temp.append(py)\n",
    "\n",
    "#279\n",
    "for i in temp:\n",
    "    if i.seed >= 1000000:\n",
    "        i.display_info()\n"
   ]
  },
  {
   "cell_type": "code",
   "execution_count": 63,
   "id": "351b1431",
   "metadata": {},
   "outputs": [
    {
     "name": "stdout",
     "output_type": "stream",
     "text": [
      "100\n",
      "200\n",
      "300\n",
      "100\n",
      "200\n"
     ]
    }
   ],
   "source": [
    "#280\n",
    "import random\n",
    "\n",
    "\n",
    "class Account:\n",
    "    # class variable\n",
    "    account_count = 0\n",
    "\n",
    "    def __init__(self, name, balance):\n",
    "        self.deposit_count = 0\n",
    "        self.deposit_log = []\n",
    "        self.withdraw_log = []\n",
    "\n",
    "        self.name = name\n",
    "        self.balance = balance\n",
    "        self.bank = \"SC은행\"\n",
    "\n",
    "        # 3-2-6\n",
    "        num1 = random.randint(0, 999)\n",
    "        num2 = random.randint(0, 99)\n",
    "        num3 = random.randint(0, 999999)\n",
    "\n",
    "        num1 = str(num1).zfill(3)  # 1 -> '1' -> '001'\n",
    "        num2 = str(num2).zfill(2)  # 1 -> '1' -> '01'\n",
    "        num3 = str(num3).zfill(6)  # 1 -> '1' -> '0000001'\n",
    "        self.account_number = num1 + '-' + num2 + '-' + num3  # 001-01-000001\n",
    "        Account.account_count += 1\n",
    "\n",
    "    @classmethod\n",
    "    def get_account_num(cls):\n",
    "        print(cls.account_count)  # Account.account_count\n",
    "\n",
    "    def deposit(self, amount):\n",
    "        if amount >= 1:\n",
    "            self.deposit_log.append(amount)\n",
    "            self.balance += amount\n",
    "\n",
    "            self.deposit_count += 1\n",
    "            if self.deposit_count % 5 == 0:         # 5, 10, 15\n",
    "                # 이자 지금\n",
    "                self.balance = (self.balance * 1.01)\n",
    "\n",
    "\n",
    "    def withdraw(self, amount):\n",
    "        if self.balance > amount:\n",
    "            self.withdraw_log.append(amount)\n",
    "            self.balance -= amount\n",
    "\n",
    "    def display_info(self):\n",
    "        print(\"은행이름: \", self.bank)\n",
    "        print(\"예금주: \", self.name)\n",
    "        print(\"계좌번호: \", self.account_number)\n",
    "        print(\"잔고: \", self.balance)\n",
    "\n",
    "    def withdraw_history(self):\n",
    "        for amount in self.withdraw_log:\n",
    "            print(amount)\n",
    "\n",
    "    def deposit_history(self):\n",
    "        for amount in self.deposit_log:\n",
    "            print(amount)\n",
    "\n",
    "\n",
    "k = Account(\"Kim\", 1000)\n",
    "k.deposit(100)\n",
    "k.deposit(200)\n",
    "k.deposit(300)\n",
    "k.deposit_history()\n",
    "\n",
    "k.withdraw(100)\n",
    "k.withdraw(200)\n",
    "k.withdraw_history()\n",
    "\n"
   ]
  },
  {
   "cell_type": "code",
   "execution_count": 64,
   "id": "3b36f66f",
   "metadata": {},
   "outputs": [
    {
     "name": "stdout",
     "output_type": "stream",
     "text": [
      "2\n",
      "1000\n"
     ]
    }
   ],
   "source": [
    "#281\n",
    "class 차:\n",
    "    def __init__(self, 바퀴, 가격):\n",
    "        self.바퀴 = 바퀴\n",
    "        self.가격 = 가격\n",
    "\n",
    "\n",
    "car = 차(2, 1000)\n",
    "print(car.바퀴)\n",
    "print(car.가격)"
   ]
  },
  {
   "cell_type": "code",
   "execution_count": 67,
   "id": "dc7fc024",
   "metadata": {},
   "outputs": [
    {
     "name": "stdout",
     "output_type": "stream",
     "text": [
      "100\n"
     ]
    }
   ],
   "source": [
    "#282 - 283\n",
    "class 자전차(차):\n",
    "    def __init__(self,바퀴, 가격):\n",
    "        self.바퀴=바퀴\n",
    "        self.가격=가격\n",
    "        \n",
    "bicycle = 자전차(2,100)\n",
    "print(bicycle.가격)"
   ]
  },
  {
   "cell_type": "code",
   "execution_count": 68,
   "id": "3de6f21f",
   "metadata": {},
   "outputs": [
    {
     "name": "stdout",
     "output_type": "stream",
     "text": [
      "시마노\n"
     ]
    }
   ],
   "source": [
    "#284\n",
    "class 자전차(차):\n",
    "    def __init__(self,바퀴, 가격,구동계):\n",
    "        self.바퀴=바퀴\n",
    "        self.가격=가격\n",
    "        self.구동계=구동계\n",
    "\n",
    "bicycle = 자전차(2,100,\"시마노\")\n",
    "print(bicycle.구동계)"
   ]
  },
  {
   "cell_type": "code",
   "execution_count": 80,
   "id": "1d71adac",
   "metadata": {},
   "outputs": [],
   "source": [
    "#285\n",
    "class 차:\n",
    "    def __init__(self, 바퀴, 가격):\n",
    "        self.바퀴 = 바퀴\n",
    "        self.가격 = 가격\n",
    "        \n",
    "class 자동차(차):\n",
    "    def __init__(self,바퀴,가격):\n",
    "        self.바퀴=바퀴\n",
    "        self.가격=가격\n",
    "    \n",
    "    def 정보(self):\n",
    "        print(\"바퀴수 \", self.바퀴)\n",
    "        print(\"가격 \", self.가격)\n",
    "        \n",
    "\n",
    "class 자전차(차):\n",
    "    def __init__(self, 바퀴, 가격, 구동계):\n",
    "        super().__init__(바퀴, 가격)\n",
    "        self.구동계 = 구동계"
   ]
  },
  {
   "cell_type": "code",
   "execution_count": 81,
   "id": "63fee27c",
   "metadata": {},
   "outputs": [
    {
     "name": "stdout",
     "output_type": "stream",
     "text": [
      "바퀴수  4\n",
      "가격  1000\n"
     ]
    }
   ],
   "source": [
    "car = 자동차(4,1000)\n",
    "car.정보()"
   ]
  },
  {
   "cell_type": "code",
   "execution_count": 83,
   "id": "8888e687",
   "metadata": {},
   "outputs": [
    {
     "name": "stdout",
     "output_type": "stream",
     "text": [
      "바퀴수  2\n",
      "가격  100\n"
     ]
    }
   ],
   "source": [
    "#286\n",
    "class 차:\n",
    "    def __init__(self, 바퀴, 가격):\n",
    "        self.바퀴 = 바퀴\n",
    "        self.가격 = 가격\n",
    "\n",
    "    def 정보(self):\n",
    "        print(\"바퀴수 \", self.바퀴)\n",
    "        print(\"가격 \", self.가격)\n",
    "\n",
    "class 자동차(차):\n",
    "    def __init__(self, 바퀴, 가격):\n",
    "        super().__init__(바퀴, 가격)\n",
    "\n",
    "class 자전차(차):\n",
    "    def __init__(self, 바퀴, 가격, 구동계):\n",
    "        super().__init__(바퀴, 가격)\n",
    "        self.구동계 = 구동계\n",
    "\n",
    "bicycle = 자전차(2, 100, \"시마노\")\n",
    "bicycle.정보()\n"
   ]
  },
  {
   "cell_type": "code",
   "execution_count": 84,
   "id": "f732dcb6",
   "metadata": {},
   "outputs": [
    {
     "name": "stdout",
     "output_type": "stream",
     "text": [
      "바퀴수  2\n",
      "가격  100\n",
      "구동계  시마노\n"
     ]
    }
   ],
   "source": [
    "#287\n",
    "class 차:\n",
    "    def __init__(self, 바퀴, 가격):\n",
    "        self.바퀴 = 바퀴\n",
    "        self.가격 = 가격\n",
    "\n",
    "    def 정보(self):\n",
    "        print(\"바퀴수 \", self.바퀴)\n",
    "        print(\"가격 \", self.가격)\n",
    "\n",
    "class 자동차(차):\n",
    "    def __init__(self, 바퀴, 가격):\n",
    "        super().__init__(바퀴, 가격)\n",
    "\n",
    "class 자전차(차):\n",
    "    def __init__(self, 바퀴, 가격, 구동계):\n",
    "        super().__init__(바퀴, 가격)\n",
    "        self.구동계 = 구동계\n",
    "\n",
    "    def 정보(self):\n",
    "        super().정보()\n",
    "        print(\"구동계 \", self.구동계)\n",
    "\n",
    "bicycle = 자전차(2, 100, \"시마노\")\n",
    "bicycle.정보()"
   ]
  },
  {
   "cell_type": "code",
   "execution_count": null,
   "id": "3173dd34",
   "metadata": {},
   "outputs": [],
   "source": [
    "#288\n",
    "## 자식호출 출력\n",
    "\n",
    "#289\n",
    "## 자식생성 출력\n",
    "\n",
    "#290\n",
    "## 자식생성 \\n 부모생성 출력"
   ]
  }
 ],
 "metadata": {
  "kernelspec": {
   "display_name": "Python 3 (ipykernel)",
   "language": "python",
   "name": "python3"
  },
  "language_info": {
   "codemirror_mode": {
    "name": "ipython",
    "version": 3
   },
   "file_extension": ".py",
   "mimetype": "text/x-python",
   "name": "python",
   "nbconvert_exporter": "python",
   "pygments_lexer": "ipython3",
   "version": "3.11.5"
  }
 },
 "nbformat": 4,
 "nbformat_minor": 5
}
